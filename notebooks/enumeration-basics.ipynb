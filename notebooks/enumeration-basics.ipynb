{
 "cells": [
  {
   "cell_type": "markdown",
   "id": "d9ec0bda-f9b0-44a1-b40e-e3fb1bebc3b2",
   "metadata": {},
   "source": [
    "# **How-To: enumerate molecules from ECFPs**"
   ]
  },
  {
   "cell_type": "markdown",
   "id": "d1c3bebe-685d-4c68-993c-fb174f9b3b9f",
   "metadata": {},
   "source": [
    "In this notebook we show how to enumerate molecules from ECFPs."
   ]
  },
  {
   "cell_type": "code",
   "execution_count": 1,
   "id": "879581ec-bbf4-4d19-8ff3-dd6a536bfa72",
   "metadata": {},
   "outputs": [],
   "source": [
    "from rdkit import Chem\n",
    "from rdkit.Chem import AllChem\n",
    "\n",
    "from molsig.enumerate_signature import enumerate_molecule_from_morgan\n",
    "from molsig.SignatureAlphabet import load_alphabet, SignatureAlphabet"
   ]
  },
  {
   "cell_type": "markdown",
   "id": "b3c2451a-299c-42f8-be81-a88b080031c4",
   "metadata": {},
   "source": [
    "## **Importation of an Alphabet**"
   ]
  },
  {
   "cell_type": "markdown",
   "id": "4c1e4edd-244a-4314-b2b2-ae06efee79c4",
   "metadata": {},
   "source": [
    "To perform the enumeration of a molecule, we first need to import a precomputed Alphabet linking ECFPs with atomic signatures. In this notebook we import an Alphabet precomputed with the molecules of the version 4.4 of the MetaNetX database.\n",
    "\n",
    "To compute an Alphabet from other molecules, we suggest to consult the `creating-alphabet-basics` notebook.\n",
    "\n",
    "We now load an Alphabet."
   ]
  },
  {
   "cell_type": "code",
   "execution_count": null,
   "id": "b2fed97a-a8b0-4afa-bd67-09c01980a882",
   "metadata": {},
   "outputs": [],
   "source": [
    "path_alphabet = \"YOUR_PATH_HERE\"\n",
    "Alphabet = load_alphabet(path_alphabet, verbose=True)"
   ]
  },
  {
   "cell_type": "markdown",
   "id": "60a81e96-9c3c-4bb8-9ed6-dfb65c35a72e",
   "metadata": {},
   "source": [
    "To illustrate the use of the enumeration algorithm, we initialize an Alphabet as follows (we use the `RDKit`’s version 2024.09.3.):"
   ]
  },
  {
   "cell_type": "code",
   "execution_count": 2,
   "id": "1828d07f-8ebf-4066-921a-a89c3c189dcd",
   "metadata": {},
   "outputs": [],
   "source": [
    "Alphabet = SignatureAlphabet(radius=2, nBits=2048, use_stereo=True)\n",
    "Alphabet.Dict = {'1019-1751-1225 ## [C;H0;h0;D3;X3]-[N;H1;h1;D2;X3]-[C;H1;h1;D3;X4:1](-[O;H0;h0;D2;X2]-[c;H0;h0;D3;X3])-[c;H0;h0;D3;X3](:[c;H0;h0;D3;X3]):[c;H1;h1;D2;X3]',\n",
    " '1019-564-759 ## [C;H0;h0;D3;X3]-[C;H0;h0;D4;X4](-[C;H0;h0;D4;X4])(-[Cl;H0;h0;D1;X1])-[C;H1;h1;D3;X4:1](-[Cl;H0;h0;D1;X1])-[C;H0;h0;D4;X4](-[C;H0;h0;D3;X3])(-[C;H1;h1;D3;X4])-[Cl;H0;h0;D1;X1]',\n",
    " '1019-761-939 ## [C;H0;h0;D3;X3]-[C;H0;h0;D4;X4](-[C;H1;h1;D3;X4])(-[Cl;H0;h0;D1;X1])-[C;H1;h1;D3;X4:1](-[C;H0;h0;D4;X4](-[C;H0;h0;D3;X3])(-[C;H1;h1;D3;X4])-[O;H1;h1;D1;X2])-[C;H0;h0;D4;X4](-[C;H0;h0;D4;X4])(-[C;H1;h1;D3;X4])-[O;H1;h1;D1;X2]',\n",
    " '1019-802-1718 ## [C;H0;h0;D4;X4]-[C;H1;h1;D3;X4](-[O;H1;h1;D1;X2])-[C;H1;h1;D3;X4:1](-[C;H1;h1;D2;X3]=[O;H0;h0;D1;X1])-[C;H0;h0;D4;X4](-[C;H0;h0;D4;X4])(-[C;H1;h1;D3;X4])-[O;H1;h1;D1;X2]',\n",
    " '1019-880-1806 ## [C;H0;h0;D3;X3]-[C;H0;h0;D4;X4](-[C;H1;h1;D3;X4])(-[O;H1;h1;D1;X2])-[C;H1;h1;D3;X4:1](-[O;H1;h1;D1;X2])-[C;H1;h1;D3;X4](-[C;H0;h0;D4;X4])-[C;H1;h1;D2;X3]',\n",
    " '1057-841 ## [c;H0;h0;D3;X3]-[O;H0;h0;D2;X2]-[C;H3;h3;D1;X4:1]',\n",
    " '1060-1190-1483 ## [C;H0;h0;D4;X4]-[C;H1;h1;D3;X4](-[C;H0;h0;D4;X4])-[C;H0;h0;D4;X4:1](-[O;H1;h1;D1;X2])(-[C;H0;h0;D3;X3](-[O;H0;h0;D1;X1;-])=[O;H0;h0;D1;X1])-[C;H1;h1;D3;X4](-[C;H1;h1;D3;X4])-[O;H1;h1;D1;X2]',\n",
    " '1060-1708-257 ## [C;H0;h0;D3;X3]-[C;H0;h0;D4;X4](-[C;H1;h1;D3;X4])(-[Cl;H0;h0;D1;X1])-[C;H0;h0;D4;X4:1](-[O;H1;h1;D1;X2])(-[C;H1;h1;D3;X4](-[C;H0;h0;D4;X4])-[C;H0;h0;D4;X4])-[C;H1;h1;D3;X4](-[C;H1;h1;D2;X3])-[C;H1;h1;D3;X4]',\n",
    " '1060-174-422 ## [C;H0;h0;D3;X3]=[C;H0;h0;D3;X3](-[Cl;H0;h0;D1;X1])-[C;H0;h0;D4;X4:1](-[Cl;H0;h0;D1;X1])(-[C;H1;h1;D3;X4](-[C;H0;h0;D4;X4])-[Cl;H0;h0;D1;X1])-[C;H0;h0;D4;X4](-[C;H1;h1;D3;X4])(-[C;H1;h1;D3;X4])-[O;H1;h1;D1;X2]',\n",
    " '1060-496-2017 ## [C;H0;h0;D3;X3]=[C;H0;h0;D3;X3](-[Cl;H0;h0;D1;X1])-[C;H0;h0;D4;X4:1](-[Cl;H0;h0;D1;X1])(-[C;H1;h1;D3;X4](-[C;H0;h0;D4;X4])-[C;H0;h0;D4;X4])-[C;H1;h1;D3;X4](-[C;H0;h0;D4;X4])-[Cl;H0;h0;D1;X1]',\n",
    " '1114-301-570 ## [O;H0;h0;D1;X1]=[C;H0;h0;D3;X3](-[c;H0;h0;D3;X3])-[N;H1;h1;D2;X3:1]-[C;H1;h1;D3;X4](-[O;H0;h0;D2;X2])-[c;H0;h0;D3;X3]',\n",
    " '1380-1027-105 ## [N;H1;h1;D2;X3]-[C;H1;h1;D3;X4](-[O;H0;h0;D2;X2])-[c;H0;h0;D3;X3:1](:[c;H1;h1;D2;X3]:[c;H1;h1;D2;X3]):[c;H0;h0;D3;X3](-[O;H0;h0;D2;X2]):[c;H0;h0;D3;X3]',\n",
    " '1380-1657-313 ## [C;H1;h1;D3;X4]-[N;H1;h1;D2;X3]-[C;H0;h0;D3;X3:1](=[O;H0;h0;D1;X1])-[c;H0;h0;D3;X3](:[c;H0;h0;D3;X3]):[c;H1;h1;D2;X3]',\n",
    " '1380-1905-245 ## [C;H0;h0;D3;X3]-[c;H0;h0;D3;X3](:[c;H1;h1;D2;X3]):[c;H0;h0;D3;X3:1](-[O;H0;h0;D2;X2]-[C;H1;h1;D3;X4]):[c;H1;h1;D2;X3]:[c;H1;h1;D2;X3]',\n",
    " '1380-1970-613 ## [C;H3;h3;D1;X4]-[O;H0;h0;D2;X2]-[c;H0;h0;D3;X3:1](:[c;H1;h1;D2;X3]:[c;H1;h1;D2;X3]):[c;H0;h0;D3;X3](-[O;H0;h0;D2;X2]):[c;H0;h0;D3;X3]',\n",
    " '1380-333-1110 ## [C;H1;h1;D3;X4]-[c;H0;h0;D3;X3](:[c;H1;h1;D2;X3]):[c;H0;h0;D3;X3:1](-[O;H0;h0;D2;X2]-[C;H3;h3;D1;X4]):[c;H0;h0;D3;X3](-[O;H0;h0;D2;X2]):[c;H0;h0;D3;X3]',\n",
    " '1380-333-899 ## [C;H3;h3;D1;X4]-[O;H0;h0;D2;X2]-[c;H0;h0;D3;X3:1](:[c;H0;h0;D3;X3](-[O;H0;h0;D2;X2]):[c;H0;h0;D3;X3]):[c;H0;h0;D3;X3](-[O;H0;h0;D2;X2]):[c;H1;h1;D2;X3]',\n",
    " '1380-352-684 ## [N;H1;h1;D2;X3]-[C;H0;h0;D3;X3](=[O;H0;h0;D1;X1])-[c;H0;h0;D3;X3:1](:[c;H1;h1;D2;X3]:[c;H1;h1;D2;X3]):[c;H0;h0;D3;X3](-[O;H0;h0;D2;X2]):[c;H1;h1;D2;X3]',\n",
    " '1380-668-1930 ## [C;H0;h0;D4;X4]-[C;H0;h0;D3;X3](-[Cl;H0;h0;D1;X1])=[C;H0;h0;D3;X3:1](-[Cl;H0;h0;D1;X1])-[C;H0;h0;D4;X4](-[C;H0;h0;D4;X4])(-[C;H1;h1;D3;X4])-[Cl;H0;h0;D1;X1]',\n",
    " '1380-668-469 ## [C;H0;h0;D4;X4]-[C;H0;h0;D3;X3](-[Cl;H0;h0;D1;X1])=[C;H0;h0;D3;X3:1](-[Cl;H0;h0;D1;X1])-[C;H0;h0;D4;X4](-[C;H1;h1;D3;X4])(-[C;H1;h1;D3;X4])-[Cl;H0;h0;D1;X1]',\n",
    " '1683-113 ## [C;H0;h0;D3;X3]-[C;H0;h0;D4;X4](-[C;H0;h0;D4;X4])(-[C;H1;h1;D3;X4])-[Cl;H0;h0;D1;X1:1]',\n",
    " '1683-113 ## [C;H0;h0;D3;X3]-[C;H0;h0;D4;X4](-[C;H1;h1;D3;X4])(-[C;H1;h1;D3;X4])-[Cl;H0;h0;D1;X1:1]',\n",
    " '1683-1960 ## [C;H0;h0;D4;X4]-[C;H1;h1;D3;X4](-[C;H0;h0;D4;X4])-[Cl;H0;h0;D1;X1:1]',\n",
    " '1683-561 ## [C;H0;h0;D3;X3]=[C;H0;h0;D3;X3](-[C;H0;h0;D4;X4])-[Cl;H0;h0;D1;X1:1]',\n",
    " '1873-1088-1199 ## [c;H0;h0;D3;X3]:[c;H1;h1;D2;X3]:[c;H1;h1;D2;X3:1]:[c;H1;h1;D2;X3]:[c;H1;h1;D2;X3]',\n",
    " '1873-1750-1039 ## [C;H1;h1;D3;X4]-[c;H0;h0;D3;X3](:[c;H0;h0;D3;X3]):[c;H1;h1;D2;X3:1]:[c;H1;h1;D2;X3]:[c;H0;h0;D3;X3]',\n",
    " '1873-1750-1481 ## [O;H0;h0;D2;X2]-[c;H0;h0;D3;X3](:[c;H0;h0;D3;X3]):[c;H1;h1;D2;X3:1]:[c;H1;h1;D2;X3]:[c;H1;h1;D2;X3]',\n",
    " '1873-1750-94 ## [O;H0;h0;D2;X2]-[c;H0;h0;D3;X3](:[c;H0;h0;D3;X3]):[c;H1;h1;D2;X3:1]:[c;H1;h1;D2;X3]:[c;H0;h0;D3;X3]',\n",
    " '1873-1750-984 ## [C;H0;h0;D3;X3]-[c;H0;h0;D3;X3](:[c;H0;h0;D3;X3]):[c;H1;h1;D2;X3:1]:[c;H1;h1;D2;X3]:[c;H1;h1;D2;X3]',\n",
    " '650-1004 ## [C;H1;h1;D3;X4]-[C;H1;h1;D2;X3]=[O;H0;h0;D1;X1:1]',\n",
    " '650-1917 ## [C;H0;h0;D4;X4]-[C;H0;h0;D3;X3](-[O;H0;h0;D1;X1;-])=[O;H0;h0;D1;X1:1]',\n",
    " '650-314 ## [N;H1;h1;D2;X3]-[C;H0;h0;D3;X3](-[c;H0;h0;D3;X3])=[O;H0;h0;D1;X1:1]',\n",
    " '656-750-1611 ## [N;H1;h1;D2;X3]-[C;H1;h1;D3;X4](-[c;H0;h0;D3;X3])-[O;H0;h0;D2;X2:1]-[c;H0;h0;D3;X3](:[c;H0;h0;D3;X3]):[c;H1;h1;D2;X3]',\n",
    " '694-1136-34 ## [C;H0;h0;D4;X4]-[C;H1;h1;D3;X4](-[C;H1;h1;D3;X4])-[C;H1;h1;D2;X3:1]=[O;H0;h0;D1;X1]',\n",
    " '695-1536-1599 ## [C;H3;h3;D1;X4]-[O;H0;h0;D2;X2:1]-[c;H0;h0;D3;X3](:[c;H0;h0;D3;X3]):[c;H0;h0;D3;X3]',\n",
    " '695-1536-249 ## [C;H3;h3;D1;X4]-[O;H0;h0;D2;X2:1]-[c;H0;h0;D3;X3](:[c;H0;h0;D3;X3]):[c;H1;h1;D2;X3]',\n",
    " '715-1226 ## [C;H0;h0;D4;X4]-[C;H0;h0;D3;X3](=[O;H0;h0;D1;X1])-[O;H0;h0;D1;X1;-:1]',\n",
    " '807-1154 ## [C;H0;h0;D3;X3]-[C;H0;h0;D4;X4](-[C;H1;h1;D3;X4])(-[C;H1;h1;D3;X4])-[O;H1;h1;D1;X2:1]',\n",
    " '807-1154 ## [C;H0;h0;D4;X4]-[C;H0;h0;D4;X4](-[C;H1;h1;D3;X4])(-[C;H1;h1;D3;X4])-[O;H1;h1;D1;X2:1]',\n",
    " '807-1257 ## [C;H0;h0;D4;X4]-[C;H1;h1;D3;X4](-[C;H1;h1;D3;X4])-[O;H1;h1;D1;X2:1]',\n",
    " '807-1872-755 ## [C;H1;h1;D3;X4]-[C;H0;h0;D4;X4](-[C;H1;h1;D3;X4])(-[O;H1;h1;D1;X2])-[C;H0;h0;D3;X3:1](-[O;H0;h0;D1;X1;-])=[O;H0;h0;D1;X1]'}"
   ]
  },
  {
   "cell_type": "markdown",
   "id": "579e1d5a-02e8-4a5f-9a58-a11688657410",
   "metadata": {},
   "source": [
    "## **Fingerprint representation function**"
   ]
  },
  {
   "cell_type": "markdown",
   "id": "3d8a7dfd-4dfd-4737-9f01-55720293f0a0",
   "metadata": {},
   "source": [
    "We import from `AllChem` the ECFP representation function and impose the same parameters than the one used when computing the Alphabet."
   ]
  },
  {
   "cell_type": "code",
   "execution_count": 3,
   "id": "c865eea4-95ee-46ab-90df-5ef55eea330d",
   "metadata": {},
   "outputs": [],
   "source": [
    "fpgen = AllChem.GetMorganGenerator(radius=Alphabet.radius, fpSize=Alphabet.nBits, includeChirality=Alphabet.use_stereo)"
   ]
  },
  {
   "cell_type": "markdown",
   "id": "34f735cd-5a9a-4c97-bb2b-b5b7818f1006",
   "metadata": {},
   "source": [
    "## **Enumeration of molecules from an ECFP**"
   ]
  },
  {
   "cell_type": "markdown",
   "id": "fa4e0f2d-dfd6-4f58-89b5-46804d33e122",
   "metadata": {},
   "source": [
    "In this example we consider the ECFP of the following molecule."
   ]
  },
  {
   "cell_type": "code",
   "execution_count": 4,
   "id": "de1e628f-85b8-4ec9-972e-a068601bed71",
   "metadata": {},
   "outputs": [],
   "source": [
    "smi = \"COc1ccc([C@@H]2NC(=O)c3ccccc3O2)c(OC)c1OC\""
   ]
  },
  {
   "cell_type": "code",
   "execution_count": 5,
   "id": "25ce5e82-86fe-435d-a83d-74d810ae9433",
   "metadata": {},
   "outputs": [
    {
     "data": {
      "image/png": "[encoded data removed]",
      "text/plain": [
       "<rdkit.Chem.rdchem.Mol at 0x20e3d9fb4c0>"
      ]
     },
     "execution_count": 5,
     "metadata": {},
     "output_type": "execute_result"
    }
   ],
   "source": [
    "mol = Chem.MolFromSmiles(smi)\n",
    "mol"
   ]
  },
  {
   "cell_type": "markdown",
   "id": "5925915d-2f4d-4a2c-a310-b78fff327ef2",
   "metadata": {},
   "source": [
    "We compute its ECFP representation."
   ]
  },
  {
   "cell_type": "code",
   "execution_count": 6,
   "id": "1de4ee8f-a1c9-406f-a84c-058a321e108d",
   "metadata": {},
   "outputs": [],
   "source": [
    "morgan = fpgen.GetCountFingerprint(mol).ToList()"
   ]
  },
  {
   "cell_type": "markdown",
   "id": "301805b1-d3f9-42b7-9962-750a3c6fb197",
   "metadata": {},
   "source": [
    "We now perform the enumeration of the molecules having the same ECFP than the input ECFP using the `enumerate_molecule_from_morgan` function."
   ]
  },
  {
   "cell_type": "code",
   "execution_count": 7,
   "id": "b60e98f8-af57-4905-b85d-19f3efbfd9ba",
   "metadata": {},
   "outputs": [],
   "source": [
    "Ssig, Smol, Nsig, thresholds_reached, computational_times = enumerate_molecule_from_morgan(morgan, Alphabet)"
   ]
  },
  {
   "cell_type": "markdown",
   "id": "a2cacdfc-9a28-4ed1-9a50-1a78ea547ca4",
   "metadata": {},
   "source": [
    "We briefly explain the ouputs of the enumeration:\n",
    "\n",
    "- The set `Smol` is composed of the enumerated molecules.\n",
    "- The set `Ssig` is composed of the enumerated molecular signatures.\n",
    "- The integer `Nsig` gives the number of intermediate molecular signatures that gave rise to molecules.\n",
    "- The list `thresholds_reached` is composed of 3 booleans informing is any threshold has been reached (partition, recursion, stereoisomer thresholds).\n",
    "- The list `computational_times` is composed of 5 floats giving the computational times of the enumeration steps (enum ecfp to sig, enum sig to mol, enum ecfp to mol, diophantine system solving)."
   ]
  },
  {
   "cell_type": "markdown",
   "id": "b4797f14-b32e-4324-8f51-6b05728e0031",
   "metadata": {},
   "source": [
    "In this example only the original molecule has been found:"
   ]
  },
  {
   "cell_type": "code",
   "execution_count": 8,
   "id": "038216bb-469d-4d3c-b03d-e7f7edd4defa",
   "metadata": {},
   "outputs": [
    {
     "data": {
      "text/plain": [
       "{'COc1ccc([C@@H]2NC(=O)c3ccccc3O2)c(OC)c1OC'}"
      ]
     },
     "execution_count": 8,
     "metadata": {},
     "output_type": "execute_result"
    }
   ],
   "source": [
    "Smol"
   ]
  },
  {
   "cell_type": "markdown",
   "id": "e1d39dea-a32e-496b-9bc8-319178b22f40",
   "metadata": {},
   "source": [
    "## **Example producing a lot of molecules**"
   ]
  },
  {
   "cell_type": "markdown",
   "id": "c23558f5-c167-4946-b4b5-5f2bc8090683",
   "metadata": {},
   "source": [
    "We now show an example of an ECFP that enumerates a lot of molecules with the same ECFP representation. To that end we import an Alphabet constructed from the MetaNetX database, available on ZENODO_LINK."
   ]
  },
  {
   "cell_type": "code",
   "execution_count": 9,
   "id": "86836a04-83db-459b-9457-dfe0e68d66e6",
   "metadata": {},
   "outputs": [
    {
     "name": "stdout",
     "output_type": "stream",
     "text": [
      "filename: C:/Users/meyerp/Documents/INRAE/Datasets/new/alphabets/metanetx_alphabet.npz\n",
      "radius: 2\n",
      "nBits: 2048\n",
      "use_stereo: True\n",
      "alphabet length: 227717\n"
     ]
    }
   ],
   "source": [
    "path_alphabet = \"YOUR_PATH_HERE\"\n",
    "Alphabet = load_alphabet(path_alphabet, verbose=True)"
   ]
  },
  {
   "cell_type": "markdown",
   "id": "620284dc-3e3d-4980-96a6-231e809a3c97",
   "metadata": {},
   "source": [
    "We now consider the following molecule:"
   ]
  },
  {
   "cell_type": "code",
   "execution_count": 10,
   "id": "ca1a236b-4c93-4931-beb5-7bb71ecc6ba6",
   "metadata": {},
   "outputs": [
    {
     "data": {
      "image/png": "[encoded data removed]",
      "text/plain": [
       "<rdkit.Chem.rdchem.Mol at 0x20e29f5bd10>"
      ]
     },
     "execution_count": 10,
     "metadata": {},
     "output_type": "execute_result"
    }
   ],
   "source": [
    "smi = \"C=C1CC[C@H]2[C@]3(C)CC[C@H]4C(C)(C)CCC[C@]4(C)[C@H]3CC[C@]2(C)[C@H]1CO\"\n",
    "mol = Chem.MolFromSmiles(smi)\n",
    "mol"
   ]
  },
  {
   "cell_type": "markdown",
   "id": "cf4965a4-e1e6-412c-bee7-ef4f4d38cb4e",
   "metadata": {},
   "source": [
    "We compute its ECFP vector."
   ]
  },
  {
   "cell_type": "code",
   "execution_count": 11,
   "id": "de25eda0-ea0c-46c4-8a61-7bea6de73a6d",
   "metadata": {},
   "outputs": [],
   "source": [
    "morgan = fpgen.GetCountFingerprint(mol).ToList()"
   ]
  },
  {
   "cell_type": "markdown",
   "id": "05926f4d-b67c-438b-8315-cab2a7a00779",
   "metadata": {},
   "source": [
    "We apply the enumeration on the ECFP and obtain several molecules having the same ECFP representation."
   ]
  },
  {
   "cell_type": "code",
   "execution_count": 12,
   "id": "6d7a06c4-a8d9-407d-96e9-a89dd8608f70",
   "metadata": {},
   "outputs": [],
   "source": [
    "Ssig, Smol, Nsig, thresholds_reached, computational_times = enumerate_molecule_from_morgan(morgan, Alphabet)"
   ]
  },
  {
   "cell_type": "code",
   "execution_count": 13,
   "id": "e587a9e7-9948-4978-91f0-e810d30ae59b",
   "metadata": {
    "scrolled": true
   },
   "outputs": [
    {
     "data": {
      "text/plain": [
       "{'C=C1CC[C@@H]2[C@@](C)(CCCC(C)(C)[C@@H]3CC[C@@]23C)[C@@H]2CC[C@]2(C)[C@H]1CO',\n",
       " 'C=C1CC[C@@H]2[C@@](C)(CCCC(C)(C)[C@@H]3CC[C@@]23C)[C@H]2CC[C@]2(C)[C@H]1CO',\n",
       " 'C=C1CC[C@@H]2[C@@](C)(CCCC(C)(C)[C@@H]3CC[C@]23C)[C@@H]2CC[C@]2(C)[C@H]1CO',\n",
       " 'C=C1CC[C@@H]2[C@@](C)(CCCC(C)(C)[C@@H]3CC[C@]23C)[C@H]2CC[C@]2(C)[C@H]1CO',\n",
       " 'C=C1CC[C@@H]2[C@@](C)(CCCC(C)(C)[C@@H]3CC[C@]3(C)[C@H]1CO)[C@@H]1CC[C@@]21C',\n",
       " 'C=C1CC[C@@H]2[C@@](C)(CCCC(C)(C)[C@@H]3CC[C@]3(C)[C@H]1CO)[C@@H]1CC[C@]21C',\n",
       " 'C=C1CC[C@@H]2[C@@](C)(CCCC(C)(C)[C@@H]3CC[C@]3(C)[C@H]1CO)[C@H]1CC[C@@]21C',\n",
       " 'C=C1CC[C@@H]2[C@@](C)(CCCC(C)(C)[C@@H]3CC[C@]3(C)[C@H]1CO)[C@H]1CC[C@]21C',\n",
       " 'C=C1CC[C@@H]2[C@@](C)(CC[C@H]3C(C)(C)CCC[C@@]23C)[C@@H]2CC[C@]2(C)[C@H]1CO',\n",
       " 'C=C1CC[C@@H]2[C@@](C)(CC[C@H]3C(C)(C)CCC[C@@]23C)[C@H]2CC[C@]2(C)[C@H]1CO',\n",
       " 'C=C1CC[C@@H]2[C@@](C)(CC[C@H]3C(C)(C)CCC[C@]23C)[C@@H]2CC[C@]2(C)[C@H]1CO',\n",
       " 'C=C1CC[C@@H]2[C@@](C)(CC[C@H]3C(C)(C)CCC[C@]23C)[C@H]2CC[C@]2(C)[C@H]1CO',\n",
       " 'C=C1CC[C@@H]2[C@@]3(C)CCCC(C)(C)[C@@H]4CC[C@@](C)([C@@H]3CC[C@@]24C)[C@H]1CO',\n",
       " 'C=C1CC[C@@H]2[C@@]3(C)CCCC(C)(C)[C@@H]4CC[C@@](C)([C@@H]3CC[C@]24C)[C@H]1CO',\n",
       " 'C=C1CC[C@@H]2[C@@]3(C)CCCC(C)(C)[C@@H]4CC[C@@](C)([C@H]3CC[C@@]24C)[C@H]1CO',\n",
       " 'C=C1CC[C@@H]2[C@@]3(C)CCCC(C)(C)[C@@H]4CC[C@@](C)([C@H]3CC[C@]24C)[C@H]1CO',\n",
       " 'C=C1CC[C@@H]2[C@@]3(C)CCCC(C)(C)[C@@H]4CC[C@@]2(C)[C@@H]3CC[C@]4(C)[C@H]1CO',\n",
       " 'C=C1CC[C@@H]2[C@@]3(C)CCCC(C)(C)[C@@H]4CC[C@@]2(C)[C@H]3CC[C@]4(C)[C@H]1CO',\n",
       " 'C=C1CC[C@@H]2[C@@]3(C)CCCC(C)(C)[C@@H]4CC[C@]2(C)[C@@H]3CC[C@]4(C)[C@H]1CO',\n",
       " 'C=C1CC[C@@H]2[C@@]3(C)CCCC(C)(C)[C@@H]4CC[C@]2(C)[C@H]3CC[C@]4(C)[C@H]1CO',\n",
       " 'C=C1CC[C@@H]2[C@@]3(C)CC[C@@H]3[C@@]2(C)CC[C@H]2C(C)(C)CCC[C@]2(C)[C@H]1CO',\n",
       " 'C=C1CC[C@@H]2[C@@]3(C)CC[C@@H]3[C@](C)(CCCC(C)(C)[C@@H]3CC[C@@]23C)[C@H]1CO',\n",
       " 'C=C1CC[C@@H]2[C@@]3(C)CC[C@@H]3[C@](C)(CCCC(C)(C)[C@@H]3CC[C@]23C)[C@H]1CO',\n",
       " 'C=C1CC[C@@H]2[C@@]3(C)CC[C@@H]3[C@](C)(CC[C@H]3C(C)(C)CCC[C@@]23C)[C@H]1CO',\n",
       " 'C=C1CC[C@@H]2[C@@]3(C)CC[C@@H]3[C@](C)(CC[C@H]3C(C)(C)CCC[C@]23C)[C@H]1CO',\n",
       " 'C=C1CC[C@@H]2[C@@]3(C)CC[C@@H]3[C@]2(C)CC[C@H]2C(C)(C)CCC[C@]2(C)[C@H]1CO',\n",
       " 'C=C1CC[C@@H]2[C@@]3(C)CC[C@H]3[C@@]2(C)CC[C@H]2C(C)(C)CCC[C@]2(C)[C@H]1CO',\n",
       " 'C=C1CC[C@@H]2[C@@]3(C)CC[C@H]3[C@](C)(CCCC(C)(C)[C@@H]3CC[C@@]23C)[C@H]1CO',\n",
       " 'C=C1CC[C@@H]2[C@@]3(C)CC[C@H]3[C@](C)(CCCC(C)(C)[C@@H]3CC[C@]23C)[C@H]1CO',\n",
       " 'C=C1CC[C@@H]2[C@@]3(C)CC[C@H]3[C@](C)(CC[C@H]3C(C)(C)CCC[C@@]23C)[C@H]1CO',\n",
       " 'C=C1CC[C@@H]2[C@@]3(C)CC[C@H]3[C@](C)(CC[C@H]3C(C)(C)CCC[C@]23C)[C@H]1CO',\n",
       " 'C=C1CC[C@@H]2[C@@]3(C)CC[C@H]3[C@]2(C)CC[C@H]2C(C)(C)CCC[C@]2(C)[C@H]1CO',\n",
       " 'C=C1CC[C@@H]2[C@@]3(C)CC[C@H]4C(C)(C)CCC[C@@](C)([C@@H]3CC[C@@]24C)[C@H]1CO',\n",
       " 'C=C1CC[C@@H]2[C@@]3(C)CC[C@H]4C(C)(C)CCC[C@@](C)([C@@H]3CC[C@]24C)[C@H]1CO',\n",
       " 'C=C1CC[C@@H]2[C@@]3(C)CC[C@H]4C(C)(C)CCC[C@@](C)([C@H]3CC[C@@]24C)[C@H]1CO',\n",
       " 'C=C1CC[C@@H]2[C@@]3(C)CC[C@H]4C(C)(C)CCC[C@@](C)([C@H]3CC[C@]24C)[C@H]1CO',\n",
       " 'C=C1CC[C@@H]2[C@](C)(CCCC(C)(C)[C@@H]3CC[C@@]23C)[C@@H]2CC[C@]2(C)[C@H]1CO',\n",
       " 'C=C1CC[C@@H]2[C@](C)(CCCC(C)(C)[C@@H]3CC[C@@]23C)[C@H]2CC[C@]2(C)[C@H]1CO',\n",
       " 'C=C1CC[C@@H]2[C@](C)(CCCC(C)(C)[C@@H]3CC[C@]23C)[C@@H]2CC[C@]2(C)[C@H]1CO',\n",
       " 'C=C1CC[C@@H]2[C@](C)(CCCC(C)(C)[C@@H]3CC[C@]23C)[C@H]2CC[C@]2(C)[C@H]1CO',\n",
       " 'C=C1CC[C@@H]2[C@](C)(CCCC(C)(C)[C@@H]3CC[C@]3(C)[C@H]1CO)[C@@H]1CC[C@@]21C',\n",
       " 'C=C1CC[C@@H]2[C@](C)(CCCC(C)(C)[C@@H]3CC[C@]3(C)[C@H]1CO)[C@@H]1CC[C@]21C',\n",
       " 'C=C1CC[C@@H]2[C@](C)(CCCC(C)(C)[C@@H]3CC[C@]3(C)[C@H]1CO)[C@H]1CC[C@@]21C',\n",
       " 'C=C1CC[C@@H]2[C@](C)(CCCC(C)(C)[C@@H]3CC[C@]3(C)[C@H]1CO)[C@H]1CC[C@]21C',\n",
       " 'C=C1CC[C@@H]2[C@](C)(CC[C@H]3C(C)(C)CCC[C@@]23C)[C@@H]2CC[C@]2(C)[C@H]1CO',\n",
       " 'C=C1CC[C@@H]2[C@](C)(CC[C@H]3C(C)(C)CCC[C@@]23C)[C@H]2CC[C@]2(C)[C@H]1CO',\n",
       " 'C=C1CC[C@@H]2[C@](C)(CC[C@H]3C(C)(C)CCC[C@]23C)[C@@H]2CC[C@]2(C)[C@H]1CO',\n",
       " 'C=C1CC[C@@H]2[C@](C)(CC[C@H]3C(C)(C)CCC[C@]23C)[C@H]2CC[C@]2(C)[C@H]1CO',\n",
       " 'C=C1CC[C@@H]2[C@]3(C)CCCC(C)(C)[C@@H]4CC[C@@](C)([C@@H]3CC[C@@]24C)[C@H]1CO',\n",
       " 'C=C1CC[C@@H]2[C@]3(C)CCCC(C)(C)[C@@H]4CC[C@@](C)([C@@H]3CC[C@]24C)[C@H]1CO',\n",
       " 'C=C1CC[C@@H]2[C@]3(C)CCCC(C)(C)[C@@H]4CC[C@@](C)([C@H]3CC[C@@]24C)[C@H]1CO',\n",
       " 'C=C1CC[C@@H]2[C@]3(C)CCCC(C)(C)[C@@H]4CC[C@@](C)([C@H]3CC[C@]24C)[C@H]1CO',\n",
       " 'C=C1CC[C@@H]2[C@]3(C)CCCC(C)(C)[C@@H]4CC[C@@]2(C)[C@@H]3CC[C@]4(C)[C@H]1CO',\n",
       " 'C=C1CC[C@@H]2[C@]3(C)CCCC(C)(C)[C@@H]4CC[C@@]2(C)[C@H]3CC[C@]4(C)[C@H]1CO',\n",
       " 'C=C1CC[C@@H]2[C@]3(C)CCCC(C)(C)[C@@H]4CC[C@]2(C)[C@@H]3CC[C@]4(C)[C@H]1CO',\n",
       " 'C=C1CC[C@@H]2[C@]3(C)CCCC(C)(C)[C@@H]4CC[C@]2(C)[C@H]3CC[C@]4(C)[C@H]1CO',\n",
       " 'C=C1CC[C@@H]2[C@]3(C)CC[C@@H]3[C@@]2(C)CC[C@H]2C(C)(C)CCC[C@]2(C)[C@H]1CO',\n",
       " 'C=C1CC[C@@H]2[C@]3(C)CC[C@@H]3[C@](C)(CCCC(C)(C)[C@@H]3CC[C@@]23C)[C@H]1CO',\n",
       " 'C=C1CC[C@@H]2[C@]3(C)CC[C@@H]3[C@](C)(CCCC(C)(C)[C@@H]3CC[C@]23C)[C@H]1CO',\n",
       " 'C=C1CC[C@@H]2[C@]3(C)CC[C@@H]3[C@](C)(CC[C@H]3C(C)(C)CCC[C@@]23C)[C@H]1CO',\n",
       " 'C=C1CC[C@@H]2[C@]3(C)CC[C@@H]3[C@](C)(CC[C@H]3C(C)(C)CCC[C@]23C)[C@H]1CO',\n",
       " 'C=C1CC[C@@H]2[C@]3(C)CC[C@@H]3[C@]2(C)CC[C@H]2C(C)(C)CCC[C@]2(C)[C@H]1CO',\n",
       " 'C=C1CC[C@@H]2[C@]3(C)CC[C@H]3[C@@]2(C)CC[C@H]2C(C)(C)CCC[C@]2(C)[C@H]1CO',\n",
       " 'C=C1CC[C@@H]2[C@]3(C)CC[C@H]3[C@](C)(CCCC(C)(C)[C@@H]3CC[C@@]23C)[C@H]1CO',\n",
       " 'C=C1CC[C@@H]2[C@]3(C)CC[C@H]3[C@](C)(CCCC(C)(C)[C@@H]3CC[C@]23C)[C@H]1CO',\n",
       " 'C=C1CC[C@@H]2[C@]3(C)CC[C@H]3[C@](C)(CC[C@H]3C(C)(C)CCC[C@@]23C)[C@H]1CO',\n",
       " 'C=C1CC[C@@H]2[C@]3(C)CC[C@H]3[C@](C)(CC[C@H]3C(C)(C)CCC[C@]23C)[C@H]1CO',\n",
       " 'C=C1CC[C@@H]2[C@]3(C)CC[C@H]3[C@]2(C)CC[C@H]2C(C)(C)CCC[C@]2(C)[C@H]1CO',\n",
       " 'C=C1CC[C@@H]2[C@]3(C)CC[C@H]4C(C)(C)CCC[C@@](C)([C@@H]3CC[C@@]24C)[C@H]1CO',\n",
       " 'C=C1CC[C@@H]2[C@]3(C)CC[C@H]4C(C)(C)CCC[C@@](C)([C@@H]3CC[C@]24C)[C@H]1CO',\n",
       " 'C=C1CC[C@@H]2[C@]3(C)CC[C@H]4C(C)(C)CCC[C@@](C)([C@H]3CC[C@@]24C)[C@H]1CO',\n",
       " 'C=C1CC[C@@H]2[C@]3(C)CC[C@H]4C(C)(C)CCC[C@@](C)([C@H]3CC[C@]24C)[C@H]1CO',\n",
       " 'C=C1CC[C@H]2C(C)(C)CCC[C@@](C)([C@@H]3CC[C@@]2(C)[C@@H]2CC[C@@]32C)[C@H]1CO',\n",
       " 'C=C1CC[C@H]2C(C)(C)CCC[C@@](C)([C@@H]3CC[C@@]2(C)[C@@H]2CC[C@]32C)[C@H]1CO',\n",
       " 'C=C1CC[C@H]2C(C)(C)CCC[C@@](C)([C@@H]3CC[C@@]2(C)[C@H]2CC[C@@]32C)[C@H]1CO',\n",
       " 'C=C1CC[C@H]2C(C)(C)CCC[C@@](C)([C@@H]3CC[C@@]2(C)[C@H]2CC[C@]32C)[C@H]1CO',\n",
       " 'C=C1CC[C@H]2C(C)(C)CCC[C@@](C)([C@@H]3CC[C@@]3(C)[C@@H]3CC[C@@]32C)[C@H]1CO',\n",
       " 'C=C1CC[C@H]2C(C)(C)CCC[C@@](C)([C@@H]3CC[C@@]3(C)[C@@H]3CC[C@]32C)[C@H]1CO',\n",
       " 'C=C1CC[C@H]2C(C)(C)CCC[C@@](C)([C@@H]3CC[C@@]3(C)[C@H]3CC[C@@]32C)[C@H]1CO',\n",
       " 'C=C1CC[C@H]2C(C)(C)CCC[C@@](C)([C@@H]3CC[C@@]3(C)[C@H]3CC[C@]32C)[C@H]1CO',\n",
       " 'C=C1CC[C@H]2C(C)(C)CCC[C@@](C)([C@@H]3CC[C@]2(C)[C@@H]2CC[C@@]32C)[C@H]1CO',\n",
       " 'C=C1CC[C@H]2C(C)(C)CCC[C@@](C)([C@@H]3CC[C@]2(C)[C@@H]2CC[C@]32C)[C@H]1CO',\n",
       " 'C=C1CC[C@H]2C(C)(C)CCC[C@@](C)([C@@H]3CC[C@]2(C)[C@H]2CC[C@@]32C)[C@H]1CO',\n",
       " 'C=C1CC[C@H]2C(C)(C)CCC[C@@](C)([C@@H]3CC[C@]2(C)[C@H]2CC[C@]32C)[C@H]1CO',\n",
       " 'C=C1CC[C@H]2C(C)(C)CCC[C@@](C)([C@@H]3CC[C@]3(C)[C@@H]3CC[C@@]32C)[C@H]1CO',\n",
       " 'C=C1CC[C@H]2C(C)(C)CCC[C@@](C)([C@@H]3CC[C@]3(C)[C@@H]3CC[C@]32C)[C@H]1CO',\n",
       " 'C=C1CC[C@H]2C(C)(C)CCC[C@@](C)([C@@H]3CC[C@]3(C)[C@H]1CO)[C@@H]1CC[C@@]12C',\n",
       " 'C=C1CC[C@H]2C(C)(C)CCC[C@@](C)([C@@H]3CC[C@]3(C)[C@H]1CO)[C@@H]1CC[C@]12C',\n",
       " 'C=C1CC[C@H]2C(C)(C)CCC[C@@](C)([C@@H]3CC[C@]3(C)[C@H]3CC[C@@]32C)[C@H]1CO',\n",
       " 'C=C1CC[C@H]2C(C)(C)CCC[C@@](C)([C@@H]3CC[C@]3(C)[C@H]3CC[C@]32C)[C@H]1CO',\n",
       " 'C=C1CC[C@H]2C(C)(C)CCC[C@@](C)([C@H]3CC[C@@]2(C)[C@@H]2CC[C@@]23C)[C@H]1CO',\n",
       " 'C=C1CC[C@H]2C(C)(C)CCC[C@@](C)([C@H]3CC[C@@]2(C)[C@@H]2CC[C@]23C)[C@H]1CO',\n",
       " 'C=C1CC[C@H]2C(C)(C)CCC[C@@](C)([C@H]3CC[C@@]2(C)[C@H]2CC[C@@]32C)[C@H]1CO',\n",
       " 'C=C1CC[C@H]2C(C)(C)CCC[C@@](C)([C@H]3CC[C@@]2(C)[C@H]2CC[C@]32C)[C@H]1CO',\n",
       " 'C=C1CC[C@H]2C(C)(C)CCC[C@@](C)([C@H]3CC[C@@]3(C)[C@@H]3CC[C@@]32C)[C@H]1CO',\n",
       " 'C=C1CC[C@H]2C(C)(C)CCC[C@@](C)([C@H]3CC[C@@]3(C)[C@@H]3CC[C@]32C)[C@H]1CO',\n",
       " 'C=C1CC[C@H]2C(C)(C)CCC[C@@](C)([C@H]3CC[C@@]3(C)[C@H]3CC[C@@]32C)[C@H]1CO',\n",
       " 'C=C1CC[C@H]2C(C)(C)CCC[C@@](C)([C@H]3CC[C@@]3(C)[C@H]3CC[C@]32C)[C@H]1CO',\n",
       " 'C=C1CC[C@H]2C(C)(C)CCC[C@@](C)([C@H]3CC[C@@]32C)[C@@H]2CC[C@]2(C)[C@H]1CO',\n",
       " 'C=C1CC[C@H]2C(C)(C)CCC[C@@](C)([C@H]3CC[C@]2(C)[C@@H]2CC[C@@]23C)[C@H]1CO',\n",
       " 'C=C1CC[C@H]2C(C)(C)CCC[C@@](C)([C@H]3CC[C@]2(C)[C@@H]2CC[C@]23C)[C@H]1CO',\n",
       " 'C=C1CC[C@H]2C(C)(C)CCC[C@@](C)([C@H]3CC[C@]2(C)[C@H]2CC[C@@]32C)[C@H]1CO',\n",
       " 'C=C1CC[C@H]2C(C)(C)CCC[C@@](C)([C@H]3CC[C@]2(C)[C@H]2CC[C@]32C)[C@H]1CO',\n",
       " 'C=C1CC[C@H]2C(C)(C)CCC[C@@](C)([C@H]3CC[C@]3(C)[C@@H]3CC[C@@]32C)[C@H]1CO',\n",
       " 'C=C1CC[C@H]2C(C)(C)CCC[C@@](C)([C@H]3CC[C@]3(C)[C@@H]3CC[C@]32C)[C@H]1CO',\n",
       " 'C=C1CC[C@H]2C(C)(C)CCC[C@@](C)([C@H]3CC[C@]3(C)[C@H]1CO)[C@@H]1CC[C@@]12C',\n",
       " 'C=C1CC[C@H]2C(C)(C)CCC[C@@](C)([C@H]3CC[C@]3(C)[C@H]1CO)[C@@H]1CC[C@]12C',\n",
       " 'C=C1CC[C@H]2C(C)(C)CCC[C@@](C)([C@H]3CC[C@]3(C)[C@H]1CO)[C@H]1CC[C@@]12C',\n",
       " 'C=C1CC[C@H]2C(C)(C)CCC[C@@](C)([C@H]3CC[C@]3(C)[C@H]1CO)[C@H]1CC[C@]12C',\n",
       " 'C=C1CC[C@H]2C(C)(C)CCC[C@@](C)([C@H]3CC[C@]3(C)[C@H]3CC[C@@]32C)[C@H]1CO',\n",
       " 'C=C1CC[C@H]2C(C)(C)CCC[C@@](C)([C@H]3CC[C@]3(C)[C@H]3CC[C@]32C)[C@H]1CO',\n",
       " 'C=C1CC[C@H]2C(C)(C)CCC[C@@](C)([C@H]3CC[C@]32C)[C@@H]2CC[C@]2(C)[C@H]1CO',\n",
       " 'C=C1CC[C@H]2C(C)(C)CCC[C@@]2(C)[C@@H]2CC[C@@](C)([C@@H]3CC[C@@]32C)[C@H]1CO',\n",
       " 'C=C1CC[C@H]2C(C)(C)CCC[C@@]2(C)[C@@H]2CC[C@@](C)([C@@H]3CC[C@]32C)[C@H]1CO',\n",
       " 'C=C1CC[C@H]2C(C)(C)CCC[C@@]2(C)[C@@H]2CC[C@@](C)([C@H]3CC[C@@]23C)[C@H]1CO',\n",
       " 'C=C1CC[C@H]2C(C)(C)CCC[C@@]2(C)[C@@H]2CC[C@@](C)([C@H]3CC[C@]23C)[C@H]1CO',\n",
       " 'C=C1CC[C@H]2C(C)(C)CCC[C@@]2(C)[C@@H]2CC[C@@]2(C)[C@@H]2CC[C@]2(C)[C@H]1CO',\n",
       " 'C=C1CC[C@H]2C(C)(C)CCC[C@@]2(C)[C@@H]2CC[C@@]2(C)[C@H]2CC[C@]2(C)[C@H]1CO',\n",
       " 'C=C1CC[C@H]2C(C)(C)CCC[C@@]2(C)[C@@H]2CC[C@]2(C)[C@@H]2CC[C@]2(C)[C@H]1CO',\n",
       " 'C=C1CC[C@H]2C(C)(C)CCC[C@@]2(C)[C@@H]2CC[C@]2(C)[C@H]2CC[C@]2(C)[C@H]1CO',\n",
       " 'C=C1CC[C@H]2C(C)(C)CCC[C@@]2(C)[C@H]2CC[C@@](C)([C@@H]3CC[C@@]32C)[C@H]1CO',\n",
       " 'C=C1CC[C@H]2C(C)(C)CCC[C@@]2(C)[C@H]2CC[C@@](C)([C@@H]3CC[C@]32C)[C@H]1CO',\n",
       " 'C=C1CC[C@H]2C(C)(C)CCC[C@@]2(C)[C@H]2CC[C@@](C)([C@H]3CC[C@@]32C)[C@H]1CO',\n",
       " 'C=C1CC[C@H]2C(C)(C)CCC[C@@]2(C)[C@H]2CC[C@@](C)([C@H]3CC[C@]32C)[C@H]1CO',\n",
       " 'C=C1CC[C@H]2C(C)(C)CCC[C@@]2(C)[C@H]2CC[C@@]2(C)[C@@H]2CC[C@]2(C)[C@H]1CO',\n",
       " 'C=C1CC[C@H]2C(C)(C)CCC[C@@]2(C)[C@H]2CC[C@@]2(C)[C@H]2CC[C@]2(C)[C@H]1CO',\n",
       " 'C=C1CC[C@H]2C(C)(C)CCC[C@@]2(C)[C@H]2CC[C@]2(C)[C@@H]2CC[C@]2(C)[C@H]1CO',\n",
       " 'C=C1CC[C@H]2C(C)(C)CCC[C@@]2(C)[C@H]2CC[C@]2(C)[C@H]2CC[C@]2(C)[C@H]1CO',\n",
       " 'C=C1CC[C@H]2C(C)(C)CCC[C@@]3(C)[C@@H]4CC[C@@]2(C)[C@H]3CC[C@]4(C)[C@H]1CO',\n",
       " 'C=C1CC[C@H]2C(C)(C)CCC[C@@]3(C)[C@@H]4CC[C@]2(C)[C@H]3CC[C@]4(C)[C@H]1CO',\n",
       " 'C=C1CC[C@H]2C(C)(C)CCC[C@@]3(C)[C@H]4CC[C@@](C)([C@H]3CC[C@@]42C)[C@H]1CO',\n",
       " 'C=C1CC[C@H]2C(C)(C)CCC[C@@]3(C)[C@H]4CC[C@@](C)([C@H]3CC[C@]42C)[C@H]1CO',\n",
       " 'C=C1CC[C@H]2C(C)(C)CCC[C@@]3(C)[C@H]4CC[C@@]2(C)[C@@H]3CC[C@]4(C)[C@H]1CO',\n",
       " 'C=C1CC[C@H]2C(C)(C)CCC[C@@]3(C)[C@H]4CC[C@@]2(C)[C@H]3CC[C@]4(C)[C@H]1CO',\n",
       " 'C=C1CC[C@H]2C(C)(C)CCC[C@@]3(C)[C@H]4CC[C@]2(C)[C@@H]3CC[C@]4(C)[C@H]1CO',\n",
       " 'C=C1CC[C@H]2C(C)(C)CCC[C@@]3(C)[C@H]4CC[C@]2(C)[C@H]3CC[C@]4(C)[C@H]1CO',\n",
       " 'C=C1CC[C@H]2C(C)(C)CCC[C@](C)([C@@H]3CC[C@]3(C)[C@H]1CO)[C@@H]1CC[C@@]12C',\n",
       " 'C=C1CC[C@H]2C(C)(C)CCC[C@](C)([C@@H]3CC[C@]3(C)[C@H]1CO)[C@@H]1CC[C@]12C',\n",
       " 'C=C1CC[C@H]2C(C)(C)CCC[C@](C)([C@H]3CC[C@@]32C)[C@@H]2CC[C@]2(C)[C@H]1CO',\n",
       " 'C=C1CC[C@H]2C(C)(C)CCC[C@](C)([C@H]3CC[C@]3(C)[C@H]1CO)[C@@H]1CC[C@@]12C',\n",
       " 'C=C1CC[C@H]2C(C)(C)CCC[C@](C)([C@H]3CC[C@]3(C)[C@H]1CO)[C@@H]1CC[C@]12C',\n",
       " 'C=C1CC[C@H]2C(C)(C)CCC[C@](C)([C@H]3CC[C@]3(C)[C@H]1CO)[C@H]1CC[C@@]12C',\n",
       " 'C=C1CC[C@H]2C(C)(C)CCC[C@](C)([C@H]3CC[C@]3(C)[C@H]1CO)[C@H]1CC[C@]12C',\n",
       " 'C=C1CC[C@H]2C(C)(C)CCC[C@](C)([C@H]3CC[C@]32C)[C@@H]2CC[C@]2(C)[C@H]1CO',\n",
       " 'C=C1CC[C@H]2C(C)(C)CCC[C@]2(C)[C@@H]2CC[C@@](C)([C@@H]3CC[C@@]32C)[C@H]1CO',\n",
       " 'C=C1CC[C@H]2C(C)(C)CCC[C@]2(C)[C@@H]2CC[C@@](C)([C@@H]3CC[C@]32C)[C@H]1CO',\n",
       " 'C=C1CC[C@H]2C(C)(C)CCC[C@]2(C)[C@@H]2CC[C@@](C)([C@H]3CC[C@@]23C)[C@H]1CO',\n",
       " 'C=C1CC[C@H]2C(C)(C)CCC[C@]2(C)[C@@H]2CC[C@@](C)([C@H]3CC[C@]23C)[C@H]1CO',\n",
       " 'C=C1CC[C@H]2C(C)(C)CCC[C@]2(C)[C@@H]2CC[C@@]2(C)[C@@H]2CC[C@]2(C)[C@H]1CO',\n",
       " 'C=C1CC[C@H]2C(C)(C)CCC[C@]2(C)[C@@H]2CC[C@@]2(C)[C@H]2CC[C@]2(C)[C@H]1CO',\n",
       " 'C=C1CC[C@H]2C(C)(C)CCC[C@]2(C)[C@@H]2CC[C@]2(C)[C@@H]2CC[C@]2(C)[C@H]1CO',\n",
       " 'C=C1CC[C@H]2C(C)(C)CCC[C@]2(C)[C@@H]2CC[C@]2(C)[C@H]2CC[C@]2(C)[C@H]1CO',\n",
       " 'C=C1CC[C@H]2C(C)(C)CCC[C@]2(C)[C@H]2CC[C@@](C)([C@@H]3CC[C@@]32C)[C@H]1CO',\n",
       " 'C=C1CC[C@H]2C(C)(C)CCC[C@]2(C)[C@H]2CC[C@@](C)([C@@H]3CC[C@]32C)[C@H]1CO',\n",
       " 'C=C1CC[C@H]2C(C)(C)CCC[C@]2(C)[C@H]2CC[C@@](C)([C@H]3CC[C@@]32C)[C@H]1CO',\n",
       " 'C=C1CC[C@H]2C(C)(C)CCC[C@]2(C)[C@H]2CC[C@@](C)([C@H]3CC[C@]32C)[C@H]1CO',\n",
       " 'C=C1CC[C@H]2C(C)(C)CCC[C@]2(C)[C@H]2CC[C@@]2(C)[C@@H]2CC[C@]2(C)[C@H]1CO',\n",
       " 'C=C1CC[C@H]2C(C)(C)CCC[C@]2(C)[C@H]2CC[C@@]2(C)[C@H]2CC[C@]2(C)[C@H]1CO',\n",
       " 'C=C1CC[C@H]2C(C)(C)CCC[C@]2(C)[C@H]2CC[C@]2(C)[C@@H]2CC[C@]2(C)[C@H]1CO',\n",
       " 'C=C1CC[C@H]2C(C)(C)CCC[C@]2(C)[C@H]2CC[C@]2(C)[C@H]2CC[C@]2(C)[C@H]1CO',\n",
       " 'C=C1CC[C@H]2C(C)(C)CCC[C@]3(C)[C@@H]4CC[C@@]2(C)[C@H]3CC[C@]4(C)[C@H]1CO',\n",
       " 'C=C1CC[C@H]2C(C)(C)CCC[C@]3(C)[C@@H]4CC[C@]2(C)[C@H]3CC[C@]4(C)[C@H]1CO',\n",
       " 'C=C1CC[C@H]2C(C)(C)CCC[C@]3(C)[C@H]4CC[C@@](C)([C@H]3CC[C@@]42C)[C@H]1CO',\n",
       " 'C=C1CC[C@H]2C(C)(C)CCC[C@]3(C)[C@H]4CC[C@@](C)([C@H]3CC[C@]42C)[C@H]1CO',\n",
       " 'C=C1CC[C@H]2C(C)(C)CCC[C@]3(C)[C@H]4CC[C@@]2(C)[C@@H]3CC[C@]4(C)[C@H]1CO',\n",
       " 'C=C1CC[C@H]2C(C)(C)CCC[C@]3(C)[C@H]4CC[C@@]2(C)[C@H]3CC[C@]4(C)[C@H]1CO',\n",
       " 'C=C1CC[C@H]2C(C)(C)CCC[C@]3(C)[C@H]4CC[C@]2(C)[C@@H]3CC[C@]4(C)[C@H]1CO',\n",
       " 'C=C1CC[C@H]2C(C)(C)CCC[C@]3(C)[C@H]4CC[C@]2(C)[C@H]3CC[C@]4(C)[C@H]1CO',\n",
       " 'C=C1CC[C@H]2[C@@](C)(CCCC(C)(C)[C@@H]3CC[C@@]23C)[C@@H]2CC[C@]2(C)[C@H]1CO',\n",
       " 'C=C1CC[C@H]2[C@@](C)(CCCC(C)(C)[C@@H]3CC[C@@]23C)[C@H]2CC[C@]2(C)[C@H]1CO',\n",
       " 'C=C1CC[C@H]2[C@@](C)(CCCC(C)(C)[C@@H]3CC[C@]23C)[C@@H]2CC[C@]2(C)[C@H]1CO',\n",
       " 'C=C1CC[C@H]2[C@@](C)(CCCC(C)(C)[C@@H]3CC[C@]23C)[C@H]2CC[C@]2(C)[C@H]1CO',\n",
       " 'C=C1CC[C@H]2[C@@](C)(CCCC(C)(C)[C@@H]3CC[C@]3(C)[C@H]1CO)[C@@H]1CC[C@@]21C',\n",
       " 'C=C1CC[C@H]2[C@@](C)(CCCC(C)(C)[C@@H]3CC[C@]3(C)[C@H]1CO)[C@@H]1CC[C@]21C',\n",
       " 'C=C1CC[C@H]2[C@@](C)(CCCC(C)(C)[C@@H]3CC[C@]3(C)[C@H]1CO)[C@H]1CC[C@@]12C',\n",
       " 'C=C1CC[C@H]2[C@@](C)(CCCC(C)(C)[C@@H]3CC[C@]3(C)[C@H]1CO)[C@H]1CC[C@]12C',\n",
       " 'C=C1CC[C@H]2[C@@](C)(CC[C@H]3C(C)(C)CCC[C@@]23C)[C@@H]2CC[C@]2(C)[C@H]1CO',\n",
       " 'C=C1CC[C@H]2[C@@](C)(CC[C@H]3C(C)(C)CCC[C@@]23C)[C@H]2CC[C@]2(C)[C@H]1CO',\n",
       " 'C=C1CC[C@H]2[C@@](C)(CC[C@H]3C(C)(C)CCC[C@]23C)[C@@H]2CC[C@]2(C)[C@H]1CO',\n",
       " 'C=C1CC[C@H]2[C@@](C)(CC[C@H]3C(C)(C)CCC[C@]23C)[C@H]2CC[C@]2(C)[C@H]1CO',\n",
       " 'C=C1CC[C@H]2[C@@]3(C)CCCC(C)(C)[C@@H]4CC[C@@](C)([C@@H]3CC[C@@]24C)[C@H]1CO',\n",
       " 'C=C1CC[C@H]2[C@@]3(C)CCCC(C)(C)[C@@H]4CC[C@@](C)([C@@H]3CC[C@]24C)[C@H]1CO',\n",
       " 'C=C1CC[C@H]2[C@@]3(C)CCCC(C)(C)[C@@H]4CC[C@@](C)([C@H]3CC[C@@]24C)[C@H]1CO',\n",
       " 'C=C1CC[C@H]2[C@@]3(C)CCCC(C)(C)[C@@H]4CC[C@@](C)([C@H]3CC[C@]24C)[C@H]1CO',\n",
       " 'C=C1CC[C@H]2[C@@]3(C)CCCC(C)(C)[C@@H]4CC[C@@]2(C)[C@@H]3CC[C@]4(C)[C@H]1CO',\n",
       " 'C=C1CC[C@H]2[C@@]3(C)CCCC(C)(C)[C@@H]4CC[C@@]2(C)[C@H]3CC[C@]4(C)[C@H]1CO',\n",
       " 'C=C1CC[C@H]2[C@@]3(C)CCCC(C)(C)[C@@H]4CC[C@]2(C)[C@@H]3CC[C@]4(C)[C@H]1CO',\n",
       " 'C=C1CC[C@H]2[C@@]3(C)CCCC(C)(C)[C@@H]4CC[C@]2(C)[C@H]3CC[C@]4(C)[C@H]1CO',\n",
       " 'C=C1CC[C@H]2[C@@]3(C)CC[C@@H]3[C@@]2(C)CC[C@H]2C(C)(C)CCC[C@]2(C)[C@H]1CO',\n",
       " 'C=C1CC[C@H]2[C@@]3(C)CC[C@@H]3[C@](C)(CCCC(C)(C)[C@@H]3CC[C@@]23C)[C@H]1CO',\n",
       " 'C=C1CC[C@H]2[C@@]3(C)CC[C@@H]3[C@](C)(CCCC(C)(C)[C@@H]3CC[C@]23C)[C@H]1CO',\n",
       " 'C=C1CC[C@H]2[C@@]3(C)CC[C@@H]3[C@](C)(CC[C@H]3C(C)(C)CCC[C@@]23C)[C@H]1CO',\n",
       " 'C=C1CC[C@H]2[C@@]3(C)CC[C@@H]3[C@](C)(CC[C@H]3C(C)(C)CCC[C@]23C)[C@H]1CO',\n",
       " 'C=C1CC[C@H]2[C@@]3(C)CC[C@@H]3[C@]2(C)CC[C@H]2C(C)(C)CCC[C@]2(C)[C@H]1CO',\n",
       " 'C=C1CC[C@H]2[C@@]3(C)CC[C@H]3[C@@]2(C)CC[C@H]2C(C)(C)CCC[C@]2(C)[C@H]1CO',\n",
       " 'C=C1CC[C@H]2[C@@]3(C)CC[C@H]3[C@](C)(CCCC(C)(C)[C@@H]3CC[C@@]23C)[C@H]1CO',\n",
       " 'C=C1CC[C@H]2[C@@]3(C)CC[C@H]3[C@](C)(CCCC(C)(C)[C@@H]3CC[C@]23C)[C@H]1CO',\n",
       " 'C=C1CC[C@H]2[C@@]3(C)CC[C@H]3[C@](C)(CC[C@H]3C(C)(C)CCC[C@@]23C)[C@H]1CO',\n",
       " 'C=C1CC[C@H]2[C@@]3(C)CC[C@H]3[C@](C)(CC[C@H]3C(C)(C)CCC[C@]23C)[C@H]1CO',\n",
       " 'C=C1CC[C@H]2[C@@]3(C)CC[C@H]3[C@]2(C)CC[C@H]2C(C)(C)CCC[C@]2(C)[C@H]1CO',\n",
       " 'C=C1CC[C@H]2[C@@]3(C)CC[C@H]4C(C)(C)CCC[C@@](C)([C@@H]3CC[C@@]24C)[C@H]1CO',\n",
       " 'C=C1CC[C@H]2[C@@]3(C)CC[C@H]4C(C)(C)CCC[C@@](C)([C@@H]3CC[C@]24C)[C@H]1CO',\n",
       " 'C=C1CC[C@H]2[C@@]3(C)CC[C@H]4C(C)(C)CCC[C@@](C)([C@H]3CC[C@@]24C)[C@H]1CO',\n",
       " 'C=C1CC[C@H]2[C@@]3(C)CC[C@H]4C(C)(C)CCC[C@@](C)([C@H]3CC[C@]24C)[C@H]1CO',\n",
       " 'C=C1CC[C@H]2[C@](C)(CCCC(C)(C)[C@@H]3CC[C@@]23C)[C@@H]2CC[C@]2(C)[C@H]1CO',\n",
       " 'C=C1CC[C@H]2[C@](C)(CCCC(C)(C)[C@@H]3CC[C@@]23C)[C@H]2CC[C@]2(C)[C@H]1CO',\n",
       " 'C=C1CC[C@H]2[C@](C)(CCCC(C)(C)[C@@H]3CC[C@]23C)[C@@H]2CC[C@]2(C)[C@H]1CO',\n",
       " 'C=C1CC[C@H]2[C@](C)(CCCC(C)(C)[C@@H]3CC[C@]23C)[C@H]2CC[C@]2(C)[C@H]1CO',\n",
       " 'C=C1CC[C@H]2[C@](C)(CCCC(C)(C)[C@@H]3CC[C@]3(C)[C@H]1CO)[C@@H]1CC[C@@]21C',\n",
       " 'C=C1CC[C@H]2[C@](C)(CCCC(C)(C)[C@@H]3CC[C@]3(C)[C@H]1CO)[C@@H]1CC[C@]21C',\n",
       " 'C=C1CC[C@H]2[C@](C)(CCCC(C)(C)[C@@H]3CC[C@]3(C)[C@H]1CO)[C@H]1CC[C@@]12C',\n",
       " 'C=C1CC[C@H]2[C@](C)(CCCC(C)(C)[C@@H]3CC[C@]3(C)[C@H]1CO)[C@H]1CC[C@]12C',\n",
       " 'C=C1CC[C@H]2[C@](C)(CC[C@H]3C(C)(C)CCC[C@@]23C)[C@@H]2CC[C@]2(C)[C@H]1CO',\n",
       " 'C=C1CC[C@H]2[C@](C)(CC[C@H]3C(C)(C)CCC[C@@]23C)[C@H]2CC[C@]2(C)[C@H]1CO',\n",
       " 'C=C1CC[C@H]2[C@](C)(CC[C@H]3C(C)(C)CCC[C@]23C)[C@@H]2CC[C@]2(C)[C@H]1CO',\n",
       " 'C=C1CC[C@H]2[C@](C)(CC[C@H]3C(C)(C)CCC[C@]23C)[C@H]2CC[C@]2(C)[C@H]1CO',\n",
       " 'C=C1CC[C@H]2[C@]3(C)CCCC(C)(C)[C@@H]4CC[C@@](C)([C@@H]3CC[C@@]24C)[C@H]1CO',\n",
       " 'C=C1CC[C@H]2[C@]3(C)CCCC(C)(C)[C@@H]4CC[C@@](C)([C@@H]3CC[C@]24C)[C@H]1CO',\n",
       " 'C=C1CC[C@H]2[C@]3(C)CCCC(C)(C)[C@@H]4CC[C@@](C)([C@H]3CC[C@@]24C)[C@H]1CO',\n",
       " 'C=C1CC[C@H]2[C@]3(C)CCCC(C)(C)[C@@H]4CC[C@@](C)([C@H]3CC[C@]24C)[C@H]1CO',\n",
       " 'C=C1CC[C@H]2[C@]3(C)CCCC(C)(C)[C@@H]4CC[C@@]2(C)[C@@H]3CC[C@]4(C)[C@H]1CO',\n",
       " 'C=C1CC[C@H]2[C@]3(C)CCCC(C)(C)[C@@H]4CC[C@@]2(C)[C@H]3CC[C@]4(C)[C@H]1CO',\n",
       " 'C=C1CC[C@H]2[C@]3(C)CCCC(C)(C)[C@@H]4CC[C@]2(C)[C@@H]3CC[C@]4(C)[C@H]1CO',\n",
       " 'C=C1CC[C@H]2[C@]3(C)CCCC(C)(C)[C@@H]4CC[C@]2(C)[C@H]3CC[C@]4(C)[C@H]1CO',\n",
       " 'C=C1CC[C@H]2[C@]3(C)CC[C@@H]3[C@@]2(C)CC[C@H]2C(C)(C)CCC[C@]2(C)[C@H]1CO',\n",
       " 'C=C1CC[C@H]2[C@]3(C)CC[C@@H]3[C@](C)(CCCC(C)(C)[C@@H]3CC[C@@]23C)[C@H]1CO',\n",
       " 'C=C1CC[C@H]2[C@]3(C)CC[C@@H]3[C@](C)(CCCC(C)(C)[C@@H]3CC[C@]23C)[C@H]1CO',\n",
       " 'C=C1CC[C@H]2[C@]3(C)CC[C@@H]3[C@](C)(CC[C@H]3C(C)(C)CCC[C@@]23C)[C@H]1CO',\n",
       " 'C=C1CC[C@H]2[C@]3(C)CC[C@@H]3[C@](C)(CC[C@H]3C(C)(C)CCC[C@]23C)[C@H]1CO',\n",
       " 'C=C1CC[C@H]2[C@]3(C)CC[C@@H]3[C@]2(C)CC[C@H]2C(C)(C)CCC[C@]2(C)[C@H]1CO',\n",
       " 'C=C1CC[C@H]2[C@]3(C)CC[C@H]3[C@@]2(C)CC[C@H]2C(C)(C)CCC[C@]2(C)[C@H]1CO',\n",
       " 'C=C1CC[C@H]2[C@]3(C)CC[C@H]3[C@](C)(CCCC(C)(C)[C@@H]3CC[C@@]23C)[C@H]1CO',\n",
       " 'C=C1CC[C@H]2[C@]3(C)CC[C@H]3[C@](C)(CCCC(C)(C)[C@@H]3CC[C@]23C)[C@H]1CO',\n",
       " 'C=C1CC[C@H]2[C@]3(C)CC[C@H]3[C@](C)(CC[C@H]3C(C)(C)CCC[C@@]23C)[C@H]1CO',\n",
       " 'C=C1CC[C@H]2[C@]3(C)CC[C@H]3[C@](C)(CC[C@H]3C(C)(C)CCC[C@]23C)[C@H]1CO',\n",
       " 'C=C1CC[C@H]2[C@]3(C)CC[C@H]3[C@]2(C)CC[C@H]2C(C)(C)CCC[C@]2(C)[C@H]1CO',\n",
       " 'C=C1CC[C@H]2[C@]3(C)CC[C@H]4C(C)(C)CCC[C@@](C)([C@@H]3CC[C@@]24C)[C@H]1CO',\n",
       " 'C=C1CC[C@H]2[C@]3(C)CC[C@H]4C(C)(C)CCC[C@@](C)([C@@H]3CC[C@]24C)[C@H]1CO',\n",
       " 'C=C1CC[C@H]2[C@]3(C)CC[C@H]4C(C)(C)CCC[C@@](C)([C@H]3CC[C@@]24C)[C@H]1CO',\n",
       " 'C=C1CC[C@H]2[C@]3(C)CC[C@H]4C(C)(C)CCC[C@@](C)([C@H]3CC[C@]24C)[C@H]1CO'}"
      ]
     },
     "execution_count": 13,
     "metadata": {},
     "output_type": "execute_result"
    }
   ],
   "source": [
    "Smol"
   ]
  },
  {
   "cell_type": "code",
   "execution_count": null,
   "id": "271ea846-1648-4358-8c18-398cab8d3930",
   "metadata": {},
   "outputs": [],
   "source": []
  }
 ],
 "metadata": {
  "kernelspec": {
   "display_name": "Python 3 (ipykernel)",
   "language": "python",
   "name": "python3"
  },
  "language_info": {
   "codemirror_mode": {
    "name": "ipython",
    "version": 3
   },
   "file_extension": ".py",
   "mimetype": "text/x-python",
   "name": "python",
   "nbconvert_exporter": "python",
   "pygments_lexer": "ipython3",
   "version": "3.13.1"
  }
 },
 "nbformat": 4,
 "nbformat_minor": 5
}
