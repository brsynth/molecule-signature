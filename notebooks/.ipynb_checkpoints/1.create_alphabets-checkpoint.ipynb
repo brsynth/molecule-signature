{
 "cells": [
  {
   "cell_type": "markdown",
   "id": "07f655fd-60c4-46e3-a38f-80a21e7c011f",
   "metadata": {},
   "source": [
    "# Build Training sets and Signature Alphabets"
   ]
  },
  {
   "cell_type": "code",
   "execution_count": 1,
   "id": "93080fa4",
   "metadata": {},
   "outputs": [
    {
     "name": "stderr",
     "output_type": "stream",
     "text": [
      "Canonicalization of SMARTS is enabled.\n"
     ]
    }
   ],
   "source": [
    "# CHANGE TO YOUR DIRECTORY PATH\n",
    "path_directory = \"C:/Users/meyerp/Documents/INRAE/Diophantine/Enumération/github/signature\"\n",
    "dataset_directory = \"C:/Users/meyerp/Documents/INRAE/Datasets\"\n",
    "\n",
    "import os\n",
    "import time\n",
    "\n",
    "os.chdir(path_directory)\n",
    "os.environ[\"RD_CANON\"] = \"True\"\n",
    "\n",
    "import numpy as np\n",
    "from rdkit import Chem\n",
    "from rdkit.Chem import Descriptors\n",
    "from rdkit import RDLogger\n",
    "\n",
    "RDLogger.DisableLog(\"rdApp.*\")\n",
    "\n",
    "from src.signature.Signature import MoleculeSignature\n",
    "from src.signature.signature_old import sanitize_molecule\n",
    "from src.signature.signature_alphabet import load_alphabet, SignatureAlphabet, signature_from_smiles\n",
    "from src.signature.utils import read_csv, read_tsv, read_txt, write_csv"
   ]
  },
  {
   "cell_type": "code",
   "execution_count": 2,
   "id": "bb1d6d56",
   "metadata": {},
   "outputs": [],
   "source": [
    "use_smarts = False"
   ]
  },
  {
   "cell_type": "markdown",
   "id": "ccd88e82-5d86-4c8e-a683-aeb92ef504a2",
   "metadata": {},
   "source": [
    "## Build molecule datasets: sanitize molecules"
   ]
  },
  {
   "cell_type": "code",
   "execution_count": null,
   "id": "f5383fca-e9f2-4a6a-b07b-c8989e00955d",
   "metadata": {
    "scrolled": true,
    "tags": []
   },
   "outputs": [],
   "source": [
    "# Load file and sanitize molecule\n",
    "# Final file format is two columns ID + canonical SMILES\n",
    "# Warning: this cell is slow\n",
    "\n",
    "def sanitize(data, MaxMolecularWeight, size):\n",
    "    # Remove molecules with weight > MaxMolecularWeight\n",
    "    # and with more than one piece. Make sure all molecules\n",
    "    # are unique.\n",
    "    D, SMI = [], set()\n",
    "    for i in range(data.shape[0]):\n",
    "        ID, smi = data[i, 0], str(data[i, 1])\n",
    "        if smi == \"nan\":\n",
    "            continue\n",
    "        if i % 100000 == 0:\n",
    "            print(f\"-------{i} {data[i,0]} {data[i,1]} {len(smi)}\")\n",
    "        if smi.find(\".\") != -1:\n",
    "            continue  # not in one piece\n",
    "        if smi in SMI:\n",
    "            continue  # aready there\n",
    "        if len(smi) > int(MaxMolecularWeight / 5):  # Cheap skip\n",
    "            continue\n",
    "        mol, smi = sanitize_molecule(Chem.MolFromSmiles(smi))\n",
    "        if mol == None:\n",
    "            continue\n",
    "        mw = Chem.Descriptors.ExactMolWt(mol)\n",
    "        if mw > MaxMolecularWeight:\n",
    "            continue\n",
    "        if smi in SMI:\n",
    "            continue  # canonical smi aready there\n",
    "        SMI.add(smi)\n",
    "        data[i, 1] = smi\n",
    "        D.append(data[i])\n",
    "        if len(D) >= size:\n",
    "            break\n",
    "    return np.asarray(D)\n",
    "\n",
    "\n",
    "MaxMolecularWeight = 500\n",
    "size = float(\"inf\")\n",
    "filename = dataset_directory + \"/MetaNetX\"\n",
    "H, D = read_tsv(filename)\n",
    "H = [\"ID\", \"SMILES\"]\n",
    "D = D[:, [0, 8]]\n",
    "np.random.shuffle(D)\n",
    "print(f\"size={D.shape[0]}\")\n",
    "D = sanitize(D, MaxMolecularWeight, size)\n",
    "filename = f\"{filename}_weight_{str(MaxMolecularWeight)}\"\n",
    "print(f\"File={filename} Header={H} D={D.shape}\")\n",
    "#write_csv(filename, H, D)\n",
    "\"\"\"\n",
    "MaxMolecularWeight = 500\n",
    "size = 1e6\n",
    "filename = dataset_directory + \"/emolecule\"\n",
    "H = ['ID', 'SMILES']\n",
    "T = read_txt(filename+'.txt')\n",
    "print(f'Size={len(T)}')\n",
    "D = {}\n",
    "for i in range(len(T)-1):\n",
    "    line = list(T[i+1].split(' '))\n",
    "    D[i] = [line[1]+'_'+line[2], line[0]]\n",
    "D = np.asarray(list(D.values()))\n",
    "np.random.shuffle(D)\n",
    "print(f'File={filename} Header={H} D={D.shape}')\n",
    "D = sanitize(D, MaxMolecularWeight, size)\n",
    "filename = f'{filename}_weight_{str(MaxMolecularWeight)}'\n",
    "print(f'File={filename} Header={H} D={D.shape}')\n",
    "write_csv(filename, H, D)\n",
    "\"\"\""
   ]
  },
  {
   "cell_type": "markdown",
   "id": "00c2ab3d-9094-4eb2-9479-31e0162f2dd0",
   "metadata": {},
   "source": [
    "## Build training sets: filter molecules for generative models and deterministic enumeration"
   ]
  },
  {
   "cell_type": "code",
   "execution_count": null,
   "id": "50f76d49-d855-4e01-a868-ecab079b4319",
   "metadata": {
    "scrolled": true,
    "tags": []
   },
   "outputs": [],
   "source": [
    "# Compute signature in various format\n",
    "def filter(smi, radius, verbose=False):\n",
    "    if \".\" in smi:  #\n",
    "        return \"\", \"\", None, \"\"\n",
    "    if \"*\" in smi:  #\n",
    "        return \"\", \"\", None, \"\"\n",
    "    if \"[\" in smi:  # cannot process [*] without kekularization\n",
    "        if \"@\" not in smi:\n",
    "            return \"\", \"\", None, \"\"\n",
    "    #Alphabet = SignatureAlphabet(radius=radius, nBits=0)\n",
    "    #sig1, mol, smi = signature_from_smiles(smi, Alphabet, neighbor=True, verbose=False)\n",
    "    #Alphabet = SignatureAlphabet(radius=radius, nBits=2048)\n",
    "    #sig2, mol, smi = signature_from_smiles(smi, Alphabet, neighbor=True, verbose=False)\n",
    "    \n",
    "    mol = Chem.MolFromSmiles(smi)\n",
    "    if mol is None:\n",
    "        return \"\", \"\", None, \"\"\n",
    "    ms = MoleculeSignature(mol, radius=radius, neighbor=True, use_smarts=use_smarts, nbits=0)\n",
    "    sig1 = ms.as_deprecated_string(morgan=False, neighbors=True)\n",
    "    ms = MoleculeSignature(mol, radius=radius, neighbor=True, use_smarts=use_smarts, nbits=2048)\n",
    "    sig2 = ms.as_deprecated_string(morgan=False, neighbors=True)\n",
    "    \n",
    "    if sig1 == \"\" or sig2 == \"\":\n",
    "        return \"\", \"\", None, \"\"\n",
    "    return sig1, sig2, mol, smi\n",
    "\n",
    "\n",
    "# parameters\n",
    "radius = 2\n",
    "size = 1000\n",
    "ext = f\"_radius_{radius}_size_{size}\"\n",
    "if use_smarts:\n",
    "    ext = ext + \"_smarts\"\n",
    "# filename = './datasets/emolecule_weight_500'\n",
    "filename = dataset_directory + \"/MetaNetX_weight_500\"\n",
    "seed = 10\n",
    "np.random.seed(seed=seed)\n",
    "\n",
    "# Load Smiles file\n",
    "H, D = read_csv(filename)\n",
    "print(H, D.shape[0])\n",
    "Smiles = np.asarray(list(set(D[:, 1])))\n",
    "print(f\"Number of smiles: {len(Smiles)}\")\n",
    "np.random.shuffle(Smiles)\n",
    "\n",
    "# Get to business\n",
    "H = [\n",
    "    \"SMILES\",\n",
    "    \"SIG\",\n",
    "    \"SIG-NBIT\",\n",
    "]\n",
    "D, i, I = {}, 0, 0\n",
    "while True:\n",
    "    sig1, sig2, mol, smi = filter(Smiles[i], radius)\n",
    "    if sig1 == \"\" or sig2 == \"\":\n",
    "        print(Smiles[i])\n",
    "        i += 1\n",
    "        continue\n",
    "    D[I] = [smi, sig1, sig2]\n",
    "    i, I = i + 1, I + 1\n",
    "    if I == size:\n",
    "        break\n",
    "D = np.asarray(list(D.values()))\n",
    "#write_csv(filename + ext, H, D)"
   ]
  },
  {
   "cell_type": "markdown",
   "id": "3336d459-cca0-4128-a1de-a5c280ce7d6c",
   "metadata": {},
   "source": [
    "## Build Signature Alphabet"
   ]
  },
  {
   "cell_type": "code",
   "execution_count": 5,
   "id": "f0ffe044-eca7-4f27-9c26-51744dad278f",
   "metadata": {
    "scrolled": false,
    "tags": []
   },
   "outputs": [
    {
     "name": "stdout",
     "output_type": "stream",
     "text": [
      "Header=['ID', 'SMILES']\n",
      "D=(188547, 2)\n",
      "Number of smiles: 50\n",
      "nBits 2048\n",
      "... processing alphabet iteration: 0 size: 0 time: 0.000000\n",
      "CPU time compute Alphabet: 0.52\n",
      "filename: \n",
      "radius: 3\n",
      "nBits: 2048\n",
      "splitcomponent: False\n",
      "isomericSmiles: False\n",
      "formalCharge: True\n",
      "atomMapping: False\n",
      "kekuleSmiles: False\n",
      "allHsExplicit: False\n",
      "maxvalence: 4\n",
      "alphabet length: 541\n"
     ]
    }
   ],
   "source": [
    "# Compute signature in various format\n",
    "\n",
    "# Parameters\n",
    "radius = 2\n",
    "nBits = 2048\n",
    "allHsExplicit = False\n",
    "ext = \"_Alphabet\"\n",
    "ext += \"_hydrogen\" if allHsExplicit else \"\"\n",
    "ext += f\"_radius_{radius}_nBits_{nBits}\"\n",
    "if use_smarts:\n",
    "    ext = ext + \"_smarts\"\n",
    "file_smiles = dataset_directory + \"/MetaNetX_weight_500\"\n",
    "file_alphabet = file_smiles + ext\n",
    "seed = 10\n",
    "np.random.seed(seed=seed)\n",
    "\n",
    "# Load Smiles file\n",
    "H, D = read_csv(file_smiles)\n",
    "print(f\"Header={H}\\nD={D.shape}\")\n",
    "Smiles = np.asarray(list(D[:, 1]))\n",
    "Smiles = Smiles[:50, ]\n",
    "print(f\"Number of smiles: {len(Smiles)}\")\n",
    "\n",
    "# Create Alphabet\n",
    "print(\"nBits\", nBits)\n",
    "Alphabet = SignatureAlphabet(radius=radius, nBits=nBits, use_smarts=use_smarts)\n",
    "\n",
    "# Get save and load Alphabet\n",
    "start_time = time.time()\n",
    "Alphabet.fill(Smiles, verbose=False)\n",
    "#Alphabet.save(file_alphabet)\n",
    "#Alphabet = load_alphabet(file_alphabet)\n",
    "ft = time.time() - start_time\n",
    "print(f\"CPU time compute Alphabet: {ft:.2f}\")\n",
    "Alphabet.print_out()"
   ]
  },
  {
   "cell_type": "code",
   "execution_count": null,
   "id": "2976a244",
   "metadata": {},
   "outputs": [],
   "source": []
  }
 ],
 "metadata": {
  "kernelspec": {
   "display_name": "Python 3 (ipykernel)",
   "language": "python",
   "name": "python3"
  },
  "language_info": {
   "codemirror_mode": {
    "name": "ipython",
    "version": 3
   },
   "file_extension": ".py",
   "mimetype": "text/x-python",
   "name": "python",
   "nbconvert_exporter": "python",
   "pygments_lexer": "ipython3",
   "version": "3.9.13"
  }
 },
 "nbformat": 4,
 "nbformat_minor": 5
}
