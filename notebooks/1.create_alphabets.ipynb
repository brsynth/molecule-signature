{
 "cells": [
  {
   "cell_type": "markdown",
   "id": "07f655fd-60c4-46e3-a38f-80a21e7c011f",
   "metadata": {},
   "source": [
    "# Build Training sets and Signature Alphabets"
   ]
  },
  {
   "cell_type": "markdown",
   "id": "ccd88e82-5d86-4c8e-a683-aeb92ef504a2",
   "metadata": {},
   "source": [
    "## Build molecule datasets: sanitize molecules"
   ]
  },
  {
   "cell_type": "code",
   "execution_count": 4,
   "id": "93080fa4",
   "metadata": {},
   "outputs": [],
   "source": [
    "# CHANGE TO YOUR DIRECTORY PATH\n",
    "path_directory = \"C:/Users/meyerp/Documents/INRAE/Diophantine/Enumération/github/signature\"\n",
    "\n",
    "import os\n",
    "import time\n",
    "\n",
    "os.chdir(path_directory)\n",
    "\n",
    "import numpy as np\n",
    "from rdkit import Chem\n",
    "from rdkit.Chem import Descriptors\n",
    "from rdkit import RDLogger\n",
    "\n",
    "RDLogger.DisableLog(\"rdApp.*\")\n",
    "\n",
    "from src.signature.signature import sanitize_molecule\n",
    "from src.signature.signature_alphabet import load_alphabet, SignatureAlphabet, signature_from_smiles\n",
    "from src.signature.utils import read_csv, read_tsv, read_txt, write_csv"
   ]
  },
  {
   "cell_type": "code",
   "execution_count": null,
   "id": "f5383fca-e9f2-4a6a-b07b-c8989e00955d",
   "metadata": {
    "scrolled": true,
    "tags": []
   },
   "outputs": [],
   "source": [
    "# Load file and sanitize molecule\n",
    "# Final file format is two columns ID + canonical SMILES\n",
    "# Warning: this cell is slow\n",
    "\n",
    "\n",
    "def sanitize(data, MaxMolecularWeight, size):\n",
    "    # Remove molecules with weight > MaxMolecularWeight\n",
    "    # and with more than one piece. Make sure all molecules\n",
    "    # are unique.\n",
    "    D, SMI = [], set()\n",
    "    for i in range(data.shape[0]):\n",
    "        ID, smi = data[i, 0], str(data[i, 1])\n",
    "        if smi == \"nan\":\n",
    "            continue\n",
    "        if i % 100000 == 0:\n",
    "            print(f\"-------{i} {data[i,0]} {data[i,1]} {len(smi)}\")\n",
    "        if smi.find(\".\") != -1:\n",
    "            continue  # not in one piece\n",
    "        if smi in SMI:\n",
    "            continue  # aready there\n",
    "        if len(smi) > int(MaxMolecularWeight / 5):  # Cheap skip\n",
    "            continue\n",
    "        mol, smi = sanitize_molecule(Chem.MolFromSmiles(smi))\n",
    "        if mol == None:\n",
    "            continue\n",
    "        mw = Chem.Descriptors.ExactMolWt(mol)\n",
    "        if mw > MaxMolecularWeight:\n",
    "            continue\n",
    "        if smi in SMI:\n",
    "            continue  # canonical smi aready there\n",
    "        SMI.add(smi)\n",
    "        data[i, 1] = smi\n",
    "        D.append(data[i])\n",
    "        if len(D) >= size:\n",
    "            break\n",
    "    return np.asarray(D)\n",
    "\n",
    "\n",
    "MaxMolecularWeight = 500\n",
    "size = float(\"inf\")\n",
    "filename = \"./datasets/MetaNetX\"\n",
    "H, D = read_tsv(filename)\n",
    "H = [\"ID\", \"SMILES\"]\n",
    "D = D[:, [0, 8]]\n",
    "np.random.shuffle(D)\n",
    "print(f\"size={D.shape[0]}\")\n",
    "D = sanitize(D, MaxMolecularWeight, size)\n",
    "filename = f\"{filename}_weight_{str(MaxMolecularWeight)}\"\n",
    "print(f\"File={filename} Header={H} D={D.shape}\")\n",
    "write_csv(filename, H, D)\n",
    "\"\"\"\n",
    "MaxMolecularWeight = 500\n",
    "size = 1e6\n",
    "filename = './datasets/emolecule'\n",
    "H = ['ID', 'SMILES']\n",
    "T = read_txt(filename+'.txt')\n",
    "print(f'Size={len(T)}')\n",
    "D = {}\n",
    "for i in range(len(T)-1):\n",
    "    line = list(T[i+1].split(' '))\n",
    "    D[i] = [line[1]+'_'+line[2], line[0]]\n",
    "D = np.asarray(list(D.values()))\n",
    "np.random.shuffle(D)\n",
    "print(f'File={filename} Header={H} D={D.shape}')\n",
    "D = sanitize(D, MaxMolecularWeight, size)\n",
    "filename = f'{filename}_weight_{str(MaxMolecularWeight)}'\n",
    "print(f'File={filename} Header={H} D={D.shape}')\n",
    "write_csv(filename, H, D)\n",
    "\"\"\""
   ]
  },
  {
   "cell_type": "markdown",
   "id": "00c2ab3d-9094-4eb2-9479-31e0162f2dd0",
   "metadata": {},
   "source": [
    "## Build training sets: filter molecules for generative models and deterministic enumeration"
   ]
  },
  {
   "cell_type": "code",
   "execution_count": 2,
   "id": "50f76d49-d855-4e01-a868-ecab079b4319",
   "metadata": {
    "scrolled": true,
    "tags": []
   },
   "outputs": [
    {
     "name": "stdout",
     "output_type": "stream",
     "text": [
      "['ID', 'SMILES'] 188547\n",
      "Number of smiles: 188547\n",
      "CC(C)C(O)(C=O)N(Cc1ccc(-c2ccccc2-c2nn[nH]n2)cc1)C(=O)C(O)CC(O)CO\n",
      "CC1(C)SC2C([NH3])C(=O)N2C1C(O)=O\n",
      "COc1ccc(C[NH](C)CC(C)(CO)CO)cc1\n",
      "c1ccc2c3c([nH]c2c1)C1CC2CCOCC2CN1CC3\n",
      "*c1oc2c(O)c3oc(=O)c(*)c(*)c3c(*)c2c1*\n",
      "CCCCC(=O)OCC(COP(O)(=O)OCCN(C)(C)C)OC(=O)CCCC\n",
      "CCCCCCCC(=O)OC(CO)COP(O)(=O)OCC[NH3]\n",
      "CCC(C)C(NC(=O)C(CCC(=O)O)NC(=O)C(N)Cc1cnc[nH]1)C(=O)O\n",
      "CCCCC(=O)N(Cc1ccc(C=C(CC(O)=O)c2nn[nH]n2)cc1)C(O)(C=O)C(C)C\n",
      "O=P1(O)O[U](=O)(=O)O1\n",
      "ON(=O)c1ccc2c(Cl)c(C(=O)NCCCN3CCOCC3)sc2c1\n",
      "CCCCCC=CC(=O)OC(CCC(O)=O)N(C)(C)C\n",
      "C#NC1C2c3c[nH]c4cccc(c34)C(C)(C)C2CC(Cl)C1(C)C=C\n",
      "CCC(C)C(NC(=O)C(Cc1c[nH]c2ccccc12)NC(=O)CN)C(=O)O\n",
      "Nc1ncnc(NC2OC(CO)C(O)C2O)c1N(O)=O\n",
      "ON(=O)O[Pb]ON(O)=O\n",
      "Cc1nn(C)c(C)c1Nc1n[nH]c(N)n1\n",
      "CCc1nnc2n1N=C(c1ccc(N(O)=O)cc1)CS2\n",
      "NC(Cc1ccccc1)C(=O)NC(Cc1cnc[nH]1)C(=O)O\n",
      "Cc1cnc(CS(=O)c2nc3ccc(O)cc3[nH]2)c(C)c1O\n"
     ]
    },
    {
     "ename": "KeyboardInterrupt",
     "evalue": "",
     "output_type": "error",
     "traceback": [
      "\u001b[1;31m---------------------------------------------------------------------------\u001b[0m",
      "\u001b[1;31mKeyboardInterrupt\u001b[0m                         Traceback (most recent call last)",
      "\u001b[1;32m~\\AppData\\Local\\Temp\\ipykernel_16904\\422939544.py\u001b[0m in \u001b[0;36m<module>\u001b[1;34m\u001b[0m\n\u001b[0;32m     37\u001b[0m \u001b[0mD\u001b[0m\u001b[1;33m,\u001b[0m \u001b[0mi\u001b[0m\u001b[1;33m,\u001b[0m \u001b[0mI\u001b[0m \u001b[1;33m=\u001b[0m \u001b[1;33m{\u001b[0m\u001b[1;33m}\u001b[0m\u001b[1;33m,\u001b[0m \u001b[1;36m0\u001b[0m\u001b[1;33m,\u001b[0m \u001b[1;36m0\u001b[0m\u001b[1;33m\u001b[0m\u001b[1;33m\u001b[0m\u001b[0m\n\u001b[0;32m     38\u001b[0m \u001b[1;32mwhile\u001b[0m \u001b[1;32mTrue\u001b[0m\u001b[1;33m:\u001b[0m\u001b[1;33m\u001b[0m\u001b[1;33m\u001b[0m\u001b[0m\n\u001b[1;32m---> 39\u001b[1;33m     \u001b[0msig1\u001b[0m\u001b[1;33m,\u001b[0m \u001b[0msig2\u001b[0m\u001b[1;33m,\u001b[0m \u001b[0mmol\u001b[0m\u001b[1;33m,\u001b[0m \u001b[0msmi\u001b[0m \u001b[1;33m=\u001b[0m \u001b[0mfilter\u001b[0m\u001b[1;33m(\u001b[0m\u001b[0mSmiles\u001b[0m\u001b[1;33m[\u001b[0m\u001b[0mi\u001b[0m\u001b[1;33m]\u001b[0m\u001b[1;33m,\u001b[0m \u001b[0mradius\u001b[0m\u001b[1;33m)\u001b[0m\u001b[1;33m\u001b[0m\u001b[1;33m\u001b[0m\u001b[0m\n\u001b[0m\u001b[0;32m     40\u001b[0m     \u001b[1;32mif\u001b[0m \u001b[0msig1\u001b[0m \u001b[1;33m==\u001b[0m \u001b[1;34m''\u001b[0m \u001b[1;32mor\u001b[0m \u001b[0msig2\u001b[0m \u001b[1;33m==\u001b[0m \u001b[1;34m''\u001b[0m\u001b[1;33m:\u001b[0m\u001b[1;33m\u001b[0m\u001b[1;33m\u001b[0m\u001b[0m\n\u001b[0;32m     41\u001b[0m         \u001b[0mprint\u001b[0m\u001b[1;33m(\u001b[0m\u001b[0mSmiles\u001b[0m\u001b[1;33m[\u001b[0m\u001b[0mi\u001b[0m\u001b[1;33m]\u001b[0m\u001b[1;33m)\u001b[0m\u001b[1;33m\u001b[0m\u001b[1;33m\u001b[0m\u001b[0m\n",
      "\u001b[1;32m~\\AppData\\Local\\Temp\\ipykernel_16904\\422939544.py\u001b[0m in \u001b[0;36mfilter\u001b[1;34m(smi, radius, verbose)\u001b[0m\n\u001b[0;32m     10\u001b[0m             \u001b[1;32mreturn\u001b[0m \u001b[1;34m''\u001b[0m\u001b[1;33m,\u001b[0m \u001b[1;34m''\u001b[0m\u001b[1;33m,\u001b[0m  \u001b[1;32mNone\u001b[0m\u001b[1;33m,\u001b[0m \u001b[1;34m''\u001b[0m\u001b[1;33m\u001b[0m\u001b[1;33m\u001b[0m\u001b[0m\n\u001b[0;32m     11\u001b[0m     \u001b[0mAlphabet\u001b[0m \u001b[1;33m=\u001b[0m \u001b[0mSignatureAlphabet\u001b[0m\u001b[1;33m(\u001b[0m\u001b[0mradius\u001b[0m\u001b[1;33m=\u001b[0m\u001b[0mradius\u001b[0m\u001b[1;33m,\u001b[0m \u001b[0mnBits\u001b[0m\u001b[1;33m=\u001b[0m\u001b[1;36m0\u001b[0m\u001b[1;33m)\u001b[0m\u001b[1;33m\u001b[0m\u001b[1;33m\u001b[0m\u001b[0m\n\u001b[1;32m---> 12\u001b[1;33m     \u001b[0msig1\u001b[0m\u001b[1;33m,\u001b[0m \u001b[0mmol\u001b[0m\u001b[1;33m,\u001b[0m \u001b[0msmi\u001b[0m \u001b[1;33m=\u001b[0m \u001b[0msignature_from_smiles\u001b[0m\u001b[1;33m(\u001b[0m\u001b[0msmi\u001b[0m\u001b[1;33m,\u001b[0m \u001b[0mAlphabet\u001b[0m\u001b[1;33m,\u001b[0m \u001b[0mneighbor\u001b[0m\u001b[1;33m=\u001b[0m\u001b[1;32mTrue\u001b[0m\u001b[1;33m,\u001b[0m \u001b[0mverbose\u001b[0m\u001b[1;33m=\u001b[0m\u001b[1;32mFalse\u001b[0m\u001b[1;33m)\u001b[0m\u001b[1;33m\u001b[0m\u001b[1;33m\u001b[0m\u001b[0m\n\u001b[0m\u001b[0;32m     13\u001b[0m     \u001b[0mAlphabet\u001b[0m \u001b[1;33m=\u001b[0m \u001b[0mSignatureAlphabet\u001b[0m\u001b[1;33m(\u001b[0m\u001b[0mradius\u001b[0m\u001b[1;33m=\u001b[0m\u001b[0mradius\u001b[0m\u001b[1;33m,\u001b[0m \u001b[0mnBits\u001b[0m\u001b[1;33m=\u001b[0m\u001b[1;36m2048\u001b[0m\u001b[1;33m)\u001b[0m\u001b[1;33m\u001b[0m\u001b[1;33m\u001b[0m\u001b[0m\n\u001b[0;32m     14\u001b[0m     \u001b[0msig2\u001b[0m\u001b[1;33m,\u001b[0m \u001b[0mmol\u001b[0m\u001b[1;33m,\u001b[0m \u001b[0msmi\u001b[0m \u001b[1;33m=\u001b[0m \u001b[0msignature_from_smiles\u001b[0m\u001b[1;33m(\u001b[0m\u001b[0msmi\u001b[0m\u001b[1;33m,\u001b[0m \u001b[0mAlphabet\u001b[0m\u001b[1;33m,\u001b[0m \u001b[0mneighbor\u001b[0m\u001b[1;33m=\u001b[0m\u001b[1;32mTrue\u001b[0m\u001b[1;33m,\u001b[0m \u001b[0mverbose\u001b[0m\u001b[1;33m=\u001b[0m\u001b[1;32mFalse\u001b[0m\u001b[1;33m)\u001b[0m\u001b[1;33m\u001b[0m\u001b[1;33m\u001b[0m\u001b[0m\n",
      "\u001b[1;32m~\\Documents\\INRAE\\Diophantine\\Enumération\\github\\signature\\src\\signature\\signature_alphabet.py\u001b[0m in \u001b[0;36msignature_from_smiles\u001b[1;34m(smiles, Alphabet, neighbor, string, verbose)\u001b[0m\n\u001b[0;32m    293\u001b[0m         \u001b[1;32mif\u001b[0m \u001b[0mmol\u001b[0m \u001b[1;33m==\u001b[0m \u001b[1;32mNone\u001b[0m\u001b[1;33m:\u001b[0m\u001b[1;33m\u001b[0m\u001b[1;33m\u001b[0m\u001b[0m\n\u001b[0;32m    294\u001b[0m             \u001b[1;32mcontinue\u001b[0m\u001b[1;33m\u001b[0m\u001b[1;33m\u001b[0m\u001b[0m\n\u001b[1;32m--> 295\u001b[1;33m         sig = get_molecule_signature(\n\u001b[0m\u001b[0;32m    296\u001b[0m             \u001b[0mmol\u001b[0m\u001b[1;33m,\u001b[0m\u001b[1;33m\u001b[0m\u001b[1;33m\u001b[0m\u001b[0m\n\u001b[0;32m    297\u001b[0m             \u001b[0mradius\u001b[0m\u001b[1;33m=\u001b[0m\u001b[0mAlphabet\u001b[0m\u001b[1;33m.\u001b[0m\u001b[0mradius\u001b[0m\u001b[1;33m,\u001b[0m\u001b[1;33m\u001b[0m\u001b[1;33m\u001b[0m\u001b[0m\n",
      "\u001b[1;32m~\\Documents\\INRAE\\Diophantine\\Enumération\\github\\signature\\src\\signature\\signature.py\u001b[0m in \u001b[0;36mget_molecule_signature\u001b[1;34m(mol, radius, neighbor, nBits, isomericSmiles, allHsExplicit, verbose)\u001b[0m\n\u001b[0;32m    340\u001b[0m \u001b[1;33m\u001b[0m\u001b[0m\n\u001b[0;32m    341\u001b[0m         \u001b[1;31m# We compute atom signature for atm\u001b[0m\u001b[1;33m\u001b[0m\u001b[1;33m\u001b[0m\u001b[0m\n\u001b[1;32m--> 342\u001b[1;33m         sig = get_atom_signature(\n\u001b[0m\u001b[0;32m    343\u001b[0m             \u001b[0matm\u001b[0m\u001b[1;33m,\u001b[0m\u001b[1;33m\u001b[0m\u001b[1;33m\u001b[0m\u001b[0m\n\u001b[0;32m    344\u001b[0m             \u001b[0mradius\u001b[0m\u001b[1;33m=\u001b[0m\u001b[0mradius\u001b[0m\u001b[1;33m,\u001b[0m\u001b[1;33m\u001b[0m\u001b[1;33m\u001b[0m\u001b[0m\n",
      "\u001b[1;32m~\\Documents\\INRAE\\Diophantine\\Enumération\\github\\signature\\src\\signature\\signature.py\u001b[0m in \u001b[0;36mget_atom_signature\u001b[1;34m(atm, radius, neighbor, isomericSmiles, allHsExplicit, verbose)\u001b[0m\n\u001b[0;32m    267\u001b[0m     \u001b[0msig_neighbor\u001b[0m\u001b[1;33m,\u001b[0m \u001b[0mtemp_sig\u001b[0m \u001b[1;33m=\u001b[0m \u001b[1;34m\"\"\u001b[0m\u001b[1;33m,\u001b[0m \u001b[1;33m[\u001b[0m\u001b[1;33m]\u001b[0m\u001b[1;33m\u001b[0m\u001b[1;33m\u001b[0m\u001b[0m\n\u001b[0;32m    268\u001b[0m     \u001b[1;32mfor\u001b[0m \u001b[0ma\u001b[0m \u001b[1;32min\u001b[0m \u001b[0matmset\u001b[0m\u001b[1;33m:\u001b[0m\u001b[1;33m\u001b[0m\u001b[1;33m\u001b[0m\u001b[0m\n\u001b[1;32m--> 269\u001b[1;33m         s = atom_signature(\n\u001b[0m\u001b[0;32m    270\u001b[0m             \u001b[0ma\u001b[0m\u001b[1;33m,\u001b[0m\u001b[1;33m\u001b[0m\u001b[1;33m\u001b[0m\u001b[0m\n\u001b[0;32m    271\u001b[0m             \u001b[0mradius\u001b[0m\u001b[1;33m=\u001b[0m\u001b[0mradius\u001b[0m\u001b[1;33m,\u001b[0m\u001b[1;33m\u001b[0m\u001b[1;33m\u001b[0m\u001b[0m\n",
      "\u001b[1;32m~\\Documents\\INRAE\\Diophantine\\Enumération\\github\\signature\\src\\signature\\signature.py\u001b[0m in \u001b[0;36matom_signature\u001b[1;34m(atm, radius, isomericSmiles, allHsExplicit, verbose)\u001b[0m\n\u001b[0;32m    101\u001b[0m             \u001b[0matoms\u001b[0m\u001b[1;33m.\u001b[0m\u001b[0madd\u001b[0m\u001b[1;33m(\u001b[0m\u001b[0mmol\u001b[0m\u001b[1;33m.\u001b[0m\u001b[0mGetBondWithIdx\u001b[0m\u001b[1;33m(\u001b[0m\u001b[0mbidx\u001b[0m\u001b[1;33m)\u001b[0m\u001b[1;33m.\u001b[0m\u001b[0mGetBeginAtomIdx\u001b[0m\u001b[1;33m(\u001b[0m\u001b[1;33m)\u001b[0m\u001b[1;33m)\u001b[0m\u001b[1;33m\u001b[0m\u001b[1;33m\u001b[0m\u001b[0m\n\u001b[0;32m    102\u001b[0m             \u001b[0matoms\u001b[0m\u001b[1;33m.\u001b[0m\u001b[0madd\u001b[0m\u001b[1;33m(\u001b[0m\u001b[0mmol\u001b[0m\u001b[1;33m.\u001b[0m\u001b[0mGetBondWithIdx\u001b[0m\u001b[1;33m(\u001b[0m\u001b[0mbidx\u001b[0m\u001b[1;33m)\u001b[0m\u001b[1;33m.\u001b[0m\u001b[0mGetEndAtomIdx\u001b[0m\u001b[1;33m(\u001b[0m\u001b[1;33m)\u001b[0m\u001b[1;33m)\u001b[0m\u001b[1;33m\u001b[0m\u001b[1;33m\u001b[0m\u001b[0m\n\u001b[1;32m--> 103\u001b[1;33m         \u001b[0matomsToUse\u001b[0m \u001b[1;33m=\u001b[0m \u001b[0mlist\u001b[0m\u001b[1;33m(\u001b[0m\u001b[0matoms\u001b[0m\u001b[1;33m)\u001b[0m\u001b[1;33m\u001b[0m\u001b[1;33m\u001b[0m\u001b[0m\n\u001b[0m\u001b[0;32m    104\u001b[0m     \u001b[1;32melse\u001b[0m\u001b[1;33m:\u001b[0m\u001b[1;33m\u001b[0m\u001b[1;33m\u001b[0m\u001b[0m\n\u001b[0;32m    105\u001b[0m         \u001b[0matomsToUse\u001b[0m \u001b[1;33m=\u001b[0m \u001b[1;33m[\u001b[0m\u001b[0matmidx\u001b[0m\u001b[1;33m]\u001b[0m\u001b[1;33m\u001b[0m\u001b[1;33m\u001b[0m\u001b[0m\n",
      "\u001b[1;31mKeyboardInterrupt\u001b[0m: "
     ]
    }
   ],
   "source": [
    "# Compute signature in various format\n",
    "\n",
    "\n",
    "def filter(smi, radius, verbose=False):\n",
    "    if \".\" in smi:  #\n",
    "        return \"\", \"\", None, \"\"\n",
    "    if \"*\" in smi:  #\n",
    "        return \"\", \"\", None, \"\"\n",
    "    if \"[\" in smi:  # cannot process [*] without kekularization\n",
    "        if \"@\" not in smi:\n",
    "            return \"\", \"\", None, \"\"\n",
    "    Alphabet = SignatureAlphabet(radius=radius, nBits=0)\n",
    "    sig1, mol, smi = signature_from_smiles(smi, Alphabet, neighbor=True, verbose=False)\n",
    "    Alphabet = SignatureAlphabet(radius=radius, nBits=2048)\n",
    "    sig2, mol, smi = signature_from_smiles(smi, Alphabet, neighbor=True, verbose=False)\n",
    "    if sig1 == \"\" or sig2 == \"\":\n",
    "        return \"\", \"\", None, \"\"\n",
    "    return sig1, sig2, mol, smi\n",
    "\n",
    "\n",
    "# parameters\n",
    "radius = 2\n",
    "size = 1000\n",
    "ext = f\"_radius_{radius}_size_{size}\"\n",
    "# filename = './datasets/emolecule_weight_500'\n",
    "filename = \"./datasets/MetaNetX_weight_500\"\n",
    "seed = 10\n",
    "np.random.seed(seed=seed)\n",
    "\n",
    "# Load Smiles file\n",
    "H, D = read_csv(filename)\n",
    "print(H, D.shape[0])\n",
    "Smiles = np.asarray(list(set(D[:, 1])))\n",
    "print(f\"Number of smiles: {len(Smiles)}\")\n",
    "np.random.shuffle(Smiles)\n",
    "\n",
    "# Get to business\n",
    "H = [\n",
    "    \"SMILES\",\n",
    "    \"SIG\",\n",
    "    \"SIG-NBIT\",\n",
    "]\n",
    "D, i, I = {}, 0, 0\n",
    "while True:\n",
    "    sig1, sig2, mol, smi = filter(Smiles[i], radius)\n",
    "    if sig1 == \"\" or sig2 == \"\":\n",
    "        print(Smiles[i])\n",
    "        i += 1\n",
    "        continue\n",
    "    D[I] = [smi, sig1, sig2]\n",
    "    i, I = i + 1, I + 1\n",
    "    if I == size:\n",
    "        break\n",
    "D = np.asarray(list(D.values()))\n",
    "write_csv(filename + ext, H, D)"
   ]
  },
  {
   "cell_type": "markdown",
   "id": "3336d459-cca0-4128-a1de-a5c280ce7d6c",
   "metadata": {},
   "source": [
    "## Build Signature Alphabet"
   ]
  },
  {
   "cell_type": "code",
   "execution_count": 5,
   "id": "f0ffe044-eca7-4f27-9c26-51744dad278f",
   "metadata": {
    "scrolled": true,
    "tags": []
   },
   "outputs": [
    {
     "name": "stdout",
     "output_type": "stream",
     "text": [
      "Header=['ID', 'SMILES']\n",
      "D=(188547, 2)\n",
      "Number of smiles: 188547\n",
      "... processing alphabet iteration: 0 size: 0 time: 0.0\n",
      "... processing alphabet iteration: 1000 size: 6971 time: 15.204696893692017\n"
     ]
    },
    {
     "ename": "KeyboardInterrupt",
     "evalue": "",
     "output_type": "error",
     "traceback": [
      "\u001b[1;31m---------------------------------------------------------------------------\u001b[0m",
      "\u001b[1;31mKeyboardInterrupt\u001b[0m                         Traceback (most recent call last)",
      "\u001b[1;32m~\\AppData\\Local\\Temp\\ipykernel_16904\\1704292433.py\u001b[0m in \u001b[0;36m<module>\u001b[1;34m\u001b[0m\n\u001b[0;32m     24\u001b[0m \u001b[1;31m# Get save and load Alphabet\u001b[0m\u001b[1;33m\u001b[0m\u001b[1;33m\u001b[0m\u001b[0m\n\u001b[0;32m     25\u001b[0m \u001b[0mstart_time\u001b[0m \u001b[1;33m=\u001b[0m \u001b[0mtime\u001b[0m\u001b[1;33m.\u001b[0m\u001b[0mtime\u001b[0m\u001b[1;33m(\u001b[0m\u001b[1;33m)\u001b[0m\u001b[1;33m\u001b[0m\u001b[1;33m\u001b[0m\u001b[0m\n\u001b[1;32m---> 26\u001b[1;33m \u001b[0mAlphabet\u001b[0m\u001b[1;33m.\u001b[0m\u001b[0mfill\u001b[0m\u001b[1;33m(\u001b[0m\u001b[0mSmiles\u001b[0m\u001b[1;33m,\u001b[0m \u001b[0mverbose\u001b[0m\u001b[1;33m=\u001b[0m\u001b[1;32mFalse\u001b[0m\u001b[1;33m)\u001b[0m\u001b[1;33m\u001b[0m\u001b[1;33m\u001b[0m\u001b[0m\n\u001b[0m\u001b[0;32m     27\u001b[0m \u001b[0mAlphabet\u001b[0m\u001b[1;33m.\u001b[0m\u001b[0msave\u001b[0m\u001b[1;33m(\u001b[0m\u001b[0mfile_alphabet\u001b[0m\u001b[1;33m)\u001b[0m\u001b[1;33m\u001b[0m\u001b[1;33m\u001b[0m\u001b[0m\n\u001b[0;32m     28\u001b[0m \u001b[0mAlphabet\u001b[0m \u001b[1;33m=\u001b[0m \u001b[0mload_alphabet\u001b[0m\u001b[1;33m(\u001b[0m\u001b[0mfile_alphabet\u001b[0m\u001b[1;33m)\u001b[0m\u001b[1;33m\u001b[0m\u001b[1;33m\u001b[0m\u001b[0m\n",
      "\u001b[1;32m~\\Documents\\INRAE\\Diophantine\\Enumération\\github\\signature\\src\\signature\\signature_alphabet.py\u001b[0m in \u001b[0;36mfill\u001b[1;34m(self, Smiles, verbose)\u001b[0m\n\u001b[0;32m     74\u001b[0m             \u001b[1;32mif\u001b[0m \u001b[1;34m\"*\"\u001b[0m \u001b[1;32min\u001b[0m \u001b[0mSmiles\u001b[0m\u001b[1;33m[\u001b[0m\u001b[0mi\u001b[0m\u001b[1;33m]\u001b[0m\u001b[1;33m:\u001b[0m  \u001b[1;31m# no wild card allowed\u001b[0m\u001b[1;33m\u001b[0m\u001b[1;33m\u001b[0m\u001b[0m\n\u001b[0;32m     75\u001b[0m                 \u001b[1;32mcontinue\u001b[0m\u001b[1;33m\u001b[0m\u001b[1;33m\u001b[0m\u001b[0m\n\u001b[1;32m---> 76\u001b[1;33m             \u001b[0msignature\u001b[0m\u001b[1;33m,\u001b[0m \u001b[0m_\u001b[0m\u001b[1;33m,\u001b[0m \u001b[0m_\u001b[0m \u001b[1;33m=\u001b[0m \u001b[0msignature_from_smiles\u001b[0m\u001b[1;33m(\u001b[0m\u001b[0mSmiles\u001b[0m\u001b[1;33m[\u001b[0m\u001b[0mi\u001b[0m\u001b[1;33m]\u001b[0m\u001b[1;33m,\u001b[0m \u001b[0mself\u001b[0m\u001b[1;33m,\u001b[0m \u001b[0mneighbor\u001b[0m\u001b[1;33m=\u001b[0m\u001b[1;32mTrue\u001b[0m\u001b[1;33m,\u001b[0m \u001b[0mverbose\u001b[0m\u001b[1;33m=\u001b[0m\u001b[0mverbose\u001b[0m\u001b[1;33m)\u001b[0m\u001b[1;33m\u001b[0m\u001b[1;33m\u001b[0m\u001b[0m\n\u001b[0m\u001b[0;32m     77\u001b[0m             \u001b[1;32mif\u001b[0m \u001b[0mlen\u001b[0m\u001b[1;33m(\u001b[0m\u001b[0msignature\u001b[0m\u001b[1;33m)\u001b[0m \u001b[1;33m==\u001b[0m \u001b[1;36m0\u001b[0m\u001b[1;33m:\u001b[0m\u001b[1;33m\u001b[0m\u001b[1;33m\u001b[0m\u001b[0m\n\u001b[0;32m     78\u001b[0m                 \u001b[1;32mif\u001b[0m \u001b[0mverbose\u001b[0m\u001b[1;33m:\u001b[0m\u001b[1;33m\u001b[0m\u001b[1;33m\u001b[0m\u001b[0m\n",
      "\u001b[1;32m~\\Documents\\INRAE\\Diophantine\\Enumération\\github\\signature\\src\\signature\\signature_alphabet.py\u001b[0m in \u001b[0;36msignature_from_smiles\u001b[1;34m(smiles, Alphabet, neighbor, string, verbose)\u001b[0m\n\u001b[0;32m    293\u001b[0m         \u001b[1;32mif\u001b[0m \u001b[0mmol\u001b[0m \u001b[1;33m==\u001b[0m \u001b[1;32mNone\u001b[0m\u001b[1;33m:\u001b[0m\u001b[1;33m\u001b[0m\u001b[1;33m\u001b[0m\u001b[0m\n\u001b[0;32m    294\u001b[0m             \u001b[1;32mcontinue\u001b[0m\u001b[1;33m\u001b[0m\u001b[1;33m\u001b[0m\u001b[0m\n\u001b[1;32m--> 295\u001b[1;33m         sig = get_molecule_signature(\n\u001b[0m\u001b[0;32m    296\u001b[0m             \u001b[0mmol\u001b[0m\u001b[1;33m,\u001b[0m\u001b[1;33m\u001b[0m\u001b[1;33m\u001b[0m\u001b[0m\n\u001b[0;32m    297\u001b[0m             \u001b[0mradius\u001b[0m\u001b[1;33m=\u001b[0m\u001b[0mAlphabet\u001b[0m\u001b[1;33m.\u001b[0m\u001b[0mradius\u001b[0m\u001b[1;33m,\u001b[0m\u001b[1;33m\u001b[0m\u001b[1;33m\u001b[0m\u001b[0m\n",
      "\u001b[1;32m~\\Documents\\INRAE\\Diophantine\\Enumération\\github\\signature\\src\\signature\\signature.py\u001b[0m in \u001b[0;36mget_molecule_signature\u001b[1;34m(mol, radius, neighbor, nBits, isomericSmiles, allHsExplicit, verbose)\u001b[0m\n\u001b[0;32m    340\u001b[0m \u001b[1;33m\u001b[0m\u001b[0m\n\u001b[0;32m    341\u001b[0m         \u001b[1;31m# We compute atom signature for atm\u001b[0m\u001b[1;33m\u001b[0m\u001b[1;33m\u001b[0m\u001b[0m\n\u001b[1;32m--> 342\u001b[1;33m         sig = get_atom_signature(\n\u001b[0m\u001b[0;32m    343\u001b[0m             \u001b[0matm\u001b[0m\u001b[1;33m,\u001b[0m\u001b[1;33m\u001b[0m\u001b[1;33m\u001b[0m\u001b[0m\n\u001b[0;32m    344\u001b[0m             \u001b[0mradius\u001b[0m\u001b[1;33m=\u001b[0m\u001b[0mradius\u001b[0m\u001b[1;33m,\u001b[0m\u001b[1;33m\u001b[0m\u001b[1;33m\u001b[0m\u001b[0m\n",
      "\u001b[1;32m~\\Documents\\INRAE\\Diophantine\\Enumération\\github\\signature\\src\\signature\\signature.py\u001b[0m in \u001b[0;36mget_atom_signature\u001b[1;34m(atm, radius, neighbor, isomericSmiles, allHsExplicit, verbose)\u001b[0m\n\u001b[0;32m    251\u001b[0m     \u001b[1;31m# We compute atm signature at radius-1\u001b[0m\u001b[1;33m\u001b[0m\u001b[1;33m\u001b[0m\u001b[0m\n\u001b[0;32m    252\u001b[0m     \u001b[0mradius\u001b[0m \u001b[1;33m=\u001b[0m \u001b[0mradius\u001b[0m \u001b[1;33m-\u001b[0m \u001b[1;36m1\u001b[0m\u001b[1;33m\u001b[0m\u001b[1;33m\u001b[0m\u001b[0m\n\u001b[1;32m--> 253\u001b[1;33m     s = atom_signature(\n\u001b[0m\u001b[0;32m    254\u001b[0m         \u001b[0matm\u001b[0m\u001b[1;33m,\u001b[0m\u001b[1;33m\u001b[0m\u001b[1;33m\u001b[0m\u001b[0m\n\u001b[0;32m    255\u001b[0m         \u001b[0mradius\u001b[0m\u001b[1;33m=\u001b[0m\u001b[0mradius\u001b[0m\u001b[1;33m,\u001b[0m\u001b[1;33m\u001b[0m\u001b[1;33m\u001b[0m\u001b[0m\n",
      "\u001b[1;32m~\\Documents\\INRAE\\Diophantine\\Enumération\\github\\signature\\src\\signature\\signature.py\u001b[0m in \u001b[0;36matom_signature\u001b[1;34m(atm, radius, isomericSmiles, allHsExplicit, verbose)\u001b[0m\n\u001b[0;32m    101\u001b[0m             \u001b[0matoms\u001b[0m\u001b[1;33m.\u001b[0m\u001b[0madd\u001b[0m\u001b[1;33m(\u001b[0m\u001b[0mmol\u001b[0m\u001b[1;33m.\u001b[0m\u001b[0mGetBondWithIdx\u001b[0m\u001b[1;33m(\u001b[0m\u001b[0mbidx\u001b[0m\u001b[1;33m)\u001b[0m\u001b[1;33m.\u001b[0m\u001b[0mGetBeginAtomIdx\u001b[0m\u001b[1;33m(\u001b[0m\u001b[1;33m)\u001b[0m\u001b[1;33m)\u001b[0m\u001b[1;33m\u001b[0m\u001b[1;33m\u001b[0m\u001b[0m\n\u001b[0;32m    102\u001b[0m             \u001b[0matoms\u001b[0m\u001b[1;33m.\u001b[0m\u001b[0madd\u001b[0m\u001b[1;33m(\u001b[0m\u001b[0mmol\u001b[0m\u001b[1;33m.\u001b[0m\u001b[0mGetBondWithIdx\u001b[0m\u001b[1;33m(\u001b[0m\u001b[0mbidx\u001b[0m\u001b[1;33m)\u001b[0m\u001b[1;33m.\u001b[0m\u001b[0mGetEndAtomIdx\u001b[0m\u001b[1;33m(\u001b[0m\u001b[1;33m)\u001b[0m\u001b[1;33m)\u001b[0m\u001b[1;33m\u001b[0m\u001b[1;33m\u001b[0m\u001b[0m\n\u001b[1;32m--> 103\u001b[1;33m         \u001b[0matomsToUse\u001b[0m \u001b[1;33m=\u001b[0m \u001b[0mlist\u001b[0m\u001b[1;33m(\u001b[0m\u001b[0matoms\u001b[0m\u001b[1;33m)\u001b[0m\u001b[1;33m\u001b[0m\u001b[1;33m\u001b[0m\u001b[0m\n\u001b[0m\u001b[0;32m    104\u001b[0m     \u001b[1;32melse\u001b[0m\u001b[1;33m:\u001b[0m\u001b[1;33m\u001b[0m\u001b[1;33m\u001b[0m\u001b[0m\n\u001b[0;32m    105\u001b[0m         \u001b[0matomsToUse\u001b[0m \u001b[1;33m=\u001b[0m \u001b[1;33m[\u001b[0m\u001b[0matmidx\u001b[0m\u001b[1;33m]\u001b[0m\u001b[1;33m\u001b[0m\u001b[1;33m\u001b[0m\u001b[0m\n",
      "\u001b[1;31mKeyboardInterrupt\u001b[0m: "
     ]
    }
   ],
   "source": [
    "# Compute signature in various format\n",
    "\n",
    "# Parameters\n",
    "radius = 2\n",
    "nBits = 2048\n",
    "allHsExplicit = False\n",
    "ext = \"_Alphabet\"\n",
    "ext += \"_hydrogen\" if allHsExplicit else \"\"\n",
    "ext += f\"_radius_{radius}_nBits_{nBits}\"\n",
    "file_smiles = \"./datasets/MetaNetX_weight_500\"\n",
    "file_alphabet = file_smiles + ext\n",
    "seed = 10\n",
    "np.random.seed(seed=seed)\n",
    "\n",
    "# Load Smiles file\n",
    "H, D = read_csv(file_smiles)\n",
    "print(f\"Header={H}\\nD={D.shape}\")\n",
    "Smiles = np.asarray(list(D[:, 1]))\n",
    "print(f\"Number of smiles: {len(Smiles)}\")\n",
    "\n",
    "# Create Alphabet\n",
    "Alphabet = SignatureAlphabet(radius=radius, nBits=nBits)\n",
    "\n",
    "# Get save and load Alphabet\n",
    "start_time = time.time()\n",
    "Alphabet.fill(Smiles, verbose=False)\n",
    "Alphabet.save(file_alphabet)\n",
    "Alphabet = load_alphabet(file_alphabet)\n",
    "print(f\"CPU time compute Alphabet: {time.time() - start_time:.2f}\")\n",
    "Alphabet.printout()"
   ]
  },
  {
   "cell_type": "code",
   "execution_count": null,
   "id": "c5900408",
   "metadata": {},
   "outputs": [],
   "source": []
  }
 ],
 "metadata": {
  "kernelspec": {
   "display_name": "Python 3 (ipykernel)",
   "language": "python",
   "name": "python3"
  },
  "language_info": {
   "codemirror_mode": {
    "name": "ipython",
    "version": 3
   },
   "file_extension": ".py",
   "mimetype": "text/x-python",
   "name": "python",
   "nbconvert_exporter": "python",
   "pygments_lexer": "ipython3",
   "version": "3.9.13"
  }
 },
 "nbformat": 4,
 "nbformat_minor": 5
}
