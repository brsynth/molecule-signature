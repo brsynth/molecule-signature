{
 "cells": [
  {
   "cell_type": "markdown",
   "metadata": {},
   "source": [
    "# How-To: build Signature from molecules"
   ]
  },
  {
   "cell_type": "markdown",
   "metadata": {
    "vscode": {
     "languageId": "plaintext"
    }
   },
   "source": [
    "Molecule signature is available using the `MoleculeSignature` object which expect to be fed with a RDkit Mol object:"
   ]
  },
  {
   "cell_type": "code",
   "execution_count": 2,
   "metadata": {},
   "outputs": [
    {
     "data": {
      "text/plain": [
       "MoleculeSignature(atoms=[AtomSignature(morgans=(650, 1004), root='[O;H0;h0;D2;X2]-[C;H1;h1;D2;X3]=[O;H0;h0;D1;X1:1]', root_minus='None', neighbors=[]), AtomSignature(morgans=(694, 287, 1276), root='[C;H3;h3;D1;X4]-[O;H0;h0;D2;X2]-[C;H1;h1;D2;X3:1]=[O;H0;h0;D1;X1]', root_minus='None', neighbors=[]), AtomSignature(morgans=(695, 1874), root='[C;H3;h3;D1;X4]-[O;H0;h0;D2;X2:1]-[C;H1;h1;D2;X3]=[O;H0;h0;D1;X1]', root_minus='None', neighbors=[]), AtomSignature(morgans=(1057, 841), root='[C;H1;h1;D2;X3]-[O;H0;h0;D2;X2]-[C;H3;h3;D1;X4:1]', root_minus='None', neighbors=[])])"
      ]
     },
     "execution_count": 2,
     "metadata": {},
     "output_type": "execute_result"
    }
   ],
   "source": [
    "from rdkit import Chem\n",
    "from signature.Signature import MoleculeSignature\n",
    "\n",
    "mol = Chem.MolFromSmiles(\"COC=O\")\n",
    "mol_sig = MoleculeSignature(mol)\n",
    "mol_sig"
   ]
  },
  {
   "cell_type": "markdown",
   "metadata": {},
   "source": [
    "Once built, the signature can be exported as a canonic string with the `.to_string()` method:"
   ]
  },
  {
   "cell_type": "code",
   "execution_count": 4,
   "metadata": {},
   "outputs": [
    {
     "data": {
      "text/plain": [
       "'650-1004 ## [O;H0;h0;D2;X2]-[C;H1;h1;D2;X3]=[O;H0;h0;D1;X1:1] .. 694-287-1276 ## [C;H3;h3;D1;X4]-[O;H0;h0;D2;X2]-[C;H1;h1;D2;X3:1]=[O;H0;h0;D1;X1] .. 695-1874 ## [C;H3;h3;D1;X4]-[O;H0;h0;D2;X2:1]-[C;H1;h1;D2;X3]=[O;H0;h0;D1;X1] .. 1057-841 ## [C;H1;h1;D2;X3]-[O;H0;h0;D2;X2]-[C;H3;h3;D1;X4:1]'"
      ]
     },
     "execution_count": 4,
     "metadata": {},
     "output_type": "execute_result"
    }
   ],
   "source": [
    "mol_sig.to_string()"
   ]
  },
  {
   "cell_type": "markdown",
   "metadata": {},
   "source": [
    "Signatures are exportable as a list of atomatic signatures with `.to_list()`:"
   ]
  },
  {
   "cell_type": "code",
   "execution_count": 5,
   "metadata": {},
   "outputs": [
    {
     "data": {
      "text/plain": [
       "['650-1004 ## [O;H0;h0;D2;X2]-[C;H1;h1;D2;X3]=[O;H0;h0;D1;X1:1]',\n",
       " '694-287-1276 ## [C;H3;h3;D1;X4]-[O;H0;h0;D2;X2]-[C;H1;h1;D2;X3:1]=[O;H0;h0;D1;X1]',\n",
       " '695-1874 ## [C;H3;h3;D1;X4]-[O;H0;h0;D2;X2:1]-[C;H1;h1;D2;X3]=[O;H0;h0;D1;X1]',\n",
       " '1057-841 ## [C;H1;h1;D2;X3]-[O;H0;h0;D2;X2]-[C;H3;h3;D1;X4:1]']"
      ]
     },
     "execution_count": 5,
     "metadata": {},
     "output_type": "execute_result"
    }
   ],
   "source": [
    "mol_sig.to_list()"
   ]
  },
  {
   "cell_type": "markdown",
   "metadata": {},
   "source": [
    "A `MoleculeSignature` object may be created from a previous signature export:"
   ]
  },
  {
   "cell_type": "code",
   "execution_count": 7,
   "metadata": {},
   "outputs": [
    {
     "data": {
      "text/plain": [
       "['650-1004 ## [O;H0;h0;D2;X2]-[C;H1;h1;D2;X3]=[O;H0;h0;D1;X1:1]',\n",
       " '694-287-1276 ## [C;H3;h3;D1;X4]-[O;H0;h0;D2;X2]-[C;H1;h1;D2;X3:1]=[O;H0;h0;D1;X1]',\n",
       " '695-1874 ## [C;H3;h3;D1;X4]-[O;H0;h0;D2;X2:1]-[C;H1;h1;D2;X3]=[O;H0;h0;D1;X1]',\n",
       " '1057-841 ## [C;H1;h1;D2;X3]-[O;H0;h0;D2;X2]-[C;H3;h3;D1;X4:1]']"
      ]
     },
     "execution_count": 7,
     "metadata": {},
     "output_type": "execute_result"
    }
   ],
   "source": [
    "sig_str = '650-1004 ## [O;H0;h0;D2;X2]-[C;H1;h1;D2;X3]=[O;H0;h0;D1;X1:1] .. 694-287-1276 ## [C;H3;h3;D1;X4]-[O;H0;h0;D2;X2]-[C;H1;h1;D2;X3:1]=[O;H0;h0;D1;X1] .. 695-1874 ## [C;H3;h3;D1;X4]-[O;H0;h0;D2;X2:1]-[C;H1;h1;D2;X3]=[O;H0;h0;D1;X1] .. 1057-841 ## [C;H1;h1;D2;X3]-[O;H0;h0;D2;X2]-[C;H3;h3;D1;X4:1]'\n",
    "mol_sig2 = MoleculeSignature.from_string(sig_str)\n",
    "mol_sig2.to_list()"
   ]
  },
  {
   "cell_type": "markdown",
   "metadata": {},
   "source": [
    "Signature neighbors can be generated with `.post_compute_neighbors()` and exported using `.to_string(neighbors=True)` and `.to_list(neighbors=True)` methods:"
   ]
  },
  {
   "cell_type": "code",
   "execution_count": 9,
   "metadata": {},
   "outputs": [
    {
     "data": {
      "text/plain": [
       "['650-1004 ## [C;H1;h1;D2;X3]=[O;H0;h0;D1;X1:1] && DOUBLE <> [O;H0;h0;D1;X1]=[C;H1;h1;D2;X3:1]-[O;H0;h0;D2;X2]',\n",
       " '694-287-1276 ## [O;H0;h0;D1;X1]=[C;H1;h1;D2;X3:1]-[O;H0;h0;D2;X2] && DOUBLE <> [C;H1;h1;D2;X3]=[O;H0;h0;D1;X1:1] && SINGLE <> [C;H1;h1;D2;X3]-[O;H0;h0;D2;X2:1]-[C;H3;h3;D1;X4]',\n",
       " '695-1874 ## [C;H1;h1;D2;X3]-[O;H0;h0;D2;X2:1]-[C;H3;h3;D1;X4] && SINGLE <> [O;H0;h0;D1;X1]=[C;H1;h1;D2;X3:1]-[O;H0;h0;D2;X2] && SINGLE <> [O;H0;h0;D2;X2]-[C;H3;h3;D1;X4:1]',\n",
       " '1057-841 ## [O;H0;h0;D2;X2]-[C;H3;h3;D1;X4:1] && SINGLE <> [C;H1;h1;D2;X3]-[O;H0;h0;D2;X2:1]-[C;H3;h3;D1;X4]']"
      ]
     },
     "execution_count": 9,
     "metadata": {},
     "output_type": "execute_result"
    }
   ],
   "source": [
    "mol_sig2.post_compute_neighbors()\n",
    "mol_sig2.to_list(True)"
   ]
  },
  {
   "cell_type": "markdown",
   "metadata": {},
   "source": [
    "Molecule signature equalities can be assessed with the `==` operator:"
   ]
  },
  {
   "cell_type": "code",
   "execution_count": 10,
   "metadata": {},
   "outputs": [
    {
     "data": {
      "text/plain": [
       "False"
      ]
     },
     "execution_count": 10,
     "metadata": {},
     "output_type": "execute_result"
    }
   ],
   "source": [
    "mol_sig = MoleculeSignature(mol, radius=1)\n",
    "other_sig = MoleculeSignature(mol)\n",
    "mol_sig == other_sig"
   ]
  },
  {
   "cell_type": "code",
   "execution_count": 11,
   "metadata": {},
   "outputs": [
    {
     "data": {
      "text/plain": [
       "True"
      ]
     },
     "execution_count": 11,
     "metadata": {},
     "output_type": "execute_result"
    }
   ],
   "source": [
    "mol_sig = MoleculeSignature(mol)\n",
    "other_sig = MoleculeSignature.from_string(mol_sig.to_string())\n",
    "mol_sig == other_sig"
   ]
  },
  {
   "cell_type": "markdown",
   "metadata": {},
   "source": [
    "## How To: create signatures to feed an alphabet of atomic signatures"
   ]
  },
  {
   "cell_type": "markdown",
   "metadata": {},
   "source": [
    "Atom signatures as character strings"
   ]
  },
  {
   "cell_type": "code",
   "execution_count": 12,
   "metadata": {},
   "outputs": [
    {
     "name": "stdout",
     "output_type": "stream",
     "text": [
      "807-1155 ## [C;H3;h3;D1;X4]-[O;H1;h1;D1;X2:1] && SINGLE <> [O;H1;h1;D1;X2]-[C;H3;h3;D1;X4:1]\n",
      "1057 ## [O;H1;h1;D1;X2]-[C;H3;h3;D1;X4:1] && SINGLE <> [C;H3;h3;D1;X4]-[O;H1;h1;D1;X2:1]\n"
     ]
    }
   ],
   "source": [
    "from signature.utils import mol_from_smiles\n",
    "from signature.Signature import AtomSignature, MoleculeSignature\n",
    "\n",
    "alphabet = []\n",
    "\n",
    "# Build\n",
    "smi = \"CO\"\n",
    "mol = mol_from_smiles(smi)\n",
    "ms = MoleculeSignature(mol, radius=2, use_smarts=True, nbits=2048, boundary_bonds=False, map_root=True)\n",
    "\n",
    "# Feed using string representation\n",
    "for _as in ms.to_list():\n",
    "    if _as not in alphabet:\n",
    "        alphabet.append(_as)\n",
    "\n",
    "# Extend to neighbors\n",
    "for _as in alphabet:\n",
    "    _as = AtomSignature.from_string(_as)\n",
    "    _as.post_compute_neighbors()\n",
    "    print(_as.to_string(True))"
   ]
  },
  {
   "cell_type": "markdown",
   "metadata": {},
   "source": [
    "Atom signatures as AtomSignature objecs"
   ]
  },
  {
   "cell_type": "code",
   "execution_count": 14,
   "metadata": {},
   "outputs": [
    {
     "name": "stdout",
     "output_type": "stream",
     "text": [
      "807-1155 ## [C;H3;h3;D1;X4]-[O;H1;h1;D1;X2:1] && SINGLE <> [O;H1;h1;D1;X2]-[C;H3;h3;D1;X4:1]\n",
      "1057 ## [O;H1;h1;D1;X2]-[C;H3;h3;D1;X4:1] && SINGLE <> [C;H3;h3;D1;X4]-[O;H1;h1;D1;X2:1]\n"
     ]
    }
   ],
   "source": [
    "from signature.utils import mol_from_smiles\n",
    "from signature.Signature import MoleculeSignature\n",
    "\n",
    "alphabet = []\n",
    "\n",
    "# Build\n",
    "smi = \"CO\"\n",
    "mol = mol_from_smiles(smi)\n",
    "ms = MoleculeSignature(mol, radius=2, use_smarts=True, nbits=2048, boundary_bonds=False, map_root=True)\n",
    "\n",
    "# Feed using AtomSignature\n",
    "for _as in ms.atoms:\n",
    "    if _as not in alphabet:\n",
    "        alphabet.append(_as)\n",
    "\n",
    "# Extend to neighbors\n",
    "for _as in alphabet:\n",
    "    _as.post_compute_neighbors()\n",
    "    print(_as.to_string(True))"
   ]
  }
 ],
 "metadata": {
  "kernelspec": {
   "display_name": "sig",
   "language": "python",
   "name": "python3"
  },
  "language_info": {
   "codemirror_mode": {
    "name": "ipython",
    "version": 3
   },
   "file_extension": ".py",
   "mimetype": "text/x-python",
   "name": "python",
   "nbconvert_exporter": "python",
   "pygments_lexer": "ipython3",
   "version": "3.13.1"
  }
 },
 "nbformat": 4,
 "nbformat_minor": 2
}
