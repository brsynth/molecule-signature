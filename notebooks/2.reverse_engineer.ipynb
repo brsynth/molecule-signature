{
 "cells": [
  {
   "cell_type": "markdown",
   "id": "07f655fd-60c4-46e3-a38f-80a21e7c011f",
   "metadata": {},
   "source": [
    "# Reverse engineer molecules"
   ]
  },
  {
   "cell_type": "markdown",
   "id": "a5a7e939-9b08-435b-a382-dd1474f9eeb9",
   "metadata": {},
   "source": [
    "## Enumerate signatures and molecules from Morgan fingerprints"
   ]
  },
  {
   "cell_type": "code",
   "execution_count": null,
   "id": "460d62f9-8aaf-4015-b6c9-91e1add0cfeb",
   "metadata": {
    "scrolled": true,
    "tags": []
   },
   "outputs": [],
   "source": [
    "# CHANGE TO YOUR DIRECTORY PATH\n",
    "path_directory = \"C:/Users/meyerp/Documents/INRAE/Diophantine/Enumération/github/signature\"\n",
    "\n",
    "# packages\n",
    "import numpy as np\n",
    "import os\n",
    "import copy\n",
    "\n",
    "import pandas as pd\n",
    "import sys\n",
    "import time\n",
    "\n",
    "import importlib\n",
    "\n",
    "np.set_printoptions(threshold=sys.maxsize)\n",
    "\n",
    "os.chdir(path_directory)\n",
    "\n",
    "from rdkit.Chem.Descriptors import ExactMolWt\n",
    "from rdkit import Chem\n",
    "from rdkit import RDLogger\n",
    "\n",
    "RDLogger.DisableLog(\"rdApp.*\")\n",
    "\n",
    "from rdkit.Chem import AllChem\n",
    "fpgen = AllChem.GetMorganGenerator(radius=2, fpSize=2048)"
   ]
  },
  {
   "cell_type": "code",
   "execution_count": null,
   "id": "c5588bd9",
   "metadata": {},
   "outputs": [],
   "source": [
    "import importlib\n",
    "\n",
    "import signature.enumerate_signature as enumerate_signature\n",
    "import signature.enumerate_utils as enumerate_utils\n",
    "import signature.Signature as Signature\n",
    "import signature.signature_alphabet as signature_alphabet\n",
    "import signature.utils as utils\n",
    "\n",
    "# Reload the module\n",
    "importlib.reload(enumerate_signature)\n",
    "importlib.reload(enumerate_utils)\n",
    "importlib.reload(Signature)\n",
    "importlib.reload(signature_alphabet)\n",
    "importlib.reload(utils)\n",
    "# Now you can import the specific class again if needed\n",
    "from signature.enumerate_signature import enumerate_molecule_from_signature, enumerate_signature_from_morgan\n",
    "from signature.enumerate_utils import reduced_fingerprint, test_sol_ECFP, test_sol_ECFP_reduced, test_sol_sig\n",
    "from signature.signature_alphabet import (\n",
    "    load_alphabet,\n",
    "    morgan_vector_from_signature,\n",
    "    sanitize_molecule,\n",
    "    SignatureAlphabet,\n",
    "    signature_from_smiles,\n",
    ")\n",
    "from signature.utils import mol_from_smiles, read_csv, read_tsv\n",
    "from signature.Signature import MoleculeSignature"
   ]
  },
  {
   "cell_type": "code",
   "execution_count": null,
   "id": "35910952",
   "metadata": {
    "scrolled": true
   },
   "outputs": [],
   "source": [
    "#### paths\n",
    "\n",
    "## dataset test\n",
    "file_smiles = \"./datasets/metanetx_sample_MAXMW_500_SIZE_1k\"\n",
    "\n",
    "## alphabet\n",
    "file_alphabet = \"./datasets/MetaNetX_weight_500_new_Alphabet_radius_2_nBits_2048_smarts_full_newv_full\"\n",
    "\n",
    "# Load Smiles file\n",
    "#H, D = read_csv(file_smiles)\n",
    "H, D = read_tsv(file_smiles)\n",
    "print(H, D.shape[0])\n",
    "Smiles = np.asarray(list(set(D[:, 0])))\n",
    "print(f\"Number of smiles: {len(Smiles)}\")\n",
    "list_smiles = []\n",
    "for i in range(len(Smiles)):\n",
    "    smi = D[i, 8]\n",
    "    mol = mol_from_smiles(smi, keep_stereo=True)\n",
    "    _, smi_san = sanitize_molecule(mol, formalCharge=True)\n",
    "    list_smiles.append(smi_san)\n",
    "\n",
    "# Get alphabet\n",
    "Alphabet = load_alphabet(file_alphabet)\n",
    "Alphabet.print_out()"
   ]
  },
  {
   "cell_type": "markdown",
   "id": "6e44c099",
   "metadata": {},
   "source": [
    "- to suppress sig without neighbors"
   ]
  },
  {
   "cell_type": "raw",
   "id": "b584d73a-f511-4a36-9cc6-3edb152ad5e5",
   "metadata": {},
   "source": [
    "from signature.Signature import AtomSignature\n",
    "\n",
    "print(\"len(Alphabet.Dict)\", len(Alphabet.Dict))\n",
    "\n",
    "x_to_del = []\n",
    "for x in Alphabet.Dict.keys():\n",
    "    x_as = AtomSignature.from_string(x)\n",
    "    x_as.post_compute_neighbors()\n",
    "    x_neigh = x_as.to_string(True)\n",
    "    if x_neigh[-3:] == \"&& \":\n",
    "        x_to_del.append(x)\n",
    "\n",
    "print(\"Nb to del:\", len(x_to_del))\n",
    "\n",
    "for key in x_to_del:\n",
    "    del Alphabet.Dict[key]\n",
    "\n",
    "new_values = list(range(len(Alphabet.Dict.keys())))\n",
    "for key, new_value in zip(Alphabet.Dict.keys(), new_values):\n",
    "    Alphabet.Dict[key] = new_value\n",
    "    \n",
    "print(\"len(Alphabet.Dict)\", len(Alphabet.Dict))"
   ]
  },
  {
   "cell_type": "markdown",
   "id": "a676d1eb",
   "metadata": {},
   "source": [
    "- ECFP => Signature"
   ]
  },
  {
   "cell_type": "code",
   "execution_count": null,
   "id": "e9982bd4",
   "metadata": {},
   "outputs": [],
   "source": [
    "list_i = []\n",
    "list_smi = []\n",
    "list_nsig = []\n",
    "list_foundsig = []\n",
    "list_ct = []\n",
    "list_ct_solve = []\n",
    "list_timeout = []"
   ]
  },
  {
   "cell_type": "code",
   "execution_count": null,
   "id": "86c4eb27",
   "metadata": {},
   "outputs": [],
   "source": [
    "Alphabet.nBits = 2048\n",
    "max_nbr_partition = int(1e4)\n",
    "\n",
    "for i in range(5):\n",
    "    smi = list_smiles[i]\n",
    "    print(i, \"|\", smi)\n",
    "\n",
    "    mol = Chem.MolFromSmiles(smi)\n",
    "    ms = MoleculeSignature(mol, radius=Alphabet.radius, use_smarts=Alphabet.use_smarts, nbits=0, boundary_bonds=Alphabet.boundary_bonds, map_root=True)\n",
    "    ms.post_compute_neighbors()\n",
    "    sig = sorted([atom.to_string(neighbors=True) for atom in ms.atoms])\n",
    "    morgan = fpgen.GetCountFingerprint(mol).ToList()\n",
    "    \n",
    "    st = time.time()\n",
    "    Ssig, bool_timeout, ct_solve = enumerate_signature_from_morgan(\n",
    "        morgan, Alphabet, max_nbr_partition=max_nbr_partition, verbose=False\n",
    "    )\n",
    "    foundsig = sig in Ssig\n",
    "    ft = time.time() - st\n",
    "\n",
    "    print(f\"{i} | {smi} | {len(Ssig)} | {int(foundsig)} | {ft:.4f} | {ct_solve:.4f}| {bool_timeout}\")\n",
    "\n",
    "    list_i.append(i)\n",
    "    list_smi.append(smi)\n",
    "    list_nsig.append(len(Ssig))\n",
    "    list_foundsig.append(foundsig)\n",
    "    list_ct.append(ft)\n",
    "    list_ct_solve.append(ct_solve)\n",
    "    list_timeout.append(bool_timeout)"
   ]
  },
  {
   "cell_type": "code",
   "execution_count": null,
   "id": "0b786373",
   "metadata": {
    "scrolled": true
   },
   "outputs": [],
   "source": [
    "100 * sum(list_foundsig) / len(list_foundsig)"
   ]
  },
  {
   "cell_type": "code",
   "execution_count": null,
   "id": "119467bc",
   "metadata": {
    "scrolled": true
   },
   "outputs": [],
   "source": [
    "df = pd.DataFrame(\n",
    "    {\n",
    "        \"ID\": list_i,\n",
    "        \"smi\": list_smi,\n",
    "        \"Nsig\": list_nsig,\n",
    "        \"FoundSig\": list_foundsig,\n",
    "        \"CT enum ecfp_red to sig\": list_ct,\n",
    "        \"CT solve by partitions\": list_ct_solve,\n",
    "        \"Partitions timeout\": list_timeout,\n",
    "    }\n",
    ")\n",
    "\n",
    "df\n",
    "\n",
    "# df.to_excel(\"RevSig_ecfp_to_sig.xlsx\", index=False)"
   ]
  },
  {
   "cell_type": "markdown",
   "id": "e20f3ac3",
   "metadata": {},
   "source": [
    "- Signature => Smiles"
   ]
  },
  {
   "cell_type": "code",
   "execution_count": null,
   "id": "8e6bc654",
   "metadata": {},
   "outputs": [],
   "source": [
    "list_i = []\n",
    "list_smi = []\n",
    "list_nmol = []\n",
    "list_foundmol = []\n",
    "list_ct_mol = []\n",
    "list_recursion_timeout = []"
   ]
  },
  {
   "cell_type": "code",
   "execution_count": null,
   "id": "19ff6033",
   "metadata": {},
   "outputs": [],
   "source": [
    "Alphabet.nBits = 0\n",
    "max_nbr_recursion = 1e4\n",
    "max_nbr_solution = 1001\n",
    "repeat = 10\n",
    "\n",
    "print(f\"ID | smi | weigth | Nmol | FoundMol | CPU-time | Timeout\")\n",
    "for i in range(5):\n",
    "    smi = list_smiles[i]\n",
    "    print(i, \"|\", smi)\n",
    "\n",
    "    mol = Chem.MolFromSmiles(smi)\n",
    "    ms = MoleculeSignature(mol, radius=Alphabet.radius, use_smarts=Alphabet.use_smarts, nbits=0, boundary_bonds=Alphabet.boundary_bonds, map_root=True)\n",
    "    ms.post_compute_neighbors()\n",
    "    sig = sorted([atom.to_string(neighbors=True) for atom in ms.atoms])\n",
    "\n",
    "    st = time.time()\n",
    "    smol, recursion_timeout = enumerate_molecule_from_signature(\n",
    "        sig,\n",
    "        Alphabet,\n",
    "        smi,\n",
    "        max_nbr_recursion=max_nbr_recursion,\n",
    "        max_nbr_solution=max_nbr_solution,\n",
    "        repeat=repeat,\n",
    "        verbose=False,\n",
    "    )\n",
    "    ft = time.time() - st\n",
    "    foundmol = smi in smol\n",
    "    if foundmol == False:\n",
    "        print(smol)\n",
    "\n",
    "    print(f\"{i} | {smi} | {len(smol)} | {int(foundmol)} | {ft:.4f} | {recursion_timeout}\")\n",
    "\n",
    "    list_i.append(i)\n",
    "    list_smi.append(smi)\n",
    "    list_nmol.append(len(smol))\n",
    "    list_foundmol.append(int(foundmol))\n",
    "    list_ct_mol.append(ft)\n",
    "    list_recursion_timeout.append(recursion_timeout)"
   ]
  },
  {
   "cell_type": "code",
   "execution_count": null,
   "id": "910c5e2b",
   "metadata": {},
   "outputs": [],
   "source": [
    "100 * sum(list_foundmol) / len(list_foundmol)"
   ]
  },
  {
   "cell_type": "code",
   "execution_count": null,
   "id": "40310522",
   "metadata": {
    "scrolled": true
   },
   "outputs": [],
   "source": [
    "df = pd.DataFrame(\n",
    "    {\n",
    "        \"ID\": list_i,\n",
    "        \"smi\": list_smi,\n",
    "        \"Nmol\": list_nmol,\n",
    "        \"FoundMol\": list_foundmol,\n",
    "        \"CT enum sig to mol\": list_ct_mol,\n",
    "        \"Recursion timeout\": list_recursion_timeout,\n",
    "    }\n",
    ")\n",
    "\n",
    "df\n",
    "\n",
    "# df.to_excel(\"RevSig_sig_to_mol\", index=False)"
   ]
  },
  {
   "cell_type": "markdown",
   "id": "ded4af0c",
   "metadata": {},
   "source": [
    "- ECFP => Signature => Smiles"
   ]
  },
  {
   "cell_type": "code",
   "execution_count": null,
   "id": "fcc2ccb9",
   "metadata": {},
   "outputs": [],
   "source": [
    "list_i = []\n",
    "list_smi = []\n",
    "list_wt = []\n",
    "list_nsig = []\n",
    "list_nsigtrue = []\n",
    "list_foundsig = []\n",
    "list_nmol = []\n",
    "list_foundmol = []\n",
    "list_ct_sig = []\n",
    "list_ct_mol = []\n",
    "list_ct_all = []\n",
    "list_ct_solve = []\n",
    "list_timeout_sig = []\n",
    "list_timeout_mol = []"
   ]
  },
  {
   "cell_type": "code",
   "execution_count": null,
   "id": "b3fdf01f",
   "metadata": {},
   "outputs": [],
   "source": [
    "max_nbr_partition = int(1e4)\n",
    "max_nbr_recursion = 1e4\n",
    "max_nbr_solution = 1001\n",
    "repeat = 10\n",
    "\n",
    "print(f\"ID | smi | weigth | Nsig | NsigTrue | FoundSig | Nmol | FoundMol | CPU-time\")\n",
    "for i in range(5):\n",
    "    # preparation\n",
    "    smi = list_smiles[i]\n",
    "    print(i, \"|\", smi)\n",
    "    wt = ExactMolWt(Chem.MolFromSmiles(smi))\n",
    "\n",
    "    mol = Chem.MolFromSmiles(smi)\n",
    "    ms = MoleculeSignature(mol, radius=Alphabet.radius, use_smarts=Alphabet.use_smarts, nbits=0, boundary_bonds=Alphabet.boundary_bonds, map_root=True)\n",
    "    ms.post_compute_neighbors()\n",
    "    sig = sorted([atom.to_string(neighbors=True) for atom in ms.atoms])\n",
    "    #sig = \" .. \".join(sig)\n",
    "    morgan = fpgen.GetCountFingerprint(mol).ToList()\n",
    "    \n",
    "    # ecfp => signature(s)\n",
    "    st_1 = time.time()\n",
    "    Alphabet.nBits = 0\n",
    "    Ssig, partition_timeout, ct_solve = enumerate_signature_from_morgan(\n",
    "        morgan, Alphabet, max_nbr_partition=max_nbr_partition, verbose=False\n",
    "    )\n",
    "    if len(Ssig) > 20:\n",
    "        partition_timeout = True\n",
    "    Ssig = Ssig[:20]\n",
    "\n",
    "    foundsig = sig in Ssig\n",
    "    ct_sig = time.time() - st_1\n",
    "    print(f\"      ...enumeratesignature: nbr signature(s) {len(Ssig)} CPU-time {ct_sig:.4f}\")\n",
    "\n",
    "    # signature(s) => molecule(s)\n",
    "    st_2 = time.time()\n",
    "    Smol, Nsig = set(), 0\n",
    "    Alphabet.nBits = 2048\n",
    "    list_recursion_timeout = []\n",
    "    for j in range(len(Ssig)):\n",
    "        smol, recursion_timeout = enumerate_molecule_from_signature(\n",
    "            Ssig[j],\n",
    "            Alphabet,\n",
    "            smi,\n",
    "            max_nbr_recursion=max_nbr_recursion,\n",
    "            max_nbr_solution=max_nbr_solution,\n",
    "            repeat=repeat,\n",
    "            verbose=False,\n",
    "        )\n",
    "        list_recursion_timeout.append(recursion_timeout)\n",
    "        if len(smol):\n",
    "            Nsig += 1\n",
    "            print(f\"      ...enumeratemolecule:  signature {j} nbr molecule(s) {len(smol)}\")\n",
    "        Smol = Smol | set(smol)\n",
    "    recursion_timeout = True in list_recursion_timeout\n",
    "    ct_mol = time.time() - st_2\n",
    "\n",
    "    ct_total = time.time() - st_1\n",
    "\n",
    "    Alphabet.nBits = 2048\n",
    "    Smolfinal = []\n",
    "    for smi2 in Smol:\n",
    "        if test_sol_ECFP([smi, smi2], Alphabet=Alphabet):\n",
    "            Smolfinal.append(smi2)\n",
    "\n",
    "    if len(Smol) != len(Smolfinal):\n",
    "        print(\"Smol\", len(Smol), \"Smolfinal\", len(Smolfinal))\n",
    "\n",
    "    foundmol = smi in Smolfinal\n",
    "    if foundmol == False:\n",
    "        print(Smolfinal)\n",
    "\n",
    "    print(\n",
    "        f\"{i} | {smi} | {wt:.1f} | {len(Ssig)} | {Nsig} | {int(foundsig)} | {len(Smolfinal)} | {int(foundmol)} | {ct_total:.4f} | {ct_solve:.4f}\"\n",
    "    )\n",
    "\n",
    "    list_i.append(i)\n",
    "    list_smi.append(smi)\n",
    "    list_wt.append(wt)\n",
    "    list_nsig.append(len(Ssig))\n",
    "    list_nsigtrue.append(Nsig)\n",
    "    list_foundsig.append(int(foundsig))\n",
    "    list_nmol.append(len(Smolfinal))\n",
    "    list_foundmol.append(int(foundmol))\n",
    "    list_ct_sig.append(ct_sig)\n",
    "    list_ct_mol.append(ct_mol)\n",
    "    list_ct_all.append(ct_total)\n",
    "    list_ct_solve.append(ct_solve)\n",
    "    list_timeout_sig.append(partition_timeout)\n",
    "    list_timeout_mol.append(recursion_timeout)"
   ]
  },
  {
   "cell_type": "code",
   "execution_count": null,
   "id": "7fca02aa",
   "metadata": {},
   "outputs": [],
   "source": [
    "100 * sum(list_foundmol) / len(list_foundmol)"
   ]
  },
  {
   "cell_type": "code",
   "execution_count": null,
   "id": "3467ee1b",
   "metadata": {},
   "outputs": [],
   "source": [
    "df = pd.DataFrame(\n",
    "    {\n",
    "        \"ID\": list_i,\n",
    "        \"smi\": list_smi,\n",
    "        \"wt\": list_wt,\n",
    "        \"Nsig\": list_nsig,\n",
    "        \"NsigTrue\": list_nsigtrue,\n",
    "        \"FoundSig\": list_foundsig,\n",
    "        \"Nmol\": list_nmol,\n",
    "        \"Foundmol\": list_foundmol,\n",
    "        \"CT ecfp_sig\": list_ct_sig,\n",
    "        \"CT sig_mol\": list_ct_mol,\n",
    "        \"CT ecfp_mol\": list_ct_all,\n",
    "        \"CT solve_partitions\": list_ct_solve,\n",
    "        \"Timeout ecfp_sig\": list_timeout_sig,\n",
    "        \"Timeout sig_mol\": list_timeout_mol,\n",
    "    }\n",
    ")\n",
    "\n",
    "df\n",
    "\n",
    "#df.to_excel(\"RevSig_ecfp_to_mol.xlsx\", index=False)"
   ]
  },
  {
   "cell_type": "code",
   "execution_count": null,
   "id": "5f94b850-e7e8-4b71-a61d-396c694529e7",
   "metadata": {},
   "outputs": [],
   "source": []
  }
 ],
 "metadata": {
  "kernelspec": {
   "display_name": "Python 3 (ipykernel)",
   "language": "python",
   "name": "python3"
  },
  "language_info": {
   "codemirror_mode": {
    "name": "ipython",
    "version": 3
   },
   "file_extension": ".py",
   "mimetype": "text/x-python",
   "name": "python",
   "nbconvert_exporter": "python",
   "pygments_lexer": "ipython3",
   "version": "3.10.14"
  }
 },
 "nbformat": 4,
 "nbformat_minor": 5
}
