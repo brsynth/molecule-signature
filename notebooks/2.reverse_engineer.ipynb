{
 "cells": [
  {
   "cell_type": "markdown",
   "id": "07f655fd-60c4-46e3-a38f-80a21e7c011f",
   "metadata": {},
   "source": [
    "# Reverse engineer molecules"
   ]
  },
  {
   "cell_type": "markdown",
   "id": "1093f4e5-09cf-42b4-96c7-c742e8572383",
   "metadata": {},
   "source": [
    "#### Apr 2024 version"
   ]
  },
  {
   "cell_type": "markdown",
   "id": "a5a7e939-9b08-435b-a382-dd1474f9eeb9",
   "metadata": {},
   "source": [
    "## Enumerate signatures and molecules from Morgan fingerprints"
   ]
  },
  {
   "cell_type": "code",
   "execution_count": null,
   "id": "460d62f9-8aaf-4015-b6c9-91e1add0cfeb",
   "metadata": {
    "scrolled": true,
    "tags": []
   },
   "outputs": [],
   "source": [
    "# CHANGE TO YOUR DIRECTORY PATH\n",
    "path_directory = \"C:/Users/meyerp/Documents/INRAE/Diophantine/Enumération/github/signature\"\n",
    "\n",
    "# packages\n",
    "import numpy as np\n",
    "import os\n",
    "\n",
    "import pandas as pd\n",
    "import sys\n",
    "import time\n",
    "\n",
    "np.set_printoptions(threshold=sys.maxsize)\n",
    "\n",
    "os.chdir(path_directory)\n",
    "\n",
    "from rdkit.Chem.Descriptors import ExactMolWt\n",
    "from rdkit import Chem\n",
    "from rdkit import RDLogger\n",
    "\n",
    "RDLogger.DisableLog(\"rdApp.*\")\n",
    "\n",
    "# Reverse engineer molecules from Morgan\n",
    "from signature.enumerate_signature import enumerate_molecule_from_signature, enumerate_signature_from_morgan\n",
    "from signature.enumerate_utils import reduced_fingerprint, test_sol_ECFP, test_sol_ECFP_reduced, test_sol_sig\n",
    "from signature.Signature import MoleculeSignature\n",
    "from signature.signature_alphabet import (\n",
    "    load_alphabet,\n",
    "    morgan_vector_from_signature,\n",
    "    SignatureAlphabet,\n",
    "    signature_from_smiles,\n",
    ")\n",
    "from signature.utils import read_csv"
   ]
  },
  {
   "cell_type": "code",
   "execution_count": null,
   "id": "35910952",
   "metadata": {},
   "outputs": [],
   "source": [
    "# paths\n",
    "file_smiles = \"./datasets/MetaNetX_weight_500_radius_3_size_1000\"\n",
    "#file_smiles = \"./datasets/emolecule_weight_500_radius_2_size_1000\"\n",
    "#file_smiles = \"./datasets/emolecule_weight_500\"\n",
    "#file_smiles = \"./datasets/dataset.test.small\"\n",
    "\n",
    "#file_alphabet = \"./datasets/MetaNetX_weight_500_Alphabet_radius_2_nBits_2048_smarts\"\n",
    "#file_alphabet = \"./datasets/MetaNetX_weight_500_Alphabet_radius_3_nBits_2048\" # radius 3 smiles\n",
    "#file_alphabet = \"./datasets/MetaNetX_weight_500_r2_smiles_boundary_Alphabet_radius_2_nBits_2048\"\n",
    "#file_alphabet = \"./datasets/MetaNetX_weight_500_r2_smiles_full_Alphabet_radius_2_nBits_2048\"\n",
    "#file_alphabet = \"./datasets/MetaNetX_weight_500_Alphabet_radius_3_nBits_2048\" # smiles r3\n",
    "#file_alphabet = \"./datasets/MetaNetX_weight_500_Alphabet_radius_2_boundary_nBits_2048\" # smiles r2 boundary\n",
    "file_alphabet = \"./datasets/MetaNetX_weight_500_Alphabet_radius_2_nBits_2048_smarts_full\" # smarts r2\n",
    "\n",
    "# Load Smiles file\n",
    "H, D = read_csv(file_smiles)\n",
    "print(H, D.shape[0])\n",
    "Smiles = np.asarray(list(set(D[:, 0])))\n",
    "print(f\"Number of smiles: {len(Smiles)}\")\n",
    "\n",
    "# Get alphabet\n",
    "Alphabet = load_alphabet(file_alphabet)\n",
    "Alphabet.print_out()"
   ]
  },
  {
   "cell_type": "code",
   "execution_count": null,
   "id": "c5335f0c",
   "metadata": {},
   "outputs": [],
   "source": [
    "Alphabet.use_smarts = True\n",
    "Alphabet.boundary_bonds = False"
   ]
  },
  {
   "cell_type": "markdown",
   "id": "878cbf74",
   "metadata": {},
   "source": [
    "- ECFP reduced => Signature"
   ]
  },
  {
   "cell_type": "code",
   "execution_count": null,
   "id": "e9982bd4",
   "metadata": {},
   "outputs": [],
   "source": [
    "list_i = []\n",
    "list_smi = []\n",
    "list_nsig = []\n",
    "list_foundsig = []\n",
    "list_ct = []\n",
    "list_ct_solve = []\n",
    "list_timeout = []"
   ]
  },
  {
   "cell_type": "code",
   "execution_count": null,
   "id": "aa71e748-b781-411e-9076-a8ec79182d00",
   "metadata": {
    "scrolled": false
   },
   "outputs": [],
   "source": [
    "Alphabet.nBits = 2048\n",
    "max_nbr_partition = int(1e5)\n",
    "\n",
    "for i in range(5):\n",
    "    smi = D[i, 0]\n",
    "    print(i, \"|\", smi)\n",
    "\n",
    "    mol = Chem.MolFromSmiles(smi)\n",
    "    ms = MoleculeSignature(mol, radius=Alphabet.radius, neighbor=True, use_smarts=Alphabet.use_smarts, nbits=False, boundary_bonds=Alphabet.boundary_bonds, map_root=True)\n",
    "    sig = ms.as_deprecated_string(morgan=False, root=False, neighbors=True)\n",
    "    morgan = reduced_fingerprint(smi, radius=Alphabet.radius, useFeatures=False)\n",
    "\n",
    "    st = time.time()\n",
    "\n",
    "    Ssig, bool_timeout, ct_solve = enumerate_signature_from_morgan(\n",
    "        morgan, Alphabet, max_nbr_partition=max_nbr_partition, method=\"partitions\", verbose=False\n",
    "    )\n",
    "    foundsig = sig in Ssig\n",
    "    ft = time.time() - st\n",
    "\n",
    "    print(f\"{i} | {smi} | {len(Ssig)} | {int(foundsig)} | {ft:.4f} | {ct_solve:.4f}| {bool_timeout}\")\n",
    "\n",
    "    list_i.append(i)\n",
    "    list_smi.append(smi)\n",
    "    list_nsig.append(len(Ssig))\n",
    "    list_foundsig.append(foundsig)\n",
    "    list_ct.append(ft)\n",
    "    list_ct_solve.append(ct_solve)\n",
    "    list_timeout.append(bool_timeout)"
   ]
  },
  {
   "cell_type": "code",
   "execution_count": null,
   "id": "0b786373",
   "metadata": {},
   "outputs": [],
   "source": [
    "100 * sum(list_foundsig) / len(list_foundsig)"
   ]
  },
  {
   "cell_type": "code",
   "execution_count": null,
   "id": "119467bc",
   "metadata": {},
   "outputs": [],
   "source": [
    "df = pd.DataFrame(\n",
    "    {\n",
    "        \"ID\": list_i,\n",
    "        \"smi\": list_smi,\n",
    "        \"Nsig\": list_nsig,\n",
    "        \"FoundSig\": list_foundsig,\n",
    "        \"CT enum ecfp_red to sig\": list_ct,\n",
    "        \"CT solve by partitions\": list_ct_solve,\n",
    "        \"Partitions timeout\": list_timeout,\n",
    "    }\n",
    ")\n",
    "\n",
    "df\n",
    "\n",
    "# df.to_excel(\"RevSig_ecfp_to_sig\", index=False)"
   ]
  },
  {
   "cell_type": "markdown",
   "id": "e20f3ac3",
   "metadata": {},
   "source": [
    "- Signature => Smiles"
   ]
  },
  {
   "cell_type": "code",
   "execution_count": null,
   "id": "8e6bc654",
   "metadata": {},
   "outputs": [],
   "source": [
    "list_i = []\n",
    "list_smi = []\n",
    "list_wt = []\n",
    "list_nmol = []\n",
    "list_foundmol = []\n",
    "list_ct_mol = []\n",
    "list_recursion_timeout = []"
   ]
  },
  {
   "cell_type": "code",
   "execution_count": null,
   "id": "19ff6033",
   "metadata": {
    "scrolled": true
   },
   "outputs": [],
   "source": [
    "Alphabet.nBits = 0\n",
    "max_nbr_recursion = 1e5\n",
    "max_nbr_solution = 1001\n",
    "repeat = 10\n",
    "\n",
    "print(f\"ID | smi | weigth | Nmol | FoundMol | CPU-time | Timeout\")\n",
    "for i in range(5):\n",
    "    smi = D[i, 0]\n",
    "    print(i, \"|\", smi)\n",
    "    wt = ExactMolWt(Chem.MolFromSmiles(smi))\n",
    "    \n",
    "    mol = Chem.MolFromSmiles(smi)\n",
    "    ms = MoleculeSignature(mol, radius=Alphabet.radius, neighbor=True, use_smarts=Alphabet.use_smarts, nbits=False, boundary_bonds=Alphabet.boundary_bonds, map_root=True, legacy=False)\n",
    "    sig = ms.as_deprecated_string(morgan=False, root=False, neighbors=True)\n",
    "\n",
    "    st = time.time()\n",
    "    smol, recursion_timeout = enumerate_molecule_from_signature(\n",
    "        sig,\n",
    "        Alphabet,\n",
    "        smi,\n",
    "        max_nbr_recursion=max_nbr_recursion,\n",
    "        max_nbr_solution=max_nbr_solution,\n",
    "        repeat=repeat,\n",
    "        verbose=False,\n",
    "    )\n",
    "\n",
    "    ft = time.time() - st\n",
    "    foundmol = smi in smol\n",
    "    if foundmol == False:\n",
    "        print(smol)\n",
    "\n",
    "    print(f\"{i} | {smi} | {wt:.1f} | {len(smol)} | {int(foundmol)} | {ft:.4f} | {recursion_timeout}\")\n",
    "\n",
    "    list_i.append(i)\n",
    "    list_smi.append(smi)\n",
    "    list_wt.append(wt)\n",
    "    list_nmol.append(len(smol))\n",
    "    list_foundmol.append(int(foundmol))\n",
    "    list_ct_mol.append(ft)\n",
    "    list_recursion_timeout.append(recursion_timeout)"
   ]
  },
  {
   "cell_type": "code",
   "execution_count": null,
   "id": "910c5e2b",
   "metadata": {},
   "outputs": [],
   "source": [
    "100 * sum(list_foundmol) / len(list_foundmol)"
   ]
  },
  {
   "cell_type": "code",
   "execution_count": null,
   "id": "40310522",
   "metadata": {
    "scrolled": true
   },
   "outputs": [],
   "source": [
    "df = pd.DataFrame(\n",
    "    {\n",
    "        \"ID\": list_i,\n",
    "        \"smi\": list_smi,\n",
    "        \"weight\": list_wt,\n",
    "        \"Nmol\": list_nmol,\n",
    "        \"FoundMol\": list_foundmol,\n",
    "        \"CT enum sig to mol\": list_ct_mol,\n",
    "        \"Recursion timeout\": list_recursion_timeout,\n",
    "    }\n",
    ")\n",
    "\n",
    "df\n",
    "\n",
    "# df.to_excel(\"RevSig_sig_to_mol\", index=False)"
   ]
  },
  {
   "cell_type": "markdown",
   "id": "ded4af0c",
   "metadata": {},
   "source": [
    "- ECFP reduced => Signature => Smiles"
   ]
  },
  {
   "cell_type": "code",
   "execution_count": null,
   "id": "fcc2ccb9",
   "metadata": {},
   "outputs": [],
   "source": [
    "list_i = []\n",
    "list_smi = []\n",
    "list_wt = []\n",
    "list_nsig = []\n",
    "list_nsigtrue = []\n",
    "list_foundsig = []\n",
    "list_nmol = []\n",
    "list_foundmol = []\n",
    "list_ct_sig = []\n",
    "list_ct_mol = []\n",
    "list_ct_all = []\n",
    "list_ct_solve = []\n",
    "list_timeout_sig = []\n",
    "list_timeout_mol = []"
   ]
  },
  {
   "cell_type": "code",
   "execution_count": null,
   "id": "b3fdf01f",
   "metadata": {
    "scrolled": true
   },
   "outputs": [],
   "source": [
    "max_nbr_partition = int(1e5)\n",
    "max_nbr_recursion = 1e5\n",
    "max_nbr_solution = 1001\n",
    "repeat = 10\n",
    "\n",
    "print(f\"ID | smi | weigth | Nsig | NsigTrue | FoundSig | Nmol | FoundMol | CPU-time\")\n",
    "for i in range(5):\n",
    "    # preparation\n",
    "    smi = D[i, 0]\n",
    "    print(i, \"|\", smi)\n",
    "    wt = ExactMolWt(Chem.MolFromSmiles(smi))\n",
    "\n",
    "    mol = Chem.MolFromSmiles(smi)\n",
    "    ms = MoleculeSignature(mol, radius=Alphabet.radius, neighbor=True, use_smarts=Alphabet.use_smarts, nbits=False, boundary_bonds=Alphabet.boundary_bonds, map_root=True, legacy=False)\n",
    "    sig = ms.as_deprecated_string(morgan=False, root=False, neighbors=True)\n",
    "    morgan = reduced_fingerprint(smi, radius=Alphabet.radius, useFeatures=False)\n",
    "\n",
    "    # ecfp_red => signature(s)\n",
    "    st_1 = time.time()\n",
    "    Alphabet.nBits = 2048\n",
    "    Ssig, partition_timeout, ct_solve = enumerate_signature_from_morgan(\n",
    "        morgan, Alphabet, max_nbr_partition=max_nbr_partition, method=\"partitions\", verbose=False\n",
    "    )\n",
    "    if len(Ssig) > 50:\n",
    "        partition_timeout = True\n",
    "    Ssig = Ssig[:50]\n",
    "    \n",
    "    foundsig = sig in Ssig\n",
    "    ct_sig = time.time() - st_1\n",
    "    print(f\"...enumeratesignature: nbr signatures {len(Ssig)} CPU-time {ct_sig:.4f}\")\n",
    "\n",
    "    # signature(s) => molecule(s)\n",
    "    st_2 = time.time()\n",
    "    Smol, Nsig = set(), 0\n",
    "    Alphabet.nBits = 0\n",
    "    list_recursion_timeout = []\n",
    "    for j in range(len(Ssig)):\n",
    "        smol, recursion_timeout = enumerate_molecule_from_signature(\n",
    "            Ssig[j],\n",
    "            Alphabet,\n",
    "            smi,\n",
    "            max_nbr_recursion=max_nbr_recursion,\n",
    "            max_nbr_solution=max_nbr_solution,\n",
    "            repeat=repeat,\n",
    "            verbose=False,\n",
    "        )\n",
    "        list_recursion_timeout.append(recursion_timeout)\n",
    "        if len(smol):\n",
    "            Nsig += 1\n",
    "            print(f\"...enumeratemolecule:  signature {j} nbr molecules {len(smol)}\")\n",
    "        Smol = Smol | set(smol)\n",
    "    recursion_timeout = True in list_recursion_timeout\n",
    "    ct_mol = time.time() - st_2\n",
    "\n",
    "    ct_total = time.time() - st_1\n",
    "    \n",
    "    Alphabet.nBits = 2048\n",
    "    Smolfinal = []\n",
    "    for smi2 in Smol:\n",
    "        if test_sol_ECFP_reduced([smi, smi2], Alphabet=Alphabet):\n",
    "            Smolfinal.append(smi2)\n",
    "    if len(Smol) != len(Smolfinal):\n",
    "        print(\"Smol\", len(Smol), \"Smolfinal\", len(Smolfinal))\n",
    "\n",
    "    foundmol = smi in Smolfinal\n",
    "    if foundmol == False:\n",
    "        print(Smolfinal)\n",
    "        \n",
    "    print(\n",
    "        f\"{i} | {smi} | {wt:.1f} | {len(Ssig)} | {Nsig} | {int(foundsig)} | {len(Smolfinal)} | {int(foundmol)} | {ct_total:.4f} | {ct_solve:.4f}\"\n",
    "    )\n",
    "    \n",
    "    list_i.append(i)\n",
    "    list_smi.append(smi)\n",
    "    list_wt.append(wt)\n",
    "    list_nsig.append(len(Ssig))\n",
    "    list_nsigtrue.append(Nsig)\n",
    "    list_foundsig.append(int(foundsig))\n",
    "    list_nmol.append(len(Smolfinal))\n",
    "    list_foundmol.append(int(foundmol))\n",
    "    list_ct_sig.append(ct_sig)\n",
    "    list_ct_mol.append(ct_mol)\n",
    "    list_ct_all.append(ct_total)\n",
    "    list_ct_solve.append(ct_solve)\n",
    "    list_timeout_sig.append(partition_timeout)\n",
    "    list_timeout_mol.append(recursion_timeout)"
   ]
  },
  {
   "cell_type": "code",
   "execution_count": null,
   "id": "696aa45e",
   "metadata": {},
   "outputs": [],
   "source": [
    "100 * sum(list_foundmol) / len(list_foundmol)"
   ]
  },
  {
   "cell_type": "code",
   "execution_count": null,
   "id": "dc66b382",
   "metadata": {},
   "outputs": [],
   "source": [
    "df = pd.DataFrame(\n",
    "    {\n",
    "        \"ID\": list_i,\n",
    "        \"smi\": list_smi,\n",
    "        \"wt\": list_wt,\n",
    "        \"Nsig\": list_nsig,\n",
    "        \"NsigTrue\": list_nsigtrue,\n",
    "        \"FoundSig\": list_foundsig,\n",
    "        \"Nmol\": list_nmol,\n",
    "        \"Foundmol\": list_foundmol,\n",
    "        \"CT ecfp_sig\": list_ct_sig,\n",
    "        \"CT sig_mol\": list_ct_mol,\n",
    "        \"CT ecfp_mol\": list_ct_all,\n",
    "        \"CT solve_partitions\": list_ct_solve,\n",
    "        \"Timeout ecfp_sig\": list_timeout_sig,\n",
    "        \"Timeout sig_mol\": list_timeout_mol,\n",
    "    }\n",
    ")\n",
    "\n",
    "df\n",
    "\n",
    "# df.to_excel(\"RevSig_ecfp_to_mol_smiles_r2_boundary_500pe.xlsx\", index=False)"
   ]
  },
  {
   "cell_type": "code",
   "execution_count": null,
   "id": "adb88af2",
   "metadata": {},
   "outputs": [],
   "source": []
  }
 ],
 "metadata": {
  "kernelspec": {
   "display_name": "Python 3 (ipykernel)",
   "language": "python",
   "name": "python3"
  },
  "language_info": {
   "codemirror_mode": {
    "name": "ipython",
    "version": 3
   },
   "file_extension": ".py",
   "mimetype": "text/x-python",
   "name": "python",
   "nbconvert_exporter": "python",
   "pygments_lexer": "ipython3",
   "version": "3.9.13"
  }
 },
 "nbformat": 4,
 "nbformat_minor": 5
}
