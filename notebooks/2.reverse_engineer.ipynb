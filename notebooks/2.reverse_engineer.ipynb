{
 "cells": [
  {
   "cell_type": "markdown",
   "id": "07f655fd-60c4-46e3-a38f-80a21e7c011f",
   "metadata": {},
   "source": [
    "# Reverse engineer molecules"
   ]
  },
  {
   "cell_type": "markdown",
   "id": "1093f4e5-09cf-42b4-96c7-c742e8572383",
   "metadata": {},
   "source": [
    "#### Apr 2024 version"
   ]
  },
  {
   "cell_type": "markdown",
   "id": "a5a7e939-9b08-435b-a382-dd1474f9eeb9",
   "metadata": {},
   "source": [
    "## Enumerate signatures and molecules from Morgan fingerprints"
   ]
  },
  {
   "cell_type": "code",
   "execution_count": 43,
   "id": "460d62f9-8aaf-4015-b6c9-91e1add0cfeb",
   "metadata": {
    "scrolled": true,
    "tags": []
   },
   "outputs": [],
   "source": [
    "# CHANGE TO YOUR DIRECTORY PATH\n",
    "path_directory = \"C:/Users/meyerp/Documents/INRAE/Diophantine/Enumération/github/signature\"\n",
    "\n",
    "# packages\n",
    "import numpy as np\n",
    "import os\n",
    "\n",
    "import pandas as pd\n",
    "import sys\n",
    "import time\n",
    "\n",
    "np.set_printoptions(threshold=sys.maxsize)\n",
    "\n",
    "os.chdir(path_directory)\n",
    "os.environ[\"RD_CANON\"] = \"True\"\n",
    "\n",
    "from rdkit.Chem.Descriptors import ExactMolWt\n",
    "from rdkit import Chem\n",
    "from rdkit import RDLogger\n",
    "\n",
    "RDLogger.DisableLog(\"rdApp.*\")\n",
    "\n",
    "# Reverse engineer molecules from Morgan\n",
    "from src.signature.enumerate_signature import enumerate_molecule_from_signature, enumerate_signature_from_morgan\n",
    "from src.signature.enumerate_utils import reduced_fingerprint\n",
    "from src.signature.Signature import MoleculeSignature\n",
    "from src.signature.signature_old import signature_neighbor\n",
    "from src.signature.signature_alphabet import (\n",
    "    load_alphabet,\n",
    "    morgan_vector_from_signature,\n",
    "    SignatureAlphabet,\n",
    "    signature_from_smiles,\n",
    ")\n",
    "from src.signature.utils import read_csv"
   ]
  },
  {
   "cell_type": "code",
   "execution_count": 44,
   "id": "128e8948",
   "metadata": {},
   "outputs": [],
   "source": [
    "# smarts or smiles\n",
    "use_smarts = False"
   ]
  },
  {
   "cell_type": "code",
   "execution_count": 45,
   "id": "35910952",
   "metadata": {},
   "outputs": [
    {
     "name": "stdout",
     "output_type": "stream",
     "text": [
      "['SMILES', 'SIG', 'SIG-NBIT'] 1000\n",
      "Number of smiles: 1000\n",
      "filename: ./datasets/MetaNetX_weight_500_r2_smiles_boundary_Alphabet_radius_2_nBits_2048.npz\n",
      "radius: 2\n",
      "nBits: 2048\n",
      "splitcomponent: False\n",
      "isomericSmiles: False\n",
      "formalCharge: True\n",
      "atomMapping: False\n",
      "kekuleSmiles: False\n",
      "allHsExplicit: False\n",
      "maxvalence: 4\n",
      "alphabet length: 183357\n"
     ]
    }
   ],
   "source": [
    "# paths\n",
    "file_smiles = \"./datasets/MetaNetX_weight_500_radius_3_size_1000\"\n",
    "if use_smarts:\n",
    "    file_alphabet = \"./datasets/MetaNetX_weight_500_Alphabet_radius_2_nBits_2048_smarts\"\n",
    "else:\n",
    "    file_alphabet = \"./datasets/MetaNetX_weight_500_Alphabet_radius_3_nBits_2048\"\n",
    "\n",
    "file_alphabet = \"./datasets/MetaNetX_weight_500_r2_smiles_boundary_Alphabet_radius_2_nBits_2048\"\n",
    "#file_alphabet = \"./datasets/MetaNetX_weight_500_r2_smiles_full_Alphabet_radius_2_nBits_2048\"\n",
    "#file_alphabet = \"./datasets/MetaNetX_weight_500_Alphabet_radius_3_nBits_2048\"\n",
    "\n",
    "# Load Smiles file\n",
    "H, D = read_csv(file_smiles)\n",
    "print(H, D.shape[0])\n",
    "Smiles = np.asarray(list(set(D[:, 0])))\n",
    "print(f\"Number of smiles: {len(Smiles)}\")\n",
    "\n",
    "# Get alphabet\n",
    "Alphabet = load_alphabet(file_alphabet)\n",
    "Alphabet.print_out()"
   ]
  },
  {
   "cell_type": "code",
   "execution_count": 46,
   "id": "e536bf8c",
   "metadata": {},
   "outputs": [],
   "source": [
    "# fonctions test\n",
    "def test_sol_ECFP(smis):\n",
    "    fpgen = AllChem.GetMorganGenerator(radius=Alphabet.radius, fpSize=2048)\n",
    "    ecfp_list = []\n",
    "    for smi in smis:\n",
    "        mol = Chem.MolFromSmiles(smi)\n",
    "        morgan = fpgen.GetCountFingerprint(mol).ToList()\n",
    "        ecfp_list.append(morgan)\n",
    "    return len(set(tuple(i) for i in ecfp_list)) == 1\n",
    "\n",
    "def test_sol_ECFP_reduced(smis):\n",
    "    ecfp_list = []\n",
    "    for smi in smis:\n",
    "        morgan = reduced_fingerprint(smi, radius=Alphabet.radius, useFeatures=False).tolist()\n",
    "        ecfp_list.append(morgan)\n",
    "    return len(set(tuple(i) for i in ecfp_list)) == 1\n",
    "\n",
    "def test_sol_sig(smis):\n",
    "    sig_list = []\n",
    "    for smi in smis:\n",
    "        sig = signature_from_smiles(smi, Alphabet, neighbor=True)[0]\n",
    "        sign = signature_neighbor(sig)\n",
    "        sig_list.append(sign)\n",
    "    return len(set(tuple(i) for i in sig_list)) == 1"
   ]
  },
  {
   "cell_type": "markdown",
   "id": "878cbf74",
   "metadata": {},
   "source": [
    "- ECFP reduced => Signature"
   ]
  },
  {
   "cell_type": "code",
   "execution_count": 47,
   "id": "e9982bd4",
   "metadata": {},
   "outputs": [],
   "source": [
    "list_i = []\n",
    "list_smi = []\n",
    "list_nsig = []\n",
    "list_foundsig = []\n",
    "list_ct = []\n",
    "list_ct_solve = []\n",
    "list_timeout = []"
   ]
  },
  {
   "cell_type": "code",
   "execution_count": 15,
   "id": "aa71e748-b781-411e-9076-a8ec79182d00",
   "metadata": {
    "scrolled": true
   },
   "outputs": [
    {
     "name": "stdout",
     "output_type": "stream",
     "text": [
      "0 | CCN(C(C)O)C(O)C=NC=C(C)C(=O)C(=O)C(=O)O\n",
      "0 | CCN(C(C)O)C(O)C=NC=C(C)C(=O)C(=O)C(=O)O | 1 | 1 | 2.2828 | 0.0059| False\n",
      "1 | OC1C(O)C2CC1C1C3(Cl)CC(Cl)(C(Cl)C3Cl)C21O\n",
      "1 | OC1C(O)C2CC1C1C3(Cl)CC(Cl)(C(Cl)C3Cl)C21O | 1 | 1 | 2.0789 | 0.0039| False\n",
      "2 | O=C(O)CCc1nc2ccccc2n(CCc2ccccc2)c1=O\n",
      "2 | O=C(O)CCc1nc2ccccc2n(CCc2ccccc2)c1=O | 1 | 1 | 2.4400 | 0.0030| False\n",
      "3 | CCC1OC(=O)C(C)C(O)C(C)C(O)C(C)(O)CC(C)C(O)C(C)(O)C(O)C1C\n",
      "3 | CCC1OC(=O)C(C)C(O)C(C)C(O)C(C)(O)CC(C)C(O)C(C)(O)C(O)C1C | 1 | 1 | 2.8967 | 0.0040| False\n",
      "4 | COC(=O)c1sc(=S)n(-c2ccccc2)c1N\n",
      "4 | COC(=O)c1sc(=S)n(-c2ccccc2)c1N | 1 | 1 | 1.8537 | 0.0010| False\n"
     ]
    }
   ],
   "source": [
    "Alphabet.nBits = 2048\n",
    "max_nbr_partition = int(1e5)\n",
    "\n",
    "for i in range(5):\n",
    "    smi = D[i, 0]\n",
    "    print(i, \"|\", smi)\n",
    "\n",
    "    mol = Chem.MolFromSmiles(smi)\n",
    "    ms = MoleculeSignature(mol, radius=Alphabet.radius, neighbor=True, use_smarts=use_smarts, nbits=False, boundary_bonds=True, map_root=True)\n",
    "    sig = ms.as_deprecated_string(morgan=False, root=False, neighbors=True)\n",
    "    morgan = reduced_fingerprint(smi, radius=Alphabet.radius, useFeatures=False)\n",
    "\n",
    "    st = time.time()\n",
    "\n",
    "    Ssig, bool_timeout, ct_solve = enumerate_signature_from_morgan(\n",
    "        morgan, Alphabet, max_nbr_partition=max_nbr_partition, method=\"partitions\", verbose=False\n",
    "    )\n",
    "    foundsig = sig in Ssig\n",
    "    ft = time.time() - st\n",
    "\n",
    "    print(f\"{i} | {smi} | {len(Ssig)} | {int(foundsig)} | {ft:.4f} | {ct_solve:.4f}| {bool_timeout}\")\n",
    "\n",
    "    list_i.append(i)\n",
    "    list_smi.append(smi)\n",
    "    list_nsig.append(len(Ssig))\n",
    "    list_foundsig.append(foundsig)\n",
    "    list_ct.append(ft)\n",
    "    list_ct_solve.append(ct_solve)\n",
    "    list_timeout.append(bool_timeout)"
   ]
  },
  {
   "cell_type": "code",
   "execution_count": 17,
   "id": "0b786373",
   "metadata": {},
   "outputs": [
    {
     "data": {
      "text/plain": [
       "100.0"
      ]
     },
     "execution_count": 17,
     "metadata": {},
     "output_type": "execute_result"
    }
   ],
   "source": [
    "100 * sum(list_foundsig) / len(list_foundsig)"
   ]
  },
  {
   "cell_type": "code",
   "execution_count": 18,
   "id": "119467bc",
   "metadata": {},
   "outputs": [
    {
     "data": {
      "text/html": [
       "<div>\n",
       "<style scoped>\n",
       "    .dataframe tbody tr th:only-of-type {\n",
       "        vertical-align: middle;\n",
       "    }\n",
       "\n",
       "    .dataframe tbody tr th {\n",
       "        vertical-align: top;\n",
       "    }\n",
       "\n",
       "    .dataframe thead th {\n",
       "        text-align: right;\n",
       "    }\n",
       "</style>\n",
       "<table border=\"1\" class=\"dataframe\">\n",
       "  <thead>\n",
       "    <tr style=\"text-align: right;\">\n",
       "      <th></th>\n",
       "      <th>ID</th>\n",
       "      <th>smi</th>\n",
       "      <th>Nsig</th>\n",
       "      <th>FoundSig</th>\n",
       "      <th>CT enum ecfp_red to sig</th>\n",
       "      <th>CT solve by partitions</th>\n",
       "      <th>Partitions timeout</th>\n",
       "    </tr>\n",
       "  </thead>\n",
       "  <tbody>\n",
       "    <tr>\n",
       "      <th>0</th>\n",
       "      <td>0</td>\n",
       "      <td>CCN(C(C)O)C(O)C=NC=C(C)C(=O)C(=O)C(=O)O</td>\n",
       "      <td>1</td>\n",
       "      <td>True</td>\n",
       "      <td>2.282799</td>\n",
       "      <td>0.005888</td>\n",
       "      <td>False</td>\n",
       "    </tr>\n",
       "    <tr>\n",
       "      <th>1</th>\n",
       "      <td>1</td>\n",
       "      <td>OC1C(O)C2CC1C1C3(Cl)CC(Cl)(C(Cl)C3Cl)C21O</td>\n",
       "      <td>1</td>\n",
       "      <td>True</td>\n",
       "      <td>2.078908</td>\n",
       "      <td>0.003913</td>\n",
       "      <td>False</td>\n",
       "    </tr>\n",
       "    <tr>\n",
       "      <th>2</th>\n",
       "      <td>2</td>\n",
       "      <td>O=C(O)CCc1nc2ccccc2n(CCc2ccccc2)c1=O</td>\n",
       "      <td>1</td>\n",
       "      <td>True</td>\n",
       "      <td>2.440003</td>\n",
       "      <td>0.003002</td>\n",
       "      <td>False</td>\n",
       "    </tr>\n",
       "    <tr>\n",
       "      <th>3</th>\n",
       "      <td>3</td>\n",
       "      <td>CCC1OC(=O)C(C)C(O)C(C)C(O)C(C)(O)CC(C)C(O)C(C)...</td>\n",
       "      <td>1</td>\n",
       "      <td>True</td>\n",
       "      <td>2.896723</td>\n",
       "      <td>0.003992</td>\n",
       "      <td>False</td>\n",
       "    </tr>\n",
       "    <tr>\n",
       "      <th>4</th>\n",
       "      <td>4</td>\n",
       "      <td>COC(=O)c1sc(=S)n(-c2ccccc2)c1N</td>\n",
       "      <td>1</td>\n",
       "      <td>True</td>\n",
       "      <td>1.853659</td>\n",
       "      <td>0.001012</td>\n",
       "      <td>False</td>\n",
       "    </tr>\n",
       "  </tbody>\n",
       "</table>\n",
       "</div>"
      ],
      "text/plain": [
       "   ID                                                smi  Nsig  FoundSig  \\\n",
       "0   0            CCN(C(C)O)C(O)C=NC=C(C)C(=O)C(=O)C(=O)O     1      True   \n",
       "1   1          OC1C(O)C2CC1C1C3(Cl)CC(Cl)(C(Cl)C3Cl)C21O     1      True   \n",
       "2   2               O=C(O)CCc1nc2ccccc2n(CCc2ccccc2)c1=O     1      True   \n",
       "3   3  CCC1OC(=O)C(C)C(O)C(C)C(O)C(C)(O)CC(C)C(O)C(C)...     1      True   \n",
       "4   4                     COC(=O)c1sc(=S)n(-c2ccccc2)c1N     1      True   \n",
       "\n",
       "   CT enum ecfp_red to sig  CT solve by partitions  Partitions timeout  \n",
       "0                 2.282799                0.005888               False  \n",
       "1                 2.078908                0.003913               False  \n",
       "2                 2.440003                0.003002               False  \n",
       "3                 2.896723                0.003992               False  \n",
       "4                 1.853659                0.001012               False  "
      ]
     },
     "execution_count": 18,
     "metadata": {},
     "output_type": "execute_result"
    }
   ],
   "source": [
    "df = pd.DataFrame(\n",
    "    {\n",
    "        \"ID\": list_i,\n",
    "        \"smi\": list_smi,\n",
    "        \"Nsig\": list_nsig,\n",
    "        \"FoundSig\": list_foundsig,\n",
    "        \"CT enum ecfp_red to sig\": list_ct,\n",
    "        \"CT solve by partitions\": list_ct_solve,\n",
    "        \"Partitions timeout\": list_timeout,\n",
    "    }\n",
    ")\n",
    "\n",
    "df\n",
    "\n",
    "# df.to_excel(\"RevSig_ecfp_to_sig\", index=False)"
   ]
  },
  {
   "cell_type": "markdown",
   "id": "e20f3ac3",
   "metadata": {},
   "source": [
    "- Signature => Smiles"
   ]
  },
  {
   "cell_type": "code",
   "execution_count": 29,
   "id": "8e6bc654",
   "metadata": {},
   "outputs": [],
   "source": [
    "list_i = []\n",
    "list_smi = []\n",
    "list_wt = []\n",
    "list_nmol = []\n",
    "list_foundmol = []\n",
    "list_ct_mol = []\n",
    "list_recursion_timeout = []"
   ]
  },
  {
   "cell_type": "code",
   "execution_count": 38,
   "id": "19ff6033",
   "metadata": {
    "scrolled": true
   },
   "outputs": [
    {
     "name": "stdout",
     "output_type": "stream",
     "text": [
      "ID | smi | weigth | Nmol | FoundMol | CPU-time | Timeout\n",
      "0 | CCN(C(C)O)C(O)C=NC=C(C)C(=O)C(=O)C(=O)O\n",
      "*-C(-*)-[CH3:1].SINGLE|*-N(-*)-[CH:1](-C)-O *-C(-*)-[OH:1].SINGLE|*-N(-*)-[CH:1](-C)-O *-C(-*)-[OH:1].SINGLE|*-N(-*)-[CH:1](-O)-C=* *-C(-*)=[CH:1]-N=*.DOUBLE|*-C=[C:1](-C)-C(-*)=*.SINGLE|*-C=[N:1]-C=* *-C(-*)=[O:1].DOUBLE|*-C(=*)-[C:1](=O)-C(-*)=* *-C(-*)=[O:1].DOUBLE|*-C(=*)-[C:1](=O)-C(-*)=* *-C(-*)=[O:1].DOUBLE|*-C(=*)-[C:1](=O)-O *-C(=*)-[C:1](=O)-C(-*)=*.DOUBLE|*-C(-*)=[O:1].SINGLE|*-C(=*)-[C:1](=O)-C(-*)=*.SINGLE|*-C(=*)-[C:1](=O)-O *-C(=*)-[C:1](=O)-C(-*)=*.DOUBLE|*-C(-*)=[O:1].SINGLE|*-C(=*)-[C:1](=O)-C(-*)=*.SINGLE|*-C=[C:1](-C)-C(-*)=* *-C(=*)-[C:1](=O)-O.DOUBLE|*-C(-*)=[O:1].SINGLE|*-C(=*)-[C:1](=O)-C(-*)=*.SINGLE|*-C(=*)-[OH:1] *-C(=*)-[CH3:1].SINGLE|*-C=[C:1](-C)-C(-*)=* *-C(=*)-[OH:1].SINGLE|*-C(=*)-[C:1](=O)-O *-C-[CH3:1].SINGLE|*-N(-*)-[CH2:1]-C *-C-[N:1](-C(-*)-*)-C(-*)-*.SINGLE|*-N(-*)-[CH2:1]-C.SINGLE|*-N(-*)-[CH:1](-C)-O.SINGLE|*-N(-*)-[CH:1](-O)-C=* *-C=[C:1](-C)-C(-*)=*.DOUBLE|*-C(-*)=[CH:1]-N=*.SINGLE|*-C(=*)-[C:1](=O)-C(-*)=*.SINGLE|*-C(=*)-[CH3:1] *-C=[N:1]-C=*.DOUBLE|*-N=[CH:1]-C(-*)-*.SINGLE|*-C(-*)=[CH:1]-N=* *-N(-*)-[CH2:1]-C.SINGLE|*-C-[CH3:1].SINGLE|*-C-[N:1](-C(-*)-*)-C(-*)-* *-N(-*)-[CH:1](-C)-O.SINGLE|*-C(-*)-[CH3:1].SINGLE|*-C(-*)-[OH:1].SINGLE|*-C-[N:1](-C(-*)-*)-C(-*)-* *-N(-*)-[CH:1](-O)-C=*.SINGLE|*-C(-*)-[OH:1].SINGLE|*-C-[N:1](-C(-*)-*)-C(-*)-*.SINGLE|*-N=[CH:1]-C(-*)-* *-N=[CH:1]-C(-*)-*.DOUBLE|*-C=[N:1]-C=*.SINGLE|*-N(-*)-[CH:1](-O)-C=*\n",
      "0 | CCN(C(C)O)C(O)C=NC=C(C)C(=O)C(=O)C(=O)O | 286.1 | 1 | 1 | 0.0360 | False\n"
     ]
    }
   ],
   "source": [
    "Alphabet.nBits = 0\n",
    "max_nbr_recursion = 1e5\n",
    "max_nbr_solution = 1001\n",
    "repeat = 10\n",
    "\n",
    "print(f\"ID | smi | weigth | Nmol | FoundMol | CPU-time | Timeout\")\n",
    "for i in range(1):\n",
    "    smi = D[i, 0]\n",
    "    print(i, \"|\", smi)\n",
    "    wt = ExactMolWt(Chem.MolFromSmiles(smi))\n",
    "    \n",
    "    mol = Chem.MolFromSmiles(smi)\n",
    "    ms = MoleculeSignature(mol, radius=Alphabet.radius, neighbor=True, use_smarts=use_smarts, nbits=False, boundary_bonds=True, map_root=True, legacy=False)\n",
    "    sig = ms.as_deprecated_string(morgan=False, root=False, neighbors=True)\n",
    "\n",
    "    st = time.time()\n",
    "    smol, recursion_timeout = enumerate_molecule_from_signature(\n",
    "        sig,\n",
    "        Alphabet,\n",
    "        smi,\n",
    "        use_smarts=use_smarts,\n",
    "        max_nbr_recursion=max_nbr_recursion,\n",
    "        max_nbr_solution=max_nbr_solution,\n",
    "        repeat=repeat,\n",
    "        verbose=False,\n",
    "    )\n",
    "\n",
    "    ft = time.time() - st\n",
    "    foundmol = smi in smol\n",
    "    if foundmol == False:\n",
    "        print(smol)\n",
    "\n",
    "    print(f\"{i} | {smi} | {wt:.1f} | {len(smol)} | {int(foundmol)} | {ft:.4f} | {recursion_timeout}\")\n",
    "\n",
    "    list_i.append(i)\n",
    "    list_smi.append(smi)\n",
    "    list_wt.append(wt)\n",
    "    list_nmol.append(len(smol))\n",
    "    list_foundmol.append(int(foundmol))\n",
    "    list_ct_mol.append(ft)\n",
    "    list_recursion_timeout.append(recursion_timeout)"
   ]
  },
  {
   "cell_type": "code",
   "execution_count": 21,
   "id": "910c5e2b",
   "metadata": {},
   "outputs": [
    {
     "data": {
      "text/plain": [
       "100.0"
      ]
     },
     "execution_count": 21,
     "metadata": {},
     "output_type": "execute_result"
    }
   ],
   "source": [
    "100 * sum(list_foundmol) / len(list_foundmol)"
   ]
  },
  {
   "cell_type": "code",
   "execution_count": 22,
   "id": "40310522",
   "metadata": {
    "scrolled": true
   },
   "outputs": [
    {
     "data": {
      "text/html": [
       "<div>\n",
       "<style scoped>\n",
       "    .dataframe tbody tr th:only-of-type {\n",
       "        vertical-align: middle;\n",
       "    }\n",
       "\n",
       "    .dataframe tbody tr th {\n",
       "        vertical-align: top;\n",
       "    }\n",
       "\n",
       "    .dataframe thead th {\n",
       "        text-align: right;\n",
       "    }\n",
       "</style>\n",
       "<table border=\"1\" class=\"dataframe\">\n",
       "  <thead>\n",
       "    <tr style=\"text-align: right;\">\n",
       "      <th></th>\n",
       "      <th>ID</th>\n",
       "      <th>smi</th>\n",
       "      <th>weight</th>\n",
       "      <th>Nmol</th>\n",
       "      <th>FoundMol</th>\n",
       "      <th>CT enum sig to mol</th>\n",
       "      <th>Recursion timeout</th>\n",
       "    </tr>\n",
       "  </thead>\n",
       "  <tbody>\n",
       "    <tr>\n",
       "      <th>0</th>\n",
       "      <td>0</td>\n",
       "      <td>CCN(C(C)O)C(O)C=NC=C(C)C(=O)C(=O)C(=O)O</td>\n",
       "      <td>286.116486</td>\n",
       "      <td>1</td>\n",
       "      <td>1</td>\n",
       "      <td>0.029909</td>\n",
       "      <td>False</td>\n",
       "    </tr>\n",
       "    <tr>\n",
       "      <th>1</th>\n",
       "      <td>1</td>\n",
       "      <td>OC1C(O)C2CC1C1C3(Cl)CC(Cl)(C(Cl)C3Cl)C21O</td>\n",
       "      <td>345.969705</td>\n",
       "      <td>1</td>\n",
       "      <td>1</td>\n",
       "      <td>0.035001</td>\n",
       "      <td>False</td>\n",
       "    </tr>\n",
       "    <tr>\n",
       "      <th>2</th>\n",
       "      <td>2</td>\n",
       "      <td>O=C(O)CCc1nc2ccccc2n(CCc2ccccc2)c1=O</td>\n",
       "      <td>322.131742</td>\n",
       "      <td>1</td>\n",
       "      <td>1</td>\n",
       "      <td>0.131994</td>\n",
       "      <td>False</td>\n",
       "    </tr>\n",
       "    <tr>\n",
       "      <th>3</th>\n",
       "      <td>3</td>\n",
       "      <td>CCC1OC(=O)C(C)C(O)C(C)C(O)C(C)(O)CC(C)C(O)C(C)...</td>\n",
       "      <td>420.272318</td>\n",
       "      <td>2</td>\n",
       "      <td>1</td>\n",
       "      <td>0.147995</td>\n",
       "      <td>False</td>\n",
       "    </tr>\n",
       "    <tr>\n",
       "      <th>4</th>\n",
       "      <td>4</td>\n",
       "      <td>COC(=O)c1sc(=S)n(-c2ccccc2)c1N</td>\n",
       "      <td>266.018370</td>\n",
       "      <td>1</td>\n",
       "      <td>1</td>\n",
       "      <td>0.029001</td>\n",
       "      <td>False</td>\n",
       "    </tr>\n",
       "  </tbody>\n",
       "</table>\n",
       "</div>"
      ],
      "text/plain": [
       "   ID                                                smi      weight  Nmol  \\\n",
       "0   0            CCN(C(C)O)C(O)C=NC=C(C)C(=O)C(=O)C(=O)O  286.116486     1   \n",
       "1   1          OC1C(O)C2CC1C1C3(Cl)CC(Cl)(C(Cl)C3Cl)C21O  345.969705     1   \n",
       "2   2               O=C(O)CCc1nc2ccccc2n(CCc2ccccc2)c1=O  322.131742     1   \n",
       "3   3  CCC1OC(=O)C(C)C(O)C(C)C(O)C(C)(O)CC(C)C(O)C(C)...  420.272318     2   \n",
       "4   4                     COC(=O)c1sc(=S)n(-c2ccccc2)c1N  266.018370     1   \n",
       "\n",
       "   FoundMol  CT enum sig to mol  Recursion timeout  \n",
       "0         1            0.029909              False  \n",
       "1         1            0.035001              False  \n",
       "2         1            0.131994              False  \n",
       "3         1            0.147995              False  \n",
       "4         1            0.029001              False  "
      ]
     },
     "execution_count": 22,
     "metadata": {},
     "output_type": "execute_result"
    }
   ],
   "source": [
    "df = pd.DataFrame(\n",
    "    {\n",
    "        \"ID\": list_i,\n",
    "        \"smi\": list_smi,\n",
    "        \"weight\": list_wt,\n",
    "        \"Nmol\": list_nmol,\n",
    "        \"FoundMol\": list_foundmol,\n",
    "        \"CT enum sig to mol\": list_ct_mol,\n",
    "        \"Recursion timeout\": list_recursion_timeout,\n",
    "    }\n",
    ")\n",
    "\n",
    "df\n",
    "\n",
    "# df.to_excel(\"RevSig_sig_to_mol\", index=False)"
   ]
  },
  {
   "cell_type": "markdown",
   "id": "ded4af0c",
   "metadata": {},
   "source": [
    "- ECFP reduced => Signature => Smiles"
   ]
  },
  {
   "cell_type": "code",
   "execution_count": 24,
   "id": "fcc2ccb9",
   "metadata": {},
   "outputs": [],
   "source": [
    "list_i = []\n",
    "list_smi = []\n",
    "list_wt = []\n",
    "list_nsig = []\n",
    "list_nsigtrue = []\n",
    "list_foundsig = []\n",
    "list_nmol = []\n",
    "list_foundmol = []\n",
    "list_ct_sig = []\n",
    "list_ct_mol = []\n",
    "list_ct_all = []\n",
    "list_ct_solve = []"
   ]
  },
  {
   "cell_type": "code",
   "execution_count": 31,
   "id": "b3fdf01f",
   "metadata": {
    "scrolled": false
   },
   "outputs": [
    {
     "name": "stdout",
     "output_type": "stream",
     "text": [
      "ID | smi | weigth | Nsig | NsigTrue | FoundSig | Nmol | FoundMol | CPU-time\n",
      "0 | CCN(C(C)O)C(O)C=NC=C(C)C(=O)C(=O)C(=O)O\n",
      "...enumeratesignature: nbr signatures 1 CPU-time 2.2290\n",
      "*-C(-*)-C.SINGLE|*-N(-*)-C(-C)-O *-C(-*)-O.SINGLE|*-N(-*)-C(-C)-O *-C(-*)-O.SINGLE|*-N(-*)-C(-O)-C=* *-C(-*)=C-N=*.DOUBLE|*-C=C(-C)-C(-*)=*.SINGLE|*-C=N-C=* *-C(-*)=O.DOUBLE|*-C(=*)-C(=O)-C(-*)=* *-C(-*)=O.DOUBLE|*-C(=*)-C(=O)-C(-*)=* *-C(-*)=O.DOUBLE|*-C(=*)-C(=O)-O *-C(=*)-C(=O)-C(-*)=*.DOUBLE|*-C(-*)=O.SINGLE|*-C(=*)-C(=O)-C(-*)=*.SINGLE|*-C(=*)-C(=O)-O *-C(=*)-C(=O)-C(-*)=*.DOUBLE|*-C(-*)=O.SINGLE|*-C(=*)-C(=O)-C(-*)=*.SINGLE|*-C=C(-C)-C(-*)=* *-C(=*)-C(=O)-O.DOUBLE|*-C(-*)=O.SINGLE|*-C(=*)-C(=O)-C(-*)=*.SINGLE|*-C(=*)-O *-C(=*)-C.SINGLE|*-C=C(-C)-C(-*)=* *-C(=*)-O.SINGLE|*-C(=*)-C(=O)-O *-C-C.SINGLE|*-N(-*)-C-C *-C-N(-C(-*)-*)-C(-*)-*.SINGLE|*-N(-*)-C(-C)-O.SINGLE|*-N(-*)-C(-O)-C=*.SINGLE|*-N(-*)-C-C *-C=C(-C)-C(-*)=*.DOUBLE|*-C(-*)=C-N=*.SINGLE|*-C(=*)-C.SINGLE|*-C(=*)-C(=O)-C(-*)=* *-C=N-C=*.DOUBLE|*-N=C-C(-*)-*.SINGLE|*-C(-*)=C-N=* *-N(-*)-C(-C)-O.SINGLE|*-C(-*)-C.SINGLE|*-C(-*)-O.SINGLE|*-C-N(-C(-*)-*)-C(-*)-* *-N(-*)-C(-O)-C=*.SINGLE|*-C(-*)-O.SINGLE|*-C-N(-C(-*)-*)-C(-*)-*.SINGLE|*-N=C-C(-*)-* *-N(-*)-C-C.SINGLE|*-C-C.SINGLE|*-C-N(-C(-*)-*)-C(-*)-* *-N=C-C(-*)-*.DOUBLE|*-C=N-C=*.SINGLE|*-N(-*)-C(-O)-C=*\n",
      "*-C(-*)-C.SINGLE|*-N(-*)-C(-C)-O\n"
     ]
    },
    {
     "ename": "OverflowError",
     "evalue": "can't convert negative value to unsigned int",
     "output_type": "error",
     "traceback": [
      "\u001b[1;31m---------------------------------------------------------------------------\u001b[0m",
      "\u001b[1;31mOverflowError\u001b[0m                             Traceback (most recent call last)",
      "\u001b[1;32m~\\AppData\\Local\\Temp\\ipykernel_6884\\251898130.py\u001b[0m in \u001b[0;36m<module>\u001b[1;34m\u001b[0m\n\u001b[0;32m     32\u001b[0m     \u001b[0mprint\u001b[0m\u001b[1;33m(\u001b[0m\u001b[0mSsig\u001b[0m\u001b[1;33m[\u001b[0m\u001b[0mj\u001b[0m\u001b[1;33m]\u001b[0m\u001b[1;33m)\u001b[0m\u001b[1;33m\u001b[0m\u001b[1;33m\u001b[0m\u001b[0m\n\u001b[0;32m     33\u001b[0m     \u001b[1;32mfor\u001b[0m \u001b[0mj\u001b[0m \u001b[1;32min\u001b[0m \u001b[0mrange\u001b[0m\u001b[1;33m(\u001b[0m\u001b[0mlen\u001b[0m\u001b[1;33m(\u001b[0m\u001b[0mSsig\u001b[0m\u001b[1;33m)\u001b[0m\u001b[1;33m)\u001b[0m\u001b[1;33m:\u001b[0m\u001b[1;33m\u001b[0m\u001b[1;33m\u001b[0m\u001b[0m\n\u001b[1;32m---> 34\u001b[1;33m         smol, recursion_timeout = enumerate_molecule_from_signature(\n\u001b[0m\u001b[0;32m     35\u001b[0m             \u001b[0mSsig\u001b[0m\u001b[1;33m[\u001b[0m\u001b[0mj\u001b[0m\u001b[1;33m]\u001b[0m\u001b[1;33m,\u001b[0m\u001b[1;33m\u001b[0m\u001b[1;33m\u001b[0m\u001b[0m\n\u001b[0;32m     36\u001b[0m             \u001b[0mAlphabet\u001b[0m\u001b[1;33m,\u001b[0m\u001b[1;33m\u001b[0m\u001b[1;33m\u001b[0m\u001b[0m\n",
      "\u001b[1;32m~\\Documents\\INRAE\\Diophantine\\Enumération\\github\\signature\\src\\signature\\enumerate_signature.py\u001b[0m in \u001b[0;36menumerate_molecule_from_signature\u001b[1;34m(sig, Alphabet, smi, use_smarts, max_nbr_recursion, max_nbr_solution, nbr_component, repeat, verbose)\u001b[0m\n\u001b[0;32m    564\u001b[0m             \u001b[0msig\u001b[0m\u001b[1;33m,\u001b[0m \u001b[0munique\u001b[0m\u001b[1;33m=\u001b[0m\u001b[1;32mFalse\u001b[0m\u001b[1;33m,\u001b[0m \u001b[0mverbose\u001b[0m\u001b[1;33m=\u001b[0m\u001b[0mverbose\u001b[0m\u001b[1;33m\u001b[0m\u001b[1;33m\u001b[0m\u001b[0m\n\u001b[0;32m    565\u001b[0m         )\n\u001b[1;32m--> 566\u001b[1;33m         MG = MolecularGraph(\n\u001b[0m\u001b[0;32m    567\u001b[0m             \u001b[0mA\u001b[0m\u001b[1;33m,\u001b[0m\u001b[1;33m\u001b[0m\u001b[1;33m\u001b[0m\u001b[0m\n\u001b[0;32m    568\u001b[0m             \u001b[0mB\u001b[0m\u001b[1;33m,\u001b[0m\u001b[1;33m\u001b[0m\u001b[1;33m\u001b[0m\u001b[0m\n",
      "\u001b[1;32m~\\Documents\\INRAE\\Diophantine\\Enumération\\github\\signature\\src\\signature\\enumerate_signature.py\u001b[0m in \u001b[0;36m__init__\u001b[1;34m(self, A, B, SA, Alphabet, use_smarts, max_nbr_recursion, ai, max_nbr_solution, nbr_component)\u001b[0m\n\u001b[0;32m    136\u001b[0m             \u001b[1;32mif\u001b[0m \u001b[0mnum\u001b[0m \u001b[1;33m<\u001b[0m \u001b[1;36m1\u001b[0m\u001b[1;33m:\u001b[0m\u001b[1;33m\u001b[0m\u001b[1;33m\u001b[0m\u001b[0m\n\u001b[0;32m    137\u001b[0m                 \u001b[0mprint\u001b[0m\u001b[1;33m(\u001b[0m\u001b[0msa\u001b[0m\u001b[1;33m)\u001b[0m\u001b[1;33m\u001b[0m\u001b[1;33m\u001b[0m\u001b[0m\n\u001b[1;32m--> 138\u001b[1;33m             \u001b[0mrdatom\u001b[0m \u001b[1;33m=\u001b[0m \u001b[0mChem\u001b[0m\u001b[1;33m.\u001b[0m\u001b[0mAtom\u001b[0m\u001b[1;33m(\u001b[0m\u001b[0mnum\u001b[0m\u001b[1;33m)\u001b[0m\u001b[1;33m\u001b[0m\u001b[1;33m\u001b[0m\u001b[0m\n\u001b[0m\u001b[0;32m    139\u001b[0m             \u001b[0mrdatom\u001b[0m\u001b[1;33m.\u001b[0m\u001b[0mSetFormalCharge\u001b[0m\u001b[1;33m(\u001b[0m\u001b[0mint\u001b[0m\u001b[1;33m(\u001b[0m\u001b[0mcharge\u001b[0m\u001b[1;33m)\u001b[0m\u001b[1;33m)\u001b[0m\u001b[1;33m\u001b[0m\u001b[1;33m\u001b[0m\u001b[0m\n\u001b[0;32m    140\u001b[0m             \u001b[0mrdedmol\u001b[0m\u001b[1;33m.\u001b[0m\u001b[0mAddAtom\u001b[0m\u001b[1;33m(\u001b[0m\u001b[0mrdatom\u001b[0m\u001b[1;33m)\u001b[0m\u001b[1;33m\u001b[0m\u001b[1;33m\u001b[0m\u001b[0m\n",
      "\u001b[1;31mOverflowError\u001b[0m: can't convert negative value to unsigned int"
     ]
    }
   ],
   "source": [
    "max_nbr_partition = int(1e5)\n",
    "max_nbr_recursion = 1e5\n",
    "max_nbr_solution = 1001\n",
    "repeat = 10\n",
    "\n",
    "print(f\"ID | smi | weigth | Nsig | NsigTrue | FoundSig | Nmol | FoundMol | CPU-time\")\n",
    "for i in range(5):\n",
    "    # preparation\n",
    "    smi = D[i, 0]\n",
    "    print(i, \"|\", smi)\n",
    "    wt = ExactMolWt(Chem.MolFromSmiles(smi))\n",
    "\n",
    "    mol = Chem.MolFromSmiles(smi)\n",
    "    ms = MoleculeSignature(mol, radius=Alphabet.radius, neighbor=True, use_smarts=use_smarts, nbits=False, boundary_bonds=True, map_root=True, legacy=False)\n",
    "    sig = ms.as_deprecated_string(morgan=False, root=False, neighbors=True)\n",
    "    morgan = reduced_fingerprint(smi, radius=Alphabet.radius, useFeatures=False)\n",
    "\n",
    "    # ecfp_red => signature(s)\n",
    "    st_1 = time.time()\n",
    "    Alphabet.nBits = 2048\n",
    "    Ssig, bool_timeout, ct_solve = enumerate_signature_from_morgan(\n",
    "        morgan, Alphabet, max_nbr_partition=max_nbr_partition, method=\"partitions\", verbose=False\n",
    "    )\n",
    "    foundsig = sig in Ssig\n",
    "    ct_sig = time.time() - st_1\n",
    "    print(f\"...enumeratesignature: nbr signatures {len(Ssig)} CPU-time {ct_sig:.4f}\")\n",
    "\n",
    "    # signature(s) => molecule(s)\n",
    "    st_2 = time.time()\n",
    "    Smol, Nsig = set(), 0\n",
    "    Alphabet.nBits = 0\n",
    "    for j in range(len(Ssig)):\n",
    "        smol, recursion_timeout = enumerate_molecule_from_signature(\n",
    "            Ssig[j],\n",
    "            Alphabet,\n",
    "            smi,\n",
    "            use_smarts=use_smarts,\n",
    "            max_nbr_recursion=max_nbr_recursion,\n",
    "            max_nbr_solution=max_nbr_solution,\n",
    "            repeat=repeat,\n",
    "            verbose=False,\n",
    "        )\n",
    "        if len(smol):\n",
    "            Nsig += 1\n",
    "            print(f\"...enumeratemolecule:  signature {j} nbr molecules {len(smol)}\")\n",
    "        Smol = Smol | set(smol)\n",
    "    ct_mol = time.time() - st_2\n",
    "\n",
    "    ct_total = time.time() - st_1\n",
    "                \n",
    "    Smolfinal = []\n",
    "    for smi2 in Smol:\n",
    "        if test_sol_ECFP_reduced([smi, smi2]):\n",
    "            Smolfinal.append(smi2)\n",
    "    if len(Smol) != len(Smolfinal):\n",
    "        print(\"Smol\", len(Smol), \"Smolfinal\", len(Smolfinal))\n",
    "\n",
    "    foundmol = smi in Smolfinal\n",
    "    if foundmol == False:\n",
    "        print(Smolfinal)\n",
    "        \n",
    "    print(\n",
    "        f\"{i} | {smi} | {wt:.1f} | {len(Ssig)} | {Nsig} | {int(foundsig)} | {len(Smolfinal)} | {int(foundmol)} | {ct_total:.4f} | {ct_solve:.4f}\"\n",
    "    )\n",
    "    \n",
    "    list_i.append(i)\n",
    "    list_smi.append(smi)\n",
    "    list_wt.append(wt)\n",
    "    list_nsig.append(len(Ssig))\n",
    "    list_nsigtrue.append(Nsig)\n",
    "    list_foundsig.append(int(foundsig))\n",
    "    list_nmol.append(len(Smolfinal))\n",
    "    list_foundmol.append(int(foundmol))\n",
    "    list_ct_sig.append(ct_sig)\n",
    "    list_ct_mol.append(ct_mol)\n",
    "    list_ct_all.append(ct_total)\n",
    "    list_ct_solve.append(ct_solve)"
   ]
  },
  {
   "cell_type": "code",
   "execution_count": null,
   "id": "dc66b382",
   "metadata": {},
   "outputs": [],
   "source": [
    "df = pd.DataFrame(\n",
    "    {\n",
    "        \"ID\": list_i,\n",
    "        \"smi\": list_smi,\n",
    "        \"wt\": list_wt,\n",
    "        \"Nsig\": list_nsig,\n",
    "        \"NsigTrue\": list_nsigtrue,\n",
    "        \"FoundSig\": list_foundsig,\n",
    "        \"Nmol\": list_nmol,\n",
    "        \"Foundmol\": list_foundmol,\n",
    "        \"CT ecfp_sig\": list_ct_sig,\n",
    "        \"CT sig_mol\": list_ct_mol,\n",
    "        \"CT ecfp_mol\": list_ct_all,\n",
    "        \"CT solve_partitions\": list_ct_solve,\n",
    "    }\n",
    ")\n",
    "\n",
    "df\n",
    "\n",
    "# df.to_excel(\"RevSig_ecfp_to_mol.xlsx\", index=False)"
   ]
  },
  {
   "cell_type": "code",
   "execution_count": null,
   "id": "59956637",
   "metadata": {},
   "outputs": [],
   "source": []
  }
 ],
 "metadata": {
  "kernelspec": {
   "display_name": "Python 3 (ipykernel)",
   "language": "python",
   "name": "python3"
  },
  "language_info": {
   "codemirror_mode": {
    "name": "ipython",
    "version": 3
   },
   "file_extension": ".py",
   "mimetype": "text/x-python",
   "name": "python",
   "nbconvert_exporter": "python",
   "pygments_lexer": "ipython3",
   "version": "3.9.13"
  }
 },
 "nbformat": 4,
 "nbformat_minor": 5
}
