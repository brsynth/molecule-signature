{
 "cells": [
  {
   "cell_type": "markdown",
   "id": "932686ad-17aa-4d21-b3a1-3fc504d46d9c",
   "metadata": {},
   "source": [
    "# **How-To: create an Alphabet linking Morgan bits to atomic signatures**"
   ]
  },
  {
   "cell_type": "markdown",
   "id": "59354d03-1e73-45ae-98a1-1c17b912d10a",
   "metadata": {},
   "source": [
    "In this notebook we show how to compute an Alphabet from a list of SMILES. This Alphabet links atomic signatures to their Morgan bits and is essential to the enumeration algorithms that enumerate molecules from ECFPs, see the `enumeration_basics` notebook.\n",
    "\n",
    "For an extensive list of SMILES the computation time of the Alphabet could be important. For the MetaNetX database, composed of around 200,000 molecules, this computation takes around 1.5 hours.\n",
    "\n",
    "Methods to merge Alphabets to facilitate batches computation are also presented at the end of the notebook."
   ]
  },
  {
   "cell_type": "code",
   "execution_count": 1,
   "id": "db973d26-d68f-4c1d-ac4f-e3d72c8668e4",
   "metadata": {},
   "outputs": [],
   "source": [
    "from signature.signature_alphabet import compatible_alphabets, load_alphabet, merge_alphabets, SignatureAlphabet"
   ]
  },
  {
   "cell_type": "markdown",
   "id": "0ae33f90-25c9-4570-8a1c-d6747a2af146",
   "metadata": {},
   "source": [
    "## **Creation of an Alphabet**"
   ]
  },
  {
   "cell_type": "markdown",
   "id": "c1abe4fd-d2f0-4764-a136-eaeef053da8b",
   "metadata": {},
   "source": [
    "We first import a list of SMILES."
   ]
  },
  {
   "cell_type": "code",
   "execution_count": 2,
   "id": "fb6d74b2-0dfd-445b-97c0-3f777da48ed5",
   "metadata": {},
   "outputs": [],
   "source": [
    "list_smiles = [\n",
    "    'O=C(O)[C@@H]1O[C@H](Oc2cccc3c(=O)oc(/C=C/CCO)cc23)[C@H](O)[C@H](O)[C@@H]1O',\n",
    "    'Cc1ccc(Cn2nc(C)cc2C(=O)Nc2ccc(Cl)cc2)cc1',\n",
    "    'COc1ccc([C@@H]2NC(=O)c3ccccc3O2)c(OC)c1OC',\n",
    "    'COc1ccc([C@@H]2CCC[C@H](CCc3ccc(O)cc3)O2)cc1',\n",
    "    'C[C@]12CC[C@H]3[C@@](O)(CCC4=CC(=O)CC[C@@]43C)[C@@H]1CC[C@@H]2C(=O)CO',\n",
    "    'C=C1/C(=C\\\\C=C2/CCC[C@]3(C)[C@@H]([C@@H](C)[C@@H](C#CC(O)(CC)CC)OCC)CC[C@@H]23)C[C@@H](O)C[C@@H]1O',\n",
    "    'CC[C@H](C)[C@H](N)C(=O)N[C@H](C(=O)N[C@@H](CO)C(=O)O)[C@@H](C)O',\n",
    "    'CSCCN=C=S',\n",
    "    'O=C1C[C@H](O)[C@](O)([C@@H]2C(=O)[C@]3(Cl)[C@H](Cl)C[C@]2(Cl)C3(Cl)Cl)[C@@H]1O',\n",
    "    'CN(C)[C@@H]1C(=O)[C@H](C(N)=O)[C@H](O)[C@]2(O)C(=O)[C@@H]3C(=O)c4c(O)ccc(Cl)c4[C@](C)(O)[C@@H]3C[C@H]12',\n",
    "    'O[C@@]12[C@@H]3C[C@@](O)(C(Cl)=C3Cl)[C@H]1[C@@H]1C[C@]2(O)[C@@H]2O[C@@H]12',\n",
    "    'CC(=O)NCC/C(=C\\\\N)C(=O)OC(=O)C(=O)C(=O)[O-]',\n",
    "    'CSCC[C@H](NC(=O)[C@@H](N)CO)C(=O)N1CCC[C@@H]1C(=O)O',\n",
    "    'C[C@@H](O)[C@H](NC(=O)CNC(=O)[C@@H](N)CC(=O)O)C(=O)O',\n",
    "    'CCc1ccccc1OC[C@@H](O)CN[C@H]1CCCc2ccccc21',\n",
    "    'CO[C@@H]1CN(C)C(=O)c2ccc(NC(C)=O)cc2OC[C@@H](C)N(Cc2cc(F)ccc2F)C[C@@H]1C',\n",
    "    'NC(=O)CCCCCC[C@H](O)/C=C/CCCCCCCCO',\n",
    "    'CC[C@H](C)[C@H](N)C(=O)N[C@@H](CC(N)=O)C(=O)N[C@@H](CCSC)C(=O)O',\n",
    "    'CCC[C@H](O)C(=O)NCC(=O)[O-]',\n",
    "    'O=C[C@@H]1[C@H](O)[C@](O)(C(=O)[O-])[C@@H]2[C@]3(Cl)C(Cl)=C(Cl)[C@](Cl)([C@@H]3Cl)[C@]12O'\n",
    "]"
   ]
  },
  {
   "cell_type": "markdown",
   "id": "c9c46bd1-ecd3-45c4-bc8e-f55688bcd8ae",
   "metadata": {},
   "source": [
    "We select the parameters of the Alphabet:\n",
    "- `radius` is the radius used in the computation the ECFP and the molecular signature representations;\n",
    "- `nBits` is the number of bits used in the computation of the ECFP representation;\n",
    "- `use_stereo` is a boolean indicating if we want to include or not stereochemistry information in the computation of the ECFP representation."
   ]
  },
  {
   "cell_type": "code",
   "execution_count": 3,
   "id": "7067137f-c017-4a92-b972-fd5b5e6f4e21",
   "metadata": {},
   "outputs": [],
   "source": [
    "radius = 2\n",
    "nBits = 2048\n",
    "use_stereo = True"
   ]
  },
  {
   "cell_type": "markdown",
   "id": "08e4263a-fbfb-43be-aaef-91ea26f47dc1",
   "metadata": {},
   "source": [
    "We now initialize an empty Alphabet with these parameters."
   ]
  },
  {
   "cell_type": "code",
   "execution_count": 4,
   "id": "5e5a4ce7-79b2-4a25-87d6-47dcbc5c51a4",
   "metadata": {},
   "outputs": [],
   "source": [
    "Alphabet = SignatureAlphabet(radius=radius, nBits=nBits, use_stereo=use_stereo)"
   ]
  },
  {
   "cell_type": "markdown",
   "id": "32201bf8-5b0c-426c-b7bc-6d7e571f3c1b",
   "metadata": {},
   "source": [
    "We now fill the Alphabet with the list of SMILES strings `list_smiles` previously imported. After the computation the `print_out` method will indicate the number of fragments associating Morgan bits with atomic signatures that have been obtained."
   ]
  },
  {
   "cell_type": "code",
   "execution_count": 5,
   "id": "4e510233-7f87-4c4b-9733-ec4247d61742",
   "metadata": {},
   "outputs": [
    {
     "name": "stdout",
     "output_type": "stream",
     "text": [
      "... processing alphabet iteration: 0 size: 0 time: 0.000003\n",
      "filename: \n",
      "radius: 2\n",
      "nBits: 2048\n",
      "use_stereo: True\n",
      "alphabet length: 381\n"
     ]
    }
   ],
   "source": [
    "Alphabet.fill(list_smiles, verbose=True)\n",
    "Alphabet.print_out()"
   ]
  },
  {
   "cell_type": "markdown",
   "id": "86fad0a3-9f99-472c-943b-811c948a8eee",
   "metadata": {},
   "source": [
    "We finally export the Alphabet using the `save` method."
   ]
  },
  {
   "cell_type": "code",
   "execution_count": null,
   "id": "a4aa1f65-598c-4c51-86aa-87c33218b3b1",
   "metadata": {},
   "outputs": [],
   "source": [
    "path_alphabet = \"YOUR_PATH_HERE\"\n",
    "Alphabet.save(path_alphabet)"
   ]
  },
  {
   "cell_type": "markdown",
   "id": "05412f6e-57b5-4c8f-bd4e-ca9f0671ed7e",
   "metadata": {},
   "source": [
    "## **Loading of an Alphabet** "
   ]
  },
  {
   "cell_type": "markdown",
   "id": "8332b199-2b3b-46f2-8d04-c02d6313e942",
   "metadata": {},
   "source": [
    "We now show how to import a precomputed Alphabet."
   ]
  },
  {
   "cell_type": "code",
   "execution_count": null,
   "id": "de41b4ef-3356-4f27-8e86-e8bc6f03a5d4",
   "metadata": {},
   "outputs": [],
   "source": [
    "path_alphabet = \"YOUR_PATH_HERE\"\n",
    "Alphabet = load_alphabet(path_alphabet, verbose=True)"
   ]
  },
  {
   "cell_type": "markdown",
   "id": "4dd41ba0-07d9-43a0-af04-5b98269895a9",
   "metadata": {},
   "source": [
    "## **Merging of Alphabets**"
   ]
  },
  {
   "cell_type": "markdown",
   "id": "6fe73cf0-288c-4797-8db7-5dcebec35540",
   "metadata": {},
   "source": [
    "We first import two Alphabets."
   ]
  },
  {
   "cell_type": "code",
   "execution_count": 6,
   "id": "467a72ba-3ada-48f1-8b97-d217b693a758",
   "metadata": {},
   "outputs": [
    {
     "name": "stdout",
     "output_type": "stream",
     "text": [
      "filename: C:/Users/meyerp/Documents/INRAE/Datasets/new/alphabets/metanetx_alphabet.npz\n",
      "radius: 2\n",
      "nBits: 2048\n",
      "use_stereo: True\n",
      "alphabet length: 227717\n"
     ]
    }
   ],
   "source": [
    "path_alphabet_1 = \"YOUR_PATH_HERE\"\n",
    "Alphabet_1 = load_alphabet(path_alphabet_1, verbose=True)"
   ]
  },
  {
   "cell_type": "code",
   "execution_count": 7,
   "id": "9480767f-9d35-4e99-b1cb-5dcf8f6a3cac",
   "metadata": {},
   "outputs": [
    {
     "name": "stdout",
     "output_type": "stream",
     "text": [
      "filename: C:/Users/meyerp/Documents/INRAE/Datasets/new/alphabets/emolecules_alphabet.npz\n",
      "radius: 2\n",
      "nBits: 2048\n",
      "use_stereo: True\n",
      "alphabet length: 570421\n"
     ]
    }
   ],
   "source": [
    "path_alphabet_2 = \"YOUR_PATH_HERE\"\n",
    "Alphabet_2 = load_alphabet(path_alphabet_2, verbose=True)"
   ]
  },
  {
   "cell_type": "markdown",
   "id": "6294855f-ee3a-4cfe-9196-0bcd1abdbf21",
   "metadata": {},
   "source": [
    "We verify if the parameters of the two Alphabets are compatible."
   ]
  },
  {
   "cell_type": "code",
   "execution_count": 8,
   "id": "e16be90d-6a0f-4895-ae8c-cb5e6f0a0655",
   "metadata": {},
   "outputs": [
    {
     "data": {
      "text/plain": [
       "True"
      ]
     },
     "execution_count": 8,
     "metadata": {},
     "output_type": "execute_result"
    }
   ],
   "source": [
    "compatible_alphabets(Alphabet_1, Alphabet_2)"
   ]
  },
  {
   "cell_type": "markdown",
   "id": "4ad01886-03cc-4186-8ceb-457c016167ff",
   "metadata": {},
   "source": [
    "We merge the Alphabets."
   ]
  },
  {
   "cell_type": "code",
   "execution_count": 9,
   "id": "841901cf-02b2-4aef-83ee-7217cb597b30",
   "metadata": {},
   "outputs": [
    {
     "name": "stdout",
     "output_type": "stream",
     "text": [
      "filename: C:/Users/meyerp/Documents/INRAE/Datasets/new/alphabets/metanetx_alphabet.npz\n",
      "radius: 2\n",
      "nBits: 2048\n",
      "use_stereo: True\n",
      "alphabet length: 712930\n"
     ]
    }
   ],
   "source": [
    "Alphabet_merged = merge_alphabets(Alphabet_1, Alphabet_2)\n",
    "Alphabet_merged.print_out()"
   ]
  },
  {
   "cell_type": "code",
   "execution_count": null,
   "id": "ec4d6017-303f-479d-8a0c-da95d65f642f",
   "metadata": {},
   "outputs": [],
   "source": []
  }
 ],
 "metadata": {
  "kernelspec": {
   "display_name": "Python 3 (ipykernel)",
   "language": "python",
   "name": "python3"
  },
  "language_info": {
   "codemirror_mode": {
    "name": "ipython",
    "version": 3
   },
   "file_extension": ".py",
   "mimetype": "text/x-python",
   "name": "python",
   "nbconvert_exporter": "python",
   "pygments_lexer": "ipython3",
   "version": "3.13.1"
  }
 },
 "nbformat": 4,
 "nbformat_minor": 5
}
