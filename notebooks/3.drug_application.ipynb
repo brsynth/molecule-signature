{
 "cells": [
  {
   "cell_type": "markdown",
   "id": "07f655fd-60c4-46e3-a38f-80a21e7c011f",
   "metadata": {},
   "source": [
    "# Reverse engineer molecules: drug application"
   ]
  },
  {
   "cell_type": "markdown",
   "id": "1093f4e5-09cf-42b4-96c7-c742e8572383",
   "metadata": {},
   "source": [
    "#### July 2024 version"
   ]
  },
  {
   "cell_type": "code",
   "execution_count": null,
   "id": "460d62f9-8aaf-4015-b6c9-91e1add0cfeb",
   "metadata": {
    "scrolled": true,
    "tags": []
   },
   "outputs": [],
   "source": [
    "# CHANGE TO YOUR DIRECTORY PATH\n",
    "path_directory = \"C:/Users/meyerp/Documents/INRAE/Diophantine/Enumération/github/signature\"\n",
    "\n",
    "# packages\n",
    "import numpy as np\n",
    "import os\n",
    "\n",
    "import pandas as pd\n",
    "import sys\n",
    "import time\n",
    "\n",
    "np.set_printoptions(threshold=sys.maxsize)\n",
    "\n",
    "os.chdir(path_directory)\n",
    "\n",
    "from rdkit.Chem.Descriptors import ExactMolWt\n",
    "from rdkit import Chem\n",
    "from rdkit import RDLogger\n",
    "\n",
    "RDLogger.DisableLog(\"rdApp.*\")\n",
    "\n",
    "# Reverse engineer molecules from Morgan\n",
    "from signature.enumerate_signature import enumerate_molecule_from_signature, enumerate_signature_from_morgan\n",
    "from signature.enumerate_utils import reduced_fingerprint, test_sol_ECFP, test_sol_ECFP_reduced, test_sol_sig\n",
    "from signature.Signature import MoleculeSignature\n",
    "from signature.signature_alphabet import (\n",
    "    load_alphabet,\n",
    "    morgan_vector_from_signature,\n",
    "    sanitize_molecule,\n",
    "    SignatureAlphabet,\n",
    "    signature_from_smiles,\n",
    ")\n",
    "from signature.utils import read_csv, read_tsv"
   ]
  },
  {
   "cell_type": "code",
   "execution_count": null,
   "id": "22647863",
   "metadata": {},
   "outputs": [],
   "source": [
    "# Alphabet\n",
    "\n",
    "# file_alphabet = \"./datasets/MetaNetX_weight_500_fcharge_Alphabet_radius_2_nBits_2048_smarts_full\" # smarts r2 fcharge\n",
    "file_alphabet = \"./datasets/MetaNetX_weight_500_fcharge_Alphabet_radius_2_boundary_nBits_2048_full\" # smiles r2 boundary fcharge\n",
    "# Get alphabet\n",
    "Alphabet = load_alphabet(file_alphabet)\n",
    "Alphabet.print_out()"
   ]
  },
  {
   "cell_type": "markdown",
   "id": "7a62d57a",
   "metadata": {},
   "source": [
    "- FDA drug molecules"
   ]
  },
  {
   "cell_type": "code",
   "execution_count": null,
   "id": "3ed186b8",
   "metadata": {},
   "outputs": [],
   "source": [
    "file_smiles = \"./datasets/FDA_Approved_structures\"\n",
    "# Load Smiles file\n",
    "H, D = read_csv(file_smiles)\n",
    "print(H, D.shape[0])\n",
    "Smiles = np.asarray(list(set(D[:, 0])))\n",
    "print(f\"Number of smiles: {len(Smiles)}\")"
   ]
  },
  {
   "cell_type": "markdown",
   "id": "84f27dce",
   "metadata": {},
   "source": [
    "- preprocess of drug Smiles"
   ]
  },
  {
   "cell_type": "code",
   "execution_count": null,
   "id": "901d2dc3",
   "metadata": {},
   "outputs": [],
   "source": [
    "# sanitize molecules\n",
    "drug_molecules = []\n",
    "indices_to_keep = []\n",
    "for i in range(D.shape[0]):\n",
    "    smi = D[i, 1]\n",
    "    mol = Chem.MolFromSmiles(smi)\n",
    "    _, smi_san = sanitize_molecule(mol, formalCharge=True)\n",
    "    if len(smi_san) != 0:\n",
    "        indices_to_keep.append(i)\n",
    "    drug_molecules.append(smi_san)\n",
    "D = np.insert(D, D.shape[1], drug_molecules, axis=1)\n",
    "D = D[indices_to_keep, :]\n",
    "\n",
    "# sort D by string length\n",
    "last_column = D[:, 2]\n",
    "lengths = np.array([len(s) for s in last_column])\n",
    "sorted_indices = np.argsort(lengths)\n",
    "D = D[sorted_indices]"
   ]
  },
  {
   "cell_type": "markdown",
   "id": "ded4af0c",
   "metadata": {},
   "source": [
    "- ECFP reduced => Signature => Smiles"
   ]
  },
  {
   "cell_type": "code",
   "execution_count": null,
   "id": "b3fdf01f",
   "metadata": {
    "scrolled": true
   },
   "outputs": [],
   "source": [
    "max_nbr_partition = int(1e5)\n",
    "max_nbr_recursion = 1e5\n",
    "max_nbr_solution = 1001\n",
    "repeat = 10\n",
    "\n",
    "print(f\"ID | smi | Nsig | Nmol | FoundMol\")\n",
    "for i in range(120, D.shape[0]):\n",
    "    # preparation\n",
    "    smi = D[i, 2]\n",
    "    #print(i, \"|\", smi)\n",
    "\n",
    "    mol = Chem.MolFromSmiles(smi)\n",
    "    ms = MoleculeSignature(mol, radius=Alphabet.radius, neighbor=True, use_smarts=Alphabet.use_smarts, nbits=False, boundary_bonds=Alphabet.boundary_bonds, map_root=True, legacy=False)\n",
    "    sig = ms.as_deprecated_string(morgan=False, root=False, neighbors=True)\n",
    "    morgan = reduced_fingerprint(smi, radius=Alphabet.radius, useFeatures=False)\n",
    "\n",
    "    # ecfp_red => signature(s)\n",
    "    Alphabet.nBits = 2048\n",
    "    Ssig, partition_timeout, ct_solve = enumerate_signature_from_morgan(\n",
    "        morgan, Alphabet, max_nbr_partition=max_nbr_partition, method=\"partitions\", verbose=False\n",
    "    )\n",
    "    \n",
    "    # signature(s) => molecule(s)\n",
    "    Smol, Nsig = set(), 0\n",
    "    Alphabet.nBits = 0\n",
    "    for j in range(len(Ssig)):\n",
    "        smol, recursion_timeout = enumerate_molecule_from_signature(\n",
    "            Ssig[j],\n",
    "            Alphabet,\n",
    "            smi,\n",
    "            max_nbr_recursion=max_nbr_recursion,\n",
    "            max_nbr_solution=max_nbr_solution,\n",
    "            repeat=repeat,\n",
    "            verbose=False,\n",
    "        )\n",
    "        Smol = Smol | set(smol)\n",
    "    \n",
    "    Alphabet.nBits = 2048\n",
    "    Smolfinal = []\n",
    "    for smi2 in Smol:\n",
    "        if test_sol_ECFP_reduced([smi, smi2], Alphabet=Alphabet):\n",
    "            Smolfinal.append(smi2)\n",
    "    foundmol = smi in Smolfinal\n",
    "\n",
    "    Smolfinal.append(smi)\n",
    "    Smolfinal = list(set(Smolfinal))\n",
    "    \n",
    "    drugs = [s for s in Smolfinal if s in list(D[:, 2])]\n",
    "    \n",
    "    if len(drugs) > 1:\n",
    "        print(f\"{i} | {smi} | {len(Ssig)} | {len(Smolfinal)} | {int(foundmol)}\")\n",
    "        print(\"nb_drug\", len(drugs), \"Smolfinal\", drugs)"
   ]
  },
  {
   "cell_type": "markdown",
   "id": "d9bd8dca",
   "metadata": {},
   "source": [
    "# Create database from drugbank"
   ]
  },
  {
   "cell_type": "markdown",
   "id": "c6e966f4",
   "metadata": {},
   "source": [
    "- function to export html from url"
   ]
  },
  {
   "cell_type": "code",
   "execution_count": null,
   "id": "fe32bda8",
   "metadata": {},
   "outputs": [],
   "source": [
    "import requests\n",
    "\n",
    "def get_html_content(url, verbose=False):\n",
    "    try:\n",
    "        # Send a GET request to the URL\n",
    "        response = requests.get(url)\n",
    "        \n",
    "        # Check if the request was successful (status code 200)\n",
    "        if response.status_code == 200:\n",
    "            return response.content  # Return the HTML content of the page\n",
    "        else:\n",
    "            print(f\"Failed to retrieve HTML content. Status code: {response.status_code}\")\n",
    "            return None\n",
    "    except Exception as e:\n",
    "        print(f\"Error occurred: {str(e)}\")\n",
    "        return None\n",
    "\n",
    "# Example usage:\n",
    "drugbank_url = \"https://go.drugbank.com/drugs/DB00002\"\n",
    "html_content = get_html_content(drugbank_url)\n",
    "\n",
    "if html_content:\n",
    "    print(\"HTML content retrieved successfully.\")\n",
    "    # Now you can pass this html_content to your extraction function or use it as needed\n",
    "    extract_pubchem_substance_id(html_content)\n",
    "else:\n",
    "    print(\"Failed to retrieve HTML content from the specified URL.\")"
   ]
  },
  {
   "cell_type": "markdown",
   "id": "e577434a",
   "metadata": {},
   "source": [
    "- function to extract pubchem id from html_content"
   ]
  },
  {
   "cell_type": "code",
   "execution_count": null,
   "id": "eaf3ef8e",
   "metadata": {},
   "outputs": [],
   "source": [
    "from bs4 import BeautifulSoup\n",
    "\n",
    "def extract_pubchem_substance_id(html_content, verbose=False):\n",
    "    try:\n",
    "        # Parse the HTML content\n",
    "        soup = BeautifulSoup(html_content, 'html.parser')\n",
    "        \n",
    "        # Find the element containing the PubChem Substance ID\n",
    "        pubchem_substance_element = soup.find('dt', {'id': 'pubchem-substance'})\n",
    "        \n",
    "        if pubchem_substance_element:\n",
    "            # Get the next sibling element which contains the PubChem Substance ID link\n",
    "            pubchem_substance_id_element = pubchem_substance_element.find_next_sibling('dd')\n",
    "            \n",
    "            if pubchem_substance_id_element:\n",
    "                # Extract the PubChem Substance ID\n",
    "                pubchem_substance_id_link = pubchem_substance_id_element.find('a')\n",
    "                \n",
    "                if pubchem_substance_id_link:\n",
    "                    pubchem_substance_id = pubchem_substance_id_link.text.strip()\n",
    "                    if verbose:\n",
    "                        print(f\"PubChem Substance ID: {pubchem_substance_id}\")\n",
    "                    return pubchem_substance_id\n",
    "                elif verbose:\n",
    "                    print(\"PubChem Substance ID link not found in the HTML content\")\n",
    "            elif verbose:\n",
    "                print(\"PubChem Substance ID element not found in the HTML content\")\n",
    "        elif verbose:\n",
    "            print(\"PubChem Substance ID element not found in the HTML content\")\n",
    "    \n",
    "    except Exception as e:\n",
    "        print(f\"Error: {e}\")\n",
    "    \n",
    "    return -1\n",
    "    \n",
    "# Example HTML content (replace with your actual HTML content)\n",
    "html_content = '''\n",
    "<a target=\"_blank\" rel=\"noopener\" href=\"http://www.genome.jp/dbget-bin/www_bget?drug:D03455\">D03455</a></dd><dt class=\"col-md-4 col-sm-5\" id=\"pubchem-substance\">PubChem Substance</dt><dd class=\"col-md-8 col-sm-7\"><a target=\"_blank\" rel=\"noopener\" href=\"http://pubchem.ncbi.nlm.nih.gov/summary/summary.cgi?sid=46507042\">46507042</a></dd>\n",
    "'''\n",
    "\n",
    "# Call the function with the provided HTML content\n",
    "extract_pubchem_substance_id(html_content)"
   ]
  },
  {
   "cell_type": "markdown",
   "id": "f115528e",
   "metadata": {},
   "source": [
    "- loop to create a list of pubchem id from drugbank id"
   ]
  },
  {
   "cell_type": "code",
   "execution_count": null,
   "id": "f509e8e0",
   "metadata": {},
   "outputs": [],
   "source": [
    "pubchem_ids = []\n",
    "for n in range(1, 10):\n",
    "    drugbank_id = \"DB\" + \"0\"*(5-len(str(n)))+str(n)\n",
    "    drugbank_url = \"https://go.drugbank.com/drugs/\" + drugbank_id\n",
    "    html_content = get_html_content(drugbank_url)\n",
    "    pubchem_id = extract_pubchem_substance_id(html_content)\n",
    "    if pubchem_id != -1:\n",
    "        pubchem_ids.append(pubchem_id)"
   ]
  },
  {
   "cell_type": "code",
   "execution_count": null,
   "id": "90719632",
   "metadata": {},
   "outputs": [],
   "source": [
    "pubchem_ids"
   ]
  },
  {
   "cell_type": "markdown",
   "id": "d59b340c",
   "metadata": {},
   "source": [
    "- smiles"
   ]
  },
  {
   "cell_type": "code",
   "execution_count": null,
   "id": "559a3b54",
   "metadata": {},
   "outputs": [],
   "source": [
    "from selenium import webdriver\n",
    "from selenium.webdriver.chrome.service import Service\n",
    "from webdriver_manager.chrome import ChromeDriverManager\n",
    "\n",
    "def get_page_text(url):\n",
    "    try:\n",
    "        # Set up Selenium Chrome web driver\n",
    "        driver_service = Service(ChromeDriverManager().install())\n",
    "        driver = webdriver.Chrome(service=driver_service)\n",
    "        \n",
    "        # Open the URL in Selenium WebDriver\n",
    "        driver.get(url)\n",
    "        \n",
    "        # Wait for the page to fully load\n",
    "        driver.implicitly_wait(10)  # Adjust the timeout as needed\n",
    "        \n",
    "        # Get the entire visible text from the webpage\n",
    "        page_text = driver.find_element(By.TAG_NAME, 'body').text\n",
    "        \n",
    "        # Close the Selenium WebDriver\n",
    "        driver.quit()\n",
    "        \n",
    "        return page_text\n",
    "    \n",
    "    except Exception as e:\n",
    "        print(f\"Error occurred: {e}\")\n",
    "        return None\n",
    "\n",
    "# Example usage:\n",
    "url = \"https://pubchem.ncbi.nlm.nih.gov/compound/46507042#section=Canonical-SMILES&fullscreen=true\"\n",
    "page_text = get_page_text(url)\n",
    "\n",
    "if page_text:\n",
    "    print(f\"Page text:\\n{page_text}\")\n",
    "else:\n",
    "    print(\"Failed to retrieve page text.\")"
   ]
  },
  {
   "cell_type": "code",
   "execution_count": null,
   "id": "daec0037",
   "metadata": {},
   "outputs": [],
   "source": [
    "def extract_smiles_from_pubchem(url):\n",
    "    page_text = get_page_text(url)\n",
    "    page_content = page_text.split(\"\\n\")\n",
    "    indice = page_content.index(\"Canonical SMILES\")\n",
    "    smi = page_content[indice + 1]\n",
    "    return smi\n",
    "\n",
    "url = \"https://pubchem.ncbi.nlm.nih.gov/compound/46507042#section=Canonical-SMILES&fullscreen=true\"\n",
    "extract_smiles_from_pubchem(url)"
   ]
  },
  {
   "cell_type": "code",
   "execution_count": null,
   "id": "e9933f59",
   "metadata": {},
   "outputs": [],
   "source": [
    "drugs_smiles = []\n",
    "for pubchem_id in pubchem_ids:\n",
    "    #print(pubchem_id)\n",
    "    url = \"https://pubchem.ncbi.nlm.nih.gov/compound/\" + pubchem_id + \"#section=Canonical-SMILES&fullscreen=true\"\n",
    "    smiles = extract_smiles_from_pubchem(url)\n",
    "    #print(smiles)\n",
    "    drugs_smiles.append(smiles)"
   ]
  },
  {
   "cell_type": "markdown",
   "id": "47c0813a",
   "metadata": {},
   "source": [
    "#### old functions (to del)"
   ]
  },
  {
   "cell_type": "markdown",
   "id": "75717759",
   "metadata": {},
   "source": [
    "- Fonctions to search if a molecule is a drug"
   ]
  },
  {
   "cell_type": "code",
   "execution_count": null,
   "id": "a6725c7d",
   "metadata": {},
   "outputs": [],
   "source": [
    "import requests\n",
    "\n",
    "def is_drug_or_not(smiles, verbose=False):\n",
    "    base_url = 'https://pubchem.ncbi.nlm.nih.gov/rest/pug/compound/smiles/'\n",
    "    url = base_url + f'{smiles}/cids/JSON'\n",
    "    \n",
    "    drugbank_id = -1\n",
    "    \n",
    "    try:\n",
    "        response = requests.get(url)\n",
    "        response.raise_for_status()  # Raise exception for bad status codes\n",
    "        \n",
    "        data = response.json()\n",
    "        if 'IdentifierList' in data and 'CID' in data['IdentifierList']:\n",
    "            cid = data['IdentifierList']['CID'][0]\n",
    "            \n",
    "            # Now, check if the compound is categorized as a drug\n",
    "            drug_url = f'https://pubchem.ncbi.nlm.nih.gov/rest/pug/compound/cid/{cid}/property/DrugBankID/JSON'\n",
    "            drug_response = requests.get(drug_url)\n",
    "            drug_data = drug_response.json()\n",
    "            \n",
    "            if 'PropertyTable' in drug_data and 'DrugBankID' in drug_data['PropertyTable']:\n",
    "                drugbank_id = drug_data['PropertyTable']['DrugBankID']\n",
    "                if verbose:\n",
    "                    if drugbank_id:\n",
    "                        print(f\"Molecule with SMILES '{smiles}' is registered as a drug in PubChem (DrugBank ID: {drugbank_id}, CID: {cid})\")\n",
    "                    else:\n",
    "                        print(f\"Molecule with SMILES '{smiles}' is not registered as a drug in PubChem (CID: {cid})\")\n",
    "            else:\n",
    "                if verbose:\n",
    "                    print(f\"Molecule with SMILES '{smiles}' is not registered as a drug in PubChem (CID: {cid})\")\n",
    "        else:\n",
    "            if verbose:\n",
    "                print(f\"Molecule with SMILES '{smiles}' not found in PubChem\")\n",
    "    \n",
    "    except requests.exceptions.RequestException as e:\n",
    "        if verbose:\n",
    "            print(f\"Error: {e}\")\n",
    "    \n",
    "    return drugbank_id, cid"
   ]
  },
  {
   "cell_type": "code",
   "execution_count": null,
   "id": "ba5a2b6f",
   "metadata": {},
   "outputs": [],
   "source": [
    "import requests\n",
    "\n",
    "def check_pubchem_cid_in_drugbank(pubchem_cid):\n",
    "    try:\n",
    "        # Construct the DrugBank REST API URL\n",
    "        base_url = 'https://go.drugbank.com/structures/'\n",
    "        url = base_url + f'pubchem_cid/{pubchem_cid}.json'\n",
    "        \n",
    "        # Send a GET request to DrugBank API\n",
    "        response = requests.get(url)\n",
    "        response.raise_for_status()  # Raise exception for bad status codes\n",
    "        \n",
    "        data = response.json()\n",
    "        \n",
    "        # Check if the molecule is found in DrugBank\n",
    "        if 'drugbank_id' in data:\n",
    "            drugbank_id = data['drugbank_id']\n",
    "            print(f\"Compound with PubChem CID '{pubchem_cid}' is registered as a drug in DrugBank (DrugBank ID: {drugbank_id})\")\n",
    "        else:\n",
    "            print(f\"Compound with PubChem CID '{pubchem_cid}' is not registered as a drug in DrugBank\")\n",
    "    \n",
    "    except requests.exceptions.RequestException as e:\n",
    "        print(f\"Error: {e}\")\n",
    "\n",
    "# Example usage:\n",
    "pubchem_cid = '12620'  # Replace with the PubChem CID you want to check\n",
    "check_pubchem_cid_in_drugbank(pubchem_cid)"
   ]
  },
  {
   "cell_type": "code",
   "execution_count": null,
   "id": "f54b9b92",
   "metadata": {},
   "outputs": [],
   "source": [
    "def nb_drug_in_a_set(S, verbose=False):\n",
    "    drugs_id = set()\n",
    "    for s in S:\n",
    "        drug_id = is_drug_or_not(s, verbose=verbose)\n",
    "        if drug_id != -1:\n",
    "            drugs_id = drugs_id.add(drug_id)\n",
    "    return len(drugs_id)"
   ]
  },
  {
   "cell_type": "code",
   "execution_count": null,
   "id": "11ecfa99",
   "metadata": {},
   "outputs": [],
   "source": [
    "# Example usage:\n",
    "smiles = 'CCCCCCCCCCCCCCCCCCCCCCO'\n",
    "print(check_if_drugbank_drug(smiles))"
   ]
  },
  {
   "cell_type": "code",
   "execution_count": null,
   "id": "044626fe",
   "metadata": {},
   "outputs": [],
   "source": [
    "# Example usage:\n",
    "smiles = 'CCCCCCCCCCCCCCCCCCCCCCO'\n",
    "print(is_drug_or_not(smiles))\n",
    "\n",
    "S = ['CCCCCCCCCCCCCCCCCCCCCCO']\n",
    "print(nb_drug_in_a_set(S, verbose=False))"
   ]
  },
  {
   "cell_type": "code",
   "execution_count": null,
   "id": "539b9b74",
   "metadata": {},
   "outputs": [],
   "source": []
  }
 ],
 "metadata": {
  "kernelspec": {
   "display_name": "Python 3 (ipykernel)",
   "language": "python",
   "name": "python3"
  },
  "language_info": {
   "codemirror_mode": {
    "name": "ipython",
    "version": 3
   },
   "file_extension": ".py",
   "mimetype": "text/x-python",
   "name": "python",
   "nbconvert_exporter": "python",
   "pygments_lexer": "ipython3",
   "version": "3.9.13"
  }
 },
 "nbformat": 4,
 "nbformat_minor": 5
}
